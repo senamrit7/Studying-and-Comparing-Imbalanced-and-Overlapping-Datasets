{
  "nbformat": 4,
  "nbformat_minor": 0,
  "metadata": {
    "colab": {
      "name": "Second___unbalanced-one-F-overlap.ipynb",
      "provenance": [],
      "collapsed_sections": []
    },
    "kernelspec": {
      "name": "python3",
      "display_name": "Python 3"
    },
    "language_info": {
      "name": "python"
    }
  },
  "cells": [
    {
      "cell_type": "code",
      "metadata": {
        "colab": {
          "base_uri": "https://localhost:8080/"
        },
        "id": "At-v6GBxeYg-",
        "outputId": "cc4b7515-bae7-4b4b-bf49-812f83617da7"
      },
      "source": [
        "pip install researchpy"
      ],
      "execution_count": null,
      "outputs": [
        {
          "output_type": "stream",
          "name": "stdout",
          "text": [
            "Collecting researchpy\n",
            "  Downloading researchpy-0.3.2-py3-none-any.whl (15 kB)\n",
            "Requirement already satisfied: scipy in /usr/local/lib/python3.7/dist-packages (from researchpy) (1.4.1)\n",
            "Requirement already satisfied: statsmodels in /usr/local/lib/python3.7/dist-packages (from researchpy) (0.10.2)\n",
            "Requirement already satisfied: numpy in /usr/local/lib/python3.7/dist-packages (from researchpy) (1.19.5)\n",
            "Requirement already satisfied: patsy in /usr/local/lib/python3.7/dist-packages (from researchpy) (0.5.2)\n",
            "Requirement already satisfied: pandas in /usr/local/lib/python3.7/dist-packages (from researchpy) (1.1.5)\n",
            "Requirement already satisfied: python-dateutil>=2.7.3 in /usr/local/lib/python3.7/dist-packages (from pandas->researchpy) (2.8.2)\n",
            "Requirement already satisfied: pytz>=2017.2 in /usr/local/lib/python3.7/dist-packages (from pandas->researchpy) (2018.9)\n",
            "Requirement already satisfied: six>=1.5 in /usr/local/lib/python3.7/dist-packages (from python-dateutil>=2.7.3->pandas->researchpy) (1.15.0)\n",
            "Installing collected packages: researchpy\n",
            "Successfully installed researchpy-0.3.2\n"
          ]
        }
      ]
    },
    {
      "cell_type": "markdown",
      "metadata": {
        "id": "YFRsVeUkAMbW"
      },
      "source": [
        "# Importing necessary libraries"
      ]
    },
    {
      "cell_type": "code",
      "metadata": {
        "id": "WFA23qxX5xJV",
        "colab": {
          "base_uri": "https://localhost:8080/"
        },
        "outputId": "797a1934-113e-48a8-e6fa-f2a7c1d6f1b2"
      },
      "source": [
        "import pandas as pd\n",
        "import numpy as np\n",
        "import sklearn\n",
        "import scipy\n",
        "import seaborn as sns\n",
        "import matplotlib.pyplot as plt\n",
        "from sklearn.tree import DecisionTreeClassifier\n",
        "from sklearn.neighbors import KNeighborsClassifier\n",
        "from sklearn.svm import SVC\n",
        "from sklearn.model_selection import train_test_split\n",
        "from sklearn.linear_model import LogisticRegression\n",
        "from sklearn.metrics import accuracy_score, confusion_matrix, classification_report\n",
        "from sklearn.model_selection import KFold\n",
        "from sklearn.model_selection import cross_val_score\n",
        "from sklearn.model_selection import GridSearchCV\n",
        "from sklearn.ensemble import IsolationForest\n",
        "from sklearn.neighbors import LocalOutlierFactor\n",
        "from sklearn.svm import OneClassSVM\n",
        "from imblearn.combine import SMOTETomek\n",
        "from collections import Counter\n",
        "import researchpy as rp\n",
        "from imblearn.over_sampling import ADASYN"
      ],
      "execution_count": null,
      "outputs": [
        {
          "output_type": "stream",
          "name": "stderr",
          "text": [
            "/usr/local/lib/python3.7/dist-packages/statsmodels/tools/_testing.py:19: FutureWarning: pandas.util.testing is deprecated. Use the functions in the public API at pandas.testing instead.\n",
            "  import pandas.util.testing as tm\n"
          ]
        }
      ]
    },
    {
      "cell_type": "markdown",
      "metadata": {
        "id": "hRqp-idwANqS"
      },
      "source": [
        "# Uploading the dataset"
      ]
    },
    {
      "cell_type": "code",
      "metadata": {
        "colab": {
          "resources": {
            "http://localhost:8080/nbextensions/google.colab/files.js": {
              "data": "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",
              "ok": true,
              "headers": [
                [
                  "content-type",
                  "application/javascript"
                ]
              ],
              "status": 200,
              "status_text": ""
            }
          },
          "base_uri": "https://localhost:8080/",
          "height": 73
        },
        "id": "Zob97giiwwjg",
        "outputId": "23634348-3103-4699-b6b3-3dfc57f4389e"
      },
      "source": [
        "from google.colab import files\n",
        "uploaded = files.upload()"
      ],
      "execution_count": null,
      "outputs": [
        {
          "output_type": "display_data",
          "data": {
            "text/html": [
              "\n",
              "     <input type=\"file\" id=\"files-ac56c6e8-0e51-42c3-bbe8-351511e92985\" name=\"files[]\" multiple disabled\n",
              "        style=\"border:none\" />\n",
              "     <output id=\"result-ac56c6e8-0e51-42c3-bbe8-351511e92985\">\n",
              "      Upload widget is only available when the cell has been executed in the\n",
              "      current browser session. Please rerun this cell to enable.\n",
              "      </output>\n",
              "      <script src=\"/nbextensions/google.colab/files.js\"></script> "
            ],
            "text/plain": [
              "<IPython.core.display.HTML object>"
            ]
          },
          "metadata": {}
        },
        {
          "output_type": "stream",
          "name": "stdout",
          "text": [
            "Saving unbalanced-one-F-overlap.csv to unbalanced-one-F-overlap.csv\n"
          ]
        }
      ]
    },
    {
      "cell_type": "markdown",
      "metadata": {
        "id": "kFpd2laiAVQP"
      },
      "source": [
        "# Reading the dataset"
      ]
    },
    {
      "cell_type": "code",
      "metadata": {
        "colab": {
          "base_uri": "https://localhost:8080/",
          "height": 203
        },
        "id": "TuIQzd1JND6f",
        "outputId": "3ab7f0e8-be28-42cc-f813-c9b5a4236bd3"
      },
      "source": [
        "df=pd.read_csv('unbalanced-one-F-overlap.csv')\n",
        "df.head()"
      ],
      "execution_count": null,
      "outputs": [
        {
          "output_type": "execute_result",
          "data": {
            "text/html": [
              "<div>\n",
              "<style scoped>\n",
              "    .dataframe tbody tr th:only-of-type {\n",
              "        vertical-align: middle;\n",
              "    }\n",
              "\n",
              "    .dataframe tbody tr th {\n",
              "        vertical-align: top;\n",
              "    }\n",
              "\n",
              "    .dataframe thead th {\n",
              "        text-align: right;\n",
              "    }\n",
              "</style>\n",
              "<table border=\"1\" class=\"dataframe\">\n",
              "  <thead>\n",
              "    <tr style=\"text-align: right;\">\n",
              "      <th></th>\n",
              "      <th>X1</th>\n",
              "      <th>X2</th>\n",
              "      <th>X3</th>\n",
              "      <th>X4</th>\n",
              "      <th>Y</th>\n",
              "    </tr>\n",
              "  </thead>\n",
              "  <tbody>\n",
              "    <tr>\n",
              "      <th>0</th>\n",
              "      <td>3.071602</td>\n",
              "      <td>3.191258</td>\n",
              "      <td>2.831753</td>\n",
              "      <td>2.835971</td>\n",
              "      <td>0</td>\n",
              "    </tr>\n",
              "    <tr>\n",
              "      <th>1</th>\n",
              "      <td>2.906069</td>\n",
              "      <td>2.704762</td>\n",
              "      <td>3.061993</td>\n",
              "      <td>2.809672</td>\n",
              "      <td>0</td>\n",
              "    </tr>\n",
              "    <tr>\n",
              "      <th>2</th>\n",
              "      <td>2.845395</td>\n",
              "      <td>3.004331</td>\n",
              "      <td>3.060281</td>\n",
              "      <td>3.118946</td>\n",
              "      <td>0</td>\n",
              "    </tr>\n",
              "    <tr>\n",
              "      <th>3</th>\n",
              "      <td>3.168177</td>\n",
              "      <td>3.052644</td>\n",
              "      <td>3.027990</td>\n",
              "      <td>3.139897</td>\n",
              "      <td>0</td>\n",
              "    </tr>\n",
              "    <tr>\n",
              "      <th>4</th>\n",
              "      <td>3.092668</td>\n",
              "      <td>3.115063</td>\n",
              "      <td>2.897104</td>\n",
              "      <td>2.908213</td>\n",
              "      <td>0</td>\n",
              "    </tr>\n",
              "  </tbody>\n",
              "</table>\n",
              "</div>"
            ],
            "text/plain": [
              "         X1        X2        X3        X4  Y\n",
              "0  3.071602  3.191258  2.831753  2.835971  0\n",
              "1  2.906069  2.704762  3.061993  2.809672  0\n",
              "2  2.845395  3.004331  3.060281  3.118946  0\n",
              "3  3.168177  3.052644  3.027990  3.139897  0\n",
              "4  3.092668  3.115063  2.897104  2.908213  0"
            ]
          },
          "metadata": {},
          "execution_count": 4
        }
      ]
    },
    {
      "cell_type": "markdown",
      "metadata": {
        "id": "w2lC8r6FAg6d"
      },
      "source": [
        "# Exploring the data"
      ]
    },
    {
      "cell_type": "code",
      "metadata": {
        "colab": {
          "base_uri": "https://localhost:8080/"
        },
        "id": "EXAfccdHqheM",
        "outputId": "9edd8c65-fbf6-44d1-afb6-68033ced9e26"
      },
      "source": [
        "df.columns"
      ],
      "execution_count": null,
      "outputs": [
        {
          "output_type": "execute_result",
          "data": {
            "text/plain": [
              "Index(['X1', 'X2', 'X3', 'X4', 'Y'], dtype='object')"
            ]
          },
          "metadata": {},
          "execution_count": 7
        }
      ]
    },
    {
      "cell_type": "code",
      "metadata": {
        "colab": {
          "base_uri": "https://localhost:8080/"
        },
        "id": "TIy5kXypNJmK",
        "outputId": "a4e66be3-6385-4ae7-dfe6-a17a4a7684e6"
      },
      "source": [
        "df.shape"
      ],
      "execution_count": null,
      "outputs": [
        {
          "output_type": "execute_result",
          "data": {
            "text/plain": [
              "(300, 5)"
            ]
          },
          "metadata": {},
          "execution_count": 8
        }
      ]
    },
    {
      "cell_type": "code",
      "metadata": {
        "colab": {
          "base_uri": "https://localhost:8080/",
          "height": 295
        },
        "id": "ffL-LacieIY9",
        "outputId": "b51d459a-fca0-4cff-e1fa-d7a1b4e89153"
      },
      "source": [
        "df.describe()"
      ],
      "execution_count": null,
      "outputs": [
        {
          "output_type": "execute_result",
          "data": {
            "text/html": [
              "<div>\n",
              "<style scoped>\n",
              "    .dataframe tbody tr th:only-of-type {\n",
              "        vertical-align: middle;\n",
              "    }\n",
              "\n",
              "    .dataframe tbody tr th {\n",
              "        vertical-align: top;\n",
              "    }\n",
              "\n",
              "    .dataframe thead th {\n",
              "        text-align: right;\n",
              "    }\n",
              "</style>\n",
              "<table border=\"1\" class=\"dataframe\">\n",
              "  <thead>\n",
              "    <tr style=\"text-align: right;\">\n",
              "      <th></th>\n",
              "      <th>X1</th>\n",
              "      <th>X2</th>\n",
              "      <th>X3</th>\n",
              "      <th>X4</th>\n",
              "      <th>Y</th>\n",
              "    </tr>\n",
              "  </thead>\n",
              "  <tbody>\n",
              "    <tr>\n",
              "      <th>count</th>\n",
              "      <td>300.000000</td>\n",
              "      <td>300.000000</td>\n",
              "      <td>300.000000</td>\n",
              "      <td>300.000000</td>\n",
              "      <td>300.000000</td>\n",
              "    </tr>\n",
              "    <tr>\n",
              "      <th>mean</th>\n",
              "      <td>3.011260</td>\n",
              "      <td>-0.204849</td>\n",
              "      <td>-0.195428</td>\n",
              "      <td>3.007058</td>\n",
              "      <td>0.800000</td>\n",
              "    </tr>\n",
              "    <tr>\n",
              "      <th>std</th>\n",
              "      <td>0.178628</td>\n",
              "      <td>1.629463</td>\n",
              "      <td>1.601334</td>\n",
              "      <td>0.128209</td>\n",
              "      <td>0.400668</td>\n",
              "    </tr>\n",
              "    <tr>\n",
              "      <th>min</th>\n",
              "      <td>2.600397</td>\n",
              "      <td>-1.712296</td>\n",
              "      <td>-1.396222</td>\n",
              "      <td>2.400113</td>\n",
              "      <td>0.000000</td>\n",
              "    </tr>\n",
              "    <tr>\n",
              "      <th>25%</th>\n",
              "      <td>2.885673</td>\n",
              "      <td>-1.141664</td>\n",
              "      <td>-1.050315</td>\n",
              "      <td>2.938706</td>\n",
              "      <td>1.000000</td>\n",
              "    </tr>\n",
              "    <tr>\n",
              "      <th>50%</th>\n",
              "      <td>2.998888</td>\n",
              "      <td>-0.950200</td>\n",
              "      <td>-0.954608</td>\n",
              "      <td>3.010720</td>\n",
              "      <td>1.000000</td>\n",
              "    </tr>\n",
              "    <tr>\n",
              "      <th>75%</th>\n",
              "      <td>3.135381</td>\n",
              "      <td>-0.576635</td>\n",
              "      <td>-0.791823</td>\n",
              "      <td>3.080449</td>\n",
              "      <td>1.000000</td>\n",
              "    </tr>\n",
              "    <tr>\n",
              "      <th>max</th>\n",
              "      <td>3.496260</td>\n",
              "      <td>3.523672</td>\n",
              "      <td>3.309140</td>\n",
              "      <td>3.464218</td>\n",
              "      <td>1.000000</td>\n",
              "    </tr>\n",
              "  </tbody>\n",
              "</table>\n",
              "</div>"
            ],
            "text/plain": [
              "               X1          X2          X3          X4           Y\n",
              "count  300.000000  300.000000  300.000000  300.000000  300.000000\n",
              "mean     3.011260   -0.204849   -0.195428    3.007058    0.800000\n",
              "std      0.178628    1.629463    1.601334    0.128209    0.400668\n",
              "min      2.600397   -1.712296   -1.396222    2.400113    0.000000\n",
              "25%      2.885673   -1.141664   -1.050315    2.938706    1.000000\n",
              "50%      2.998888   -0.950200   -0.954608    3.010720    1.000000\n",
              "75%      3.135381   -0.576635   -0.791823    3.080449    1.000000\n",
              "max      3.496260    3.523672    3.309140    3.464218    1.000000"
            ]
          },
          "metadata": {},
          "execution_count": 9
        }
      ]
    },
    {
      "cell_type": "code",
      "metadata": {
        "colab": {
          "base_uri": "https://localhost:8080/"
        },
        "id": "bQ4bGQLFeI65",
        "outputId": "5f21be35-6f58-4a4c-f7a2-1bdecffe0e50"
      },
      "source": [
        "df.isnull().sum()"
      ],
      "execution_count": null,
      "outputs": [
        {
          "output_type": "execute_result",
          "data": {
            "text/plain": [
              "X1    0\n",
              "X2    0\n",
              "X3    0\n",
              "X4    0\n",
              "Y     0\n",
              "dtype: int64"
            ]
          },
          "metadata": {},
          "execution_count": 10
        }
      ]
    },
    {
      "cell_type": "markdown",
      "metadata": {
        "id": "1FMLt15NlfMd"
      },
      "source": [
        "# Statistical and Consistency Analysis"
      ]
    },
    {
      "cell_type": "code",
      "metadata": {
        "colab": {
          "base_uri": "https://localhost:8080/"
        },
        "id": "pqzLZE5xeQor",
        "outputId": "e43c8291-17be-4307-e2e2-9e4bf4b96acf"
      },
      "source": [
        "df['Y'].value_counts()"
      ],
      "execution_count": null,
      "outputs": [
        {
          "output_type": "execute_result",
          "data": {
            "text/plain": [
              "1    240\n",
              "0     60\n",
              "Name: Y, dtype: int64"
            ]
          },
          "metadata": {},
          "execution_count": 11
        }
      ]
    },
    {
      "cell_type": "code",
      "metadata": {
        "colab": {
          "base_uri": "https://localhost:8080/",
          "height": 203
        },
        "id": "lOkeJsjjkz8U",
        "outputId": "7e80f6d7-cafb-4b75-87e3-8b476de338da"
      },
      "source": [
        "df_0 = df[df[\"Y\"] == 0]\n",
        "df_0.head()"
      ],
      "execution_count": null,
      "outputs": [
        {
          "output_type": "execute_result",
          "data": {
            "text/html": [
              "<div>\n",
              "<style scoped>\n",
              "    .dataframe tbody tr th:only-of-type {\n",
              "        vertical-align: middle;\n",
              "    }\n",
              "\n",
              "    .dataframe tbody tr th {\n",
              "        vertical-align: top;\n",
              "    }\n",
              "\n",
              "    .dataframe thead th {\n",
              "        text-align: right;\n",
              "    }\n",
              "</style>\n",
              "<table border=\"1\" class=\"dataframe\">\n",
              "  <thead>\n",
              "    <tr style=\"text-align: right;\">\n",
              "      <th></th>\n",
              "      <th>X1</th>\n",
              "      <th>X2</th>\n",
              "      <th>X3</th>\n",
              "      <th>X4</th>\n",
              "      <th>Y</th>\n",
              "    </tr>\n",
              "  </thead>\n",
              "  <tbody>\n",
              "    <tr>\n",
              "      <th>0</th>\n",
              "      <td>3.071602</td>\n",
              "      <td>3.191258</td>\n",
              "      <td>2.831753</td>\n",
              "      <td>2.835971</td>\n",
              "      <td>0</td>\n",
              "    </tr>\n",
              "    <tr>\n",
              "      <th>1</th>\n",
              "      <td>2.906069</td>\n",
              "      <td>2.704762</td>\n",
              "      <td>3.061993</td>\n",
              "      <td>2.809672</td>\n",
              "      <td>0</td>\n",
              "    </tr>\n",
              "    <tr>\n",
              "      <th>2</th>\n",
              "      <td>2.845395</td>\n",
              "      <td>3.004331</td>\n",
              "      <td>3.060281</td>\n",
              "      <td>3.118946</td>\n",
              "      <td>0</td>\n",
              "    </tr>\n",
              "    <tr>\n",
              "      <th>3</th>\n",
              "      <td>3.168177</td>\n",
              "      <td>3.052644</td>\n",
              "      <td>3.027990</td>\n",
              "      <td>3.139897</td>\n",
              "      <td>0</td>\n",
              "    </tr>\n",
              "    <tr>\n",
              "      <th>4</th>\n",
              "      <td>3.092668</td>\n",
              "      <td>3.115063</td>\n",
              "      <td>2.897104</td>\n",
              "      <td>2.908213</td>\n",
              "      <td>0</td>\n",
              "    </tr>\n",
              "  </tbody>\n",
              "</table>\n",
              "</div>"
            ],
            "text/plain": [
              "         X1        X2        X3        X4  Y\n",
              "0  3.071602  3.191258  2.831753  2.835971  0\n",
              "1  2.906069  2.704762  3.061993  2.809672  0\n",
              "2  2.845395  3.004331  3.060281  3.118946  0\n",
              "3  3.168177  3.052644  3.027990  3.139897  0\n",
              "4  3.092668  3.115063  2.897104  2.908213  0"
            ]
          },
          "metadata": {},
          "execution_count": 12
        }
      ]
    },
    {
      "cell_type": "code",
      "metadata": {
        "colab": {
          "base_uri": "https://localhost:8080/",
          "height": 304
        },
        "id": "Jgv_JBxmlA_Z",
        "outputId": "8554fd17-8685-4248-87b7-236e0ca39541"
      },
      "source": [
        "rp.summary_cont(df_0)"
      ],
      "execution_count": null,
      "outputs": [
        {
          "output_type": "stream",
          "name": "stdout",
          "text": [
            "\n",
            "\n"
          ]
        },
        {
          "output_type": "stream",
          "name": "stderr",
          "text": [
            "/usr/local/lib/python3.7/dist-packages/scipy/stats/_distn_infrastructure.py:2003: RuntimeWarning: invalid value encountered in multiply\n",
            "  lower_bound = _a * scale + loc\n",
            "/usr/local/lib/python3.7/dist-packages/scipy/stats/_distn_infrastructure.py:2004: RuntimeWarning: invalid value encountered in multiply\n",
            "  upper_bound = _b * scale + loc\n"
          ]
        },
        {
          "output_type": "execute_result",
          "data": {
            "text/html": [
              "<div>\n",
              "<style scoped>\n",
              "    .dataframe tbody tr th:only-of-type {\n",
              "        vertical-align: middle;\n",
              "    }\n",
              "\n",
              "    .dataframe tbody tr th {\n",
              "        vertical-align: top;\n",
              "    }\n",
              "\n",
              "    .dataframe thead th {\n",
              "        text-align: right;\n",
              "    }\n",
              "</style>\n",
              "<table border=\"1\" class=\"dataframe\">\n",
              "  <thead>\n",
              "    <tr style=\"text-align: right;\">\n",
              "      <th></th>\n",
              "      <th>Variable</th>\n",
              "      <th>N</th>\n",
              "      <th>Mean</th>\n",
              "      <th>SD</th>\n",
              "      <th>SE</th>\n",
              "      <th>95% Conf.</th>\n",
              "      <th>Interval</th>\n",
              "    </tr>\n",
              "  </thead>\n",
              "  <tbody>\n",
              "    <tr>\n",
              "      <th>0</th>\n",
              "      <td>X1</td>\n",
              "      <td>60.0</td>\n",
              "      <td>3.0007</td>\n",
              "      <td>0.1610</td>\n",
              "      <td>0.0208</td>\n",
              "      <td>2.9591</td>\n",
              "      <td>3.0423</td>\n",
              "    </tr>\n",
              "    <tr>\n",
              "      <th>1</th>\n",
              "      <td>X2</td>\n",
              "      <td>60.0</td>\n",
              "      <td>3.0080</td>\n",
              "      <td>0.2419</td>\n",
              "      <td>0.0312</td>\n",
              "      <td>2.9456</td>\n",
              "      <td>3.0705</td>\n",
              "    </tr>\n",
              "    <tr>\n",
              "      <th>2</th>\n",
              "      <td>X3</td>\n",
              "      <td>60.0</td>\n",
              "      <td>2.9914</td>\n",
              "      <td>0.1179</td>\n",
              "      <td>0.0152</td>\n",
              "      <td>2.9609</td>\n",
              "      <td>3.0219</td>\n",
              "    </tr>\n",
              "    <tr>\n",
              "      <th>3</th>\n",
              "      <td>X4</td>\n",
              "      <td>60.0</td>\n",
              "      <td>2.9911</td>\n",
              "      <td>0.2112</td>\n",
              "      <td>0.0273</td>\n",
              "      <td>2.9365</td>\n",
              "      <td>3.0456</td>\n",
              "    </tr>\n",
              "    <tr>\n",
              "      <th>4</th>\n",
              "      <td>Y</td>\n",
              "      <td>60.0</td>\n",
              "      <td>0.0000</td>\n",
              "      <td>0.0000</td>\n",
              "      <td>0.0000</td>\n",
              "      <td>NaN</td>\n",
              "      <td>NaN</td>\n",
              "    </tr>\n",
              "  </tbody>\n",
              "</table>\n",
              "</div>"
            ],
            "text/plain": [
              "  Variable     N    Mean      SD      SE  95% Conf.  Interval\n",
              "0       X1  60.0  3.0007  0.1610  0.0208     2.9591    3.0423\n",
              "1       X2  60.0  3.0080  0.2419  0.0312     2.9456    3.0705\n",
              "2       X3  60.0  2.9914  0.1179  0.0152     2.9609    3.0219\n",
              "3       X4  60.0  2.9911  0.2112  0.0273     2.9365    3.0456\n",
              "4        Y  60.0  0.0000  0.0000  0.0000        NaN       NaN"
            ]
          },
          "metadata": {},
          "execution_count": 13
        }
      ]
    },
    {
      "cell_type": "code",
      "metadata": {
        "colab": {
          "base_uri": "https://localhost:8080/"
        },
        "id": "RMoRTwMVlECZ",
        "outputId": "f5cb2e9d-c196-44a0-8049-880bc79a9a4c"
      },
      "source": [
        "np.var(df_0)"
      ],
      "execution_count": null,
      "outputs": [
        {
          "output_type": "execute_result",
          "data": {
            "text/plain": [
              "X1    0.025504\n",
              "X2    0.057519\n",
              "X3    0.013675\n",
              "X4    0.043859\n",
              "Y     0.000000\n",
              "dtype: float64"
            ]
          },
          "metadata": {},
          "execution_count": 14
        }
      ]
    },
    {
      "cell_type": "code",
      "metadata": {
        "colab": {
          "base_uri": "https://localhost:8080/"
        },
        "id": "XQvbaNNMlHGh",
        "outputId": "087d5e39-c9cb-42b6-acf9-7ad87e0fdded"
      },
      "source": [
        "scipy.stats.skew(df_0)"
      ],
      "execution_count": null,
      "outputs": [
        {
          "output_type": "execute_result",
          "data": {
            "text/plain": [
              "array([ 0.04417613, -0.28307624, -0.05921609,  0.05637253,  0.        ])"
            ]
          },
          "metadata": {},
          "execution_count": 15
        }
      ]
    },
    {
      "cell_type": "code",
      "metadata": {
        "colab": {
          "base_uri": "https://localhost:8080/",
          "height": 203
        },
        "id": "SAdpdnR6lRXs",
        "outputId": "58473b21-f4e8-4b66-b537-00b998d45fe8"
      },
      "source": [
        "df_1 = df[df[\"Y\"] == 1]\n",
        "df_1.head()"
      ],
      "execution_count": null,
      "outputs": [
        {
          "output_type": "execute_result",
          "data": {
            "text/html": [
              "<div>\n",
              "<style scoped>\n",
              "    .dataframe tbody tr th:only-of-type {\n",
              "        vertical-align: middle;\n",
              "    }\n",
              "\n",
              "    .dataframe tbody tr th {\n",
              "        vertical-align: top;\n",
              "    }\n",
              "\n",
              "    .dataframe thead th {\n",
              "        text-align: right;\n",
              "    }\n",
              "</style>\n",
              "<table border=\"1\" class=\"dataframe\">\n",
              "  <thead>\n",
              "    <tr style=\"text-align: right;\">\n",
              "      <th></th>\n",
              "      <th>X1</th>\n",
              "      <th>X2</th>\n",
              "      <th>X3</th>\n",
              "      <th>X4</th>\n",
              "      <th>Y</th>\n",
              "    </tr>\n",
              "  </thead>\n",
              "  <tbody>\n",
              "    <tr>\n",
              "      <th>60</th>\n",
              "      <td>3.050301</td>\n",
              "      <td>-0.873726</td>\n",
              "      <td>-0.954417</td>\n",
              "      <td>2.981691</td>\n",
              "      <td>1</td>\n",
              "    </tr>\n",
              "    <tr>\n",
              "      <th>61</th>\n",
              "      <td>2.889630</td>\n",
              "      <td>-0.578222</td>\n",
              "      <td>-1.130258</td>\n",
              "      <td>2.817082</td>\n",
              "      <td>1</td>\n",
              "    </tr>\n",
              "    <tr>\n",
              "      <th>62</th>\n",
              "      <td>2.772603</td>\n",
              "      <td>-1.288085</td>\n",
              "      <td>-1.173958</td>\n",
              "      <td>3.015213</td>\n",
              "      <td>1</td>\n",
              "    </tr>\n",
              "    <tr>\n",
              "      <th>63</th>\n",
              "      <td>3.303345</td>\n",
              "      <td>-1.613965</td>\n",
              "      <td>-0.641788</td>\n",
              "      <td>3.238422</td>\n",
              "      <td>1</td>\n",
              "    </tr>\n",
              "    <tr>\n",
              "      <th>64</th>\n",
              "      <td>2.888084</td>\n",
              "      <td>-1.188449</td>\n",
              "      <td>-0.925472</td>\n",
              "      <td>3.009985</td>\n",
              "      <td>1</td>\n",
              "    </tr>\n",
              "  </tbody>\n",
              "</table>\n",
              "</div>"
            ],
            "text/plain": [
              "          X1        X2        X3        X4  Y\n",
              "60  3.050301 -0.873726 -0.954417  2.981691  1\n",
              "61  2.889630 -0.578222 -1.130258  2.817082  1\n",
              "62  2.772603 -1.288085 -1.173958  3.015213  1\n",
              "63  3.303345 -1.613965 -0.641788  3.238422  1\n",
              "64  2.888084 -1.188449 -0.925472  3.009985  1"
            ]
          },
          "metadata": {},
          "execution_count": 16
        }
      ]
    },
    {
      "cell_type": "code",
      "metadata": {
        "colab": {
          "base_uri": "https://localhost:8080/",
          "height": 304
        },
        "id": "lqh7WYj5lTzt",
        "outputId": "4c14bcc6-47ce-41ad-8a4c-ab67838b84e1"
      },
      "source": [
        "rp.summary_cont(df_1)"
      ],
      "execution_count": null,
      "outputs": [
        {
          "output_type": "stream",
          "name": "stdout",
          "text": [
            "\n",
            "\n"
          ]
        },
        {
          "output_type": "stream",
          "name": "stderr",
          "text": [
            "/usr/local/lib/python3.7/dist-packages/scipy/stats/_distn_infrastructure.py:2003: RuntimeWarning: invalid value encountered in multiply\n",
            "  lower_bound = _a * scale + loc\n",
            "/usr/local/lib/python3.7/dist-packages/scipy/stats/_distn_infrastructure.py:2004: RuntimeWarning: invalid value encountered in multiply\n",
            "  upper_bound = _b * scale + loc\n"
          ]
        },
        {
          "output_type": "execute_result",
          "data": {
            "text/html": [
              "<div>\n",
              "<style scoped>\n",
              "    .dataframe tbody tr th:only-of-type {\n",
              "        vertical-align: middle;\n",
              "    }\n",
              "\n",
              "    .dataframe tbody tr th {\n",
              "        vertical-align: top;\n",
              "    }\n",
              "\n",
              "    .dataframe thead th {\n",
              "        text-align: right;\n",
              "    }\n",
              "</style>\n",
              "<table border=\"1\" class=\"dataframe\">\n",
              "  <thead>\n",
              "    <tr style=\"text-align: right;\">\n",
              "      <th></th>\n",
              "      <th>Variable</th>\n",
              "      <th>N</th>\n",
              "      <th>Mean</th>\n",
              "      <th>SD</th>\n",
              "      <th>SE</th>\n",
              "      <th>95% Conf.</th>\n",
              "      <th>Interval</th>\n",
              "    </tr>\n",
              "  </thead>\n",
              "  <tbody>\n",
              "    <tr>\n",
              "      <th>0</th>\n",
              "      <td>X1</td>\n",
              "      <td>240.0</td>\n",
              "      <td>3.0139</td>\n",
              "      <td>0.1830</td>\n",
              "      <td>0.0118</td>\n",
              "      <td>2.9906</td>\n",
              "      <td>3.0372</td>\n",
              "    </tr>\n",
              "    <tr>\n",
              "      <th>1</th>\n",
              "      <td>X2</td>\n",
              "      <td>240.0</td>\n",
              "      <td>-1.0081</td>\n",
              "      <td>0.2607</td>\n",
              "      <td>0.0168</td>\n",
              "      <td>-1.0412</td>\n",
              "      <td>-0.9749</td>\n",
              "    </tr>\n",
              "    <tr>\n",
              "      <th>2</th>\n",
              "      <td>X3</td>\n",
              "      <td>240.0</td>\n",
              "      <td>-0.9921</td>\n",
              "      <td>0.1326</td>\n",
              "      <td>0.0086</td>\n",
              "      <td>-1.0090</td>\n",
              "      <td>-0.9753</td>\n",
              "    </tr>\n",
              "    <tr>\n",
              "      <th>3</th>\n",
              "      <td>X4</td>\n",
              "      <td>240.0</td>\n",
              "      <td>3.0111</td>\n",
              "      <td>0.0973</td>\n",
              "      <td>0.0063</td>\n",
              "      <td>2.9987</td>\n",
              "      <td>3.0234</td>\n",
              "    </tr>\n",
              "    <tr>\n",
              "      <th>4</th>\n",
              "      <td>Y</td>\n",
              "      <td>240.0</td>\n",
              "      <td>1.0000</td>\n",
              "      <td>0.0000</td>\n",
              "      <td>0.0000</td>\n",
              "      <td>NaN</td>\n",
              "      <td>NaN</td>\n",
              "    </tr>\n",
              "  </tbody>\n",
              "</table>\n",
              "</div>"
            ],
            "text/plain": [
              "  Variable      N    Mean      SD      SE  95% Conf.  Interval\n",
              "0       X1  240.0  3.0139  0.1830  0.0118     2.9906    3.0372\n",
              "1       X2  240.0 -1.0081  0.2607  0.0168    -1.0412   -0.9749\n",
              "2       X3  240.0 -0.9921  0.1326  0.0086    -1.0090   -0.9753\n",
              "3       X4  240.0  3.0111  0.0973  0.0063     2.9987    3.0234\n",
              "4        Y  240.0  1.0000  0.0000  0.0000        NaN       NaN"
            ]
          },
          "metadata": {},
          "execution_count": 17
        }
      ]
    },
    {
      "cell_type": "code",
      "metadata": {
        "colab": {
          "base_uri": "https://localhost:8080/"
        },
        "id": "cUj2PjYDlWZh",
        "outputId": "e851be1a-7c0e-420b-fec9-1f7e946167d5"
      },
      "source": [
        "np.var(df_1)"
      ],
      "execution_count": null,
      "outputs": [
        {
          "output_type": "execute_result",
          "data": {
            "text/plain": [
              "X1    0.033341\n",
              "X2    0.067684\n",
              "X3    0.017520\n",
              "X4    0.009434\n",
              "Y     0.000000\n",
              "dtype: float64"
            ]
          },
          "metadata": {},
          "execution_count": 18
        }
      ]
    },
    {
      "cell_type": "code",
      "metadata": {
        "colab": {
          "base_uri": "https://localhost:8080/"
        },
        "id": "8DqolyJTlZFp",
        "outputId": "e6bb7461-1796-4c68-f8e9-9872c7cc40a0"
      },
      "source": [
        "scipy.stats.skew(df_1)"
      ],
      "execution_count": null,
      "outputs": [
        {
          "output_type": "execute_result",
          "data": {
            "text/plain": [
              "array([ 0.33000205,  0.29948927,  0.07217615, -0.12148191,  0.        ])"
            ]
          },
          "metadata": {},
          "execution_count": 19
        }
      ]
    },
    {
      "cell_type": "markdown",
      "metadata": {
        "id": "XrbKQ4G51xIu"
      },
      "source": [
        "# A significant difference is present between the number of instances for classes 0 and 1. Hence, it can be attributed as an imbalanced dataset."
      ]
    },
    {
      "cell_type": "markdown",
      "metadata": {
        "id": "FJx5CLIP12Cv"
      },
      "source": [
        "# Plotting of data points for all the 6 combinations of the different features, in order to visualise overlapping."
      ]
    },
    {
      "cell_type": "code",
      "metadata": {
        "colab": {
          "base_uri": "https://localhost:8080/",
          "height": 265
        },
        "id": "dOHqe23cqOho",
        "outputId": "29ceb420-d6be-4cad-ce4b-18578aea32d8"
      },
      "source": [
        "for i in range(len(df)):\n",
        "  x1=df.iloc[i,0]\n",
        "  x2=df.iloc[i,1]\n",
        "  x3=df.iloc[i,2]\n",
        "  x4=df.iloc[i,3]\n",
        "  y=df.iloc[i,4]\n",
        "  if(y==0):\n",
        "    plt.scatter(x1,x2,color='red')\n",
        "  else:\n",
        "    plt.scatter(x1,x2,color='blue')\n",
        "plt.show()"
      ],
      "execution_count": null,
      "outputs": [
        {
          "output_type": "display_data",
          "data": {
            "image/png": "[encoded data removed]",
            "text/plain": [
              "<Figure size 432x288 with 1 Axes>"
            ]
          },
          "metadata": {
            "needs_background": "light"
          }
        }
      ]
    },
    {
      "cell_type": "code",
      "metadata": {
        "colab": {
          "base_uri": "https://localhost:8080/",
          "height": 265
        },
        "id": "3cyYQ8JZqRF5",
        "outputId": "aacd7f2f-bc14-49b1-9940-1f21dbef8709"
      },
      "source": [
        "for i in range(len(df)):\n",
        "  x1=df.iloc[i,0]\n",
        "  x2=df.iloc[i,1]\n",
        "  x3=df.iloc[i,2]\n",
        "  x4=df.iloc[i,3]\n",
        "  y=df.iloc[i,4]\n",
        "  if(y==0):\n",
        "    plt.scatter(x1,x3,color='red')\n",
        "  else:\n",
        "    plt.scatter(x1,x3,color='blue')\n",
        "plt.show()"
      ],
      "execution_count": null,
      "outputs": [
        {
          "output_type": "display_data",
          "data": {
            "image/png": "[encoded data removed]",
            "text/plain": [
              "<Figure size 432x288 with 1 Axes>"
            ]
          },
          "metadata": {
            "needs_background": "light"
          }
        }
      ]
    },
    {
      "cell_type": "code",
      "metadata": {
        "colab": {
          "base_uri": "https://localhost:8080/",
          "height": 265
        },
        "id": "7poC4FNjqTRv",
        "outputId": "d91db7fb-b4ea-4469-ce40-4f606ed53b53"
      },
      "source": [
        "for i in range(len(df)):\n",
        "  x1=df.iloc[i,0]\n",
        "  x2=df.iloc[i,1]\n",
        "  x3=df.iloc[i,2]\n",
        "  x4=df.iloc[i,3]\n",
        "  y=df.iloc[i,4]\n",
        "  if(y==0):\n",
        "    plt.scatter(x1,x4,color='red')\n",
        "  else:\n",
        "    plt.scatter(x1,x4,color='blue')\n",
        "plt.show()"
      ],
      "execution_count": null,
      "outputs": [
        {
          "output_type": "display_data",
          "data": {
            "image/png": "[encoded data removed]",
            "text/plain": [
              "<Figure size 432x288 with 1 Axes>"
            ]
          },
          "metadata": {
            "needs_background": "light"
          }
        }
      ]
    },
    {
      "cell_type": "code",
      "metadata": {
        "colab": {
          "base_uri": "https://localhost:8080/",
          "height": 265
        },
        "id": "gLOCJNh-0sW0",
        "outputId": "3ca39cc4-f012-4f12-c792-147b6009b9dd"
      },
      "source": [
        "for i in range(len(df)):\n",
        "  x1=df.iloc[i,0]\n",
        "  x2=df.iloc[i,1]\n",
        "  x3=df.iloc[i,2]\n",
        "  x4=df.iloc[i,3]\n",
        "  y=df.iloc[i,4]\n",
        "  if(y==0):\n",
        "    plt.scatter(x2,x3,color='red')\n",
        "  else:\n",
        "    plt.scatter(x2,x3,color='blue')\n",
        "plt.show()"
      ],
      "execution_count": null,
      "outputs": [
        {
          "output_type": "display_data",
          "data": {
            "image/png": "[encoded data removed]",
            "text/plain": [
              "<Figure size 432x288 with 1 Axes>"
            ]
          },
          "metadata": {
            "needs_background": "light"
          }
        }
      ]
    },
    {
      "cell_type": "code",
      "metadata": {
        "colab": {
          "base_uri": "https://localhost:8080/",
          "height": 265
        },
        "id": "Cwsyyi2a03gK",
        "outputId": "7c7d576f-af55-4912-cf3f-00551a8f1576"
      },
      "source": [
        "for i in range(len(df)):\n",
        "  x1=df.iloc[i,0]\n",
        "  x2=df.iloc[i,1]\n",
        "  x3=df.iloc[i,2]\n",
        "  x4=df.iloc[i,3]\n",
        "  y=df.iloc[i,4]\n",
        "  if(y==0):\n",
        "    plt.scatter(x2,x4,color='red')\n",
        "  else:\n",
        "    plt.scatter(x2,x4,color='blue')\n",
        "plt.show()"
      ],
      "execution_count": null,
      "outputs": [
        {
          "output_type": "display_data",
          "data": {
            "image/png": "[encoded data removed]",
            "text/plain": [
              "<Figure size 432x288 with 1 Axes>"
            ]
          },
          "metadata": {
            "needs_background": "light"
          }
        }
      ]
    },
    {
      "cell_type": "code",
      "metadata": {
        "colab": {
          "base_uri": "https://localhost:8080/",
          "height": 265
        },
        "id": "pIJZI5UN097E",
        "outputId": "c268bf66-dc3e-49a7-aed0-ddaa79b595d8"
      },
      "source": [
        "for i in range(len(df)):\n",
        "  x1=df.iloc[i,0]\n",
        "  x2=df.iloc[i,1]\n",
        "  x3=df.iloc[i,2]\n",
        "  x4=df.iloc[i,3]\n",
        "  y=df.iloc[i,4]\n",
        "  if(y==0):\n",
        "    plt.scatter(x3,x4,color='red')\n",
        "  else:\n",
        "    plt.scatter(x3,x4,color='blue')\n",
        "plt.show()"
      ],
      "execution_count": null,
      "outputs": [
        {
          "output_type": "display_data",
          "data": {
            "image/png": "[encoded data removed]",
            "text/plain": [
              "<Figure size 432x288 with 1 Axes>"
            ]
          },
          "metadata": {
            "needs_background": "light"
          }
        }
      ]
    },
    {
      "cell_type": "markdown",
      "metadata": {
        "id": "Rr-18FnG2G7I"
      },
      "source": [
        "# Hence, it can be confirmed from the above scatter plots that x1 overlaps with x4."
      ]
    },
    {
      "cell_type": "markdown",
      "metadata": {
        "id": "9SP8666Lrv8R"
      },
      "source": [
        "# Data Splicing"
      ]
    },
    {
      "cell_type": "code",
      "metadata": {
        "id": "YrLrulaoec4k"
      },
      "source": [
        "x=df.drop('Y',axis=1)\n",
        "y=df['Y']"
      ],
      "execution_count": null,
      "outputs": []
    },
    {
      "cell_type": "code",
      "metadata": {
        "id": "x618sr8-epVL"
      },
      "source": [
        "x_train,x_test,y_train,y_test=train_test_split(x,y,test_size=0.25,random_state=1)"
      ],
      "execution_count": null,
      "outputs": []
    },
    {
      "cell_type": "markdown",
      "metadata": {
        "id": "YS1_8gW6rIIX"
      },
      "source": [
        "# Decision Tree Clasiifier"
      ]
    },
    {
      "cell_type": "code",
      "metadata": {
        "colab": {
          "base_uri": "https://localhost:8080/"
        },
        "id": "sFEH9j1MrLge",
        "outputId": "b90353ea-34cd-40e0-c37e-3f7e3996eef0"
      },
      "source": [
        "tree = DecisionTreeClassifier()\n",
        "tree_fit = tree.fit(x_train,y_train)\n",
        "y_pred = tree_fit.predict(x_test)\n",
        "print(\"Accuracy Score = %.3f\" %accuracy_score(y_test,y_pred))\n",
        "print(\"\\nConfusion Matrix : \\n\", confusion_matrix(y_test,y_pred))\n",
        "print(\"\\nClassification Report : \\n\", classification_report(y_test,y_pred))\n",
        "v_acc = cross_val_score(tree, x_train, y_train, cv=10, scoring='accuracy')\n",
        "v_pre = cross_val_score(tree, x_train, y_train, cv=10, scoring='precision')\n",
        "v_rec = cross_val_score(tree, x_train, y_train, cv=10, scoring='recall')\n",
        "print(\"\\nAccuracy using 10 fold Cross validation = \",v_acc.mean())\n",
        "print(\"\\nPrecision using 10 fold Cross validation = \",v_pre.mean())\n",
        "print(\"\\nRecall using 10 fold Cross validation = \",v_rec.mean())"
      ],
      "execution_count": null,
      "outputs": [
        {
          "output_type": "stream",
          "name": "stdout",
          "text": [
            "Accuracy Score = 1.000\n",
            "\n",
            "Confusion Matrix : \n",
            " [[14  0]\n",
            " [ 0 61]]\n",
            "\n",
            "Classification Report : \n",
            "               precision    recall  f1-score   support\n",
            "\n",
            "           0       1.00      1.00      1.00        14\n",
            "           1       1.00      1.00      1.00        61\n",
            "\n",
            "    accuracy                           1.00        75\n",
            "   macro avg       1.00      1.00      1.00        75\n",
            "weighted avg       1.00      1.00      1.00        75\n",
            "\n",
            "\n",
            "Accuracy using 10 fold Cross validation =  1.0\n",
            "\n",
            "Precision using 10 fold Cross validation =  1.0\n",
            "\n",
            "Recall using 10 fold Cross validation =  1.0\n"
          ]
        }
      ]
    },
    {
      "cell_type": "markdown",
      "metadata": {
        "id": "75NKMIkwrB7-"
      },
      "source": [
        "# KNN Classifier"
      ]
    },
    {
      "cell_type": "code",
      "metadata": {
        "colab": {
          "base_uri": "https://localhost:8080/"
        },
        "id": "btQoZu5eibnz",
        "outputId": "5c45ef8d-42cc-41d7-83bf-6397481f25b3"
      },
      "source": [
        "knn = KNeighborsClassifier(n_neighbors = 3)\n",
        "knn_fit = knn.fit(x_train,y_train)\n",
        "y_pred = knn_fit.predict(x_test)\n",
        "print(\"Accuracy Score = %.3f\" %accuracy_score(y_test,y_pred))\n",
        "print(\"\\nConfusion Matrix : \\n\", confusion_matrix(y_test,y_pred))\n",
        "print(\"\\nClassification Report : \\n\", classification_report(y_test,y_pred))\n",
        "v_acc = cross_val_score(knn, x_train, y_train, cv=10, scoring='accuracy')\n",
        "v_pre = cross_val_score(knn, x_train, y_train, cv=10, scoring='precision')\n",
        "v_rec = cross_val_score(knn, x_train, y_train, cv=10, scoring='recall')\n",
        "print(\"\\nAccuracy using 10 fold Cross validation = \",v_acc.mean())\n",
        "print(\"\\nPrecision using 10 fold Cross validation = \",v_pre.mean())\n",
        "print(\"\\nRecall using 10 fold Cross validation = \",v_rec.mean())"
      ],
      "execution_count": null,
      "outputs": [
        {
          "output_type": "stream",
          "name": "stdout",
          "text": [
            "Accuracy Score = 1.000\n",
            "\n",
            "Confusion Matrix : \n",
            " [[14  0]\n",
            " [ 0 61]]\n",
            "\n",
            "Classification Report : \n",
            "               precision    recall  f1-score   support\n",
            "\n",
            "           0       1.00      1.00      1.00        14\n",
            "           1       1.00      1.00      1.00        61\n",
            "\n",
            "    accuracy                           1.00        75\n",
            "   macro avg       1.00      1.00      1.00        75\n",
            "weighted avg       1.00      1.00      1.00        75\n",
            "\n",
            "\n",
            "Accuracy using 10 fold Cross validation =  1.0\n",
            "\n",
            "Precision using 10 fold Cross validation =  1.0\n",
            "\n",
            "Recall using 10 fold Cross validation =  1.0\n"
          ]
        }
      ]
    },
    {
      "cell_type": "markdown",
      "metadata": {
        "id": "vExHMhwPrE7p"
      },
      "source": [
        "# SVM Classifier"
      ]
    },
    {
      "cell_type": "code",
      "metadata": {
        "colab": {
          "base_uri": "https://localhost:8080/"
        },
        "id": "Cy6JZJZjrSJt",
        "outputId": "c09608d3-1710-4cc3-c397-3f576394b065"
      },
      "source": [
        "mod = SVC()\n",
        "mod_fit = mod.fit(x_train,y_train)\n",
        "y_pred = mod_fit.predict(x_test)\n",
        "print(\"Accuracy Score = %.3f\" %accuracy_score(y_test,y_pred))\n",
        "print(\"\\nConfusion Matrix : \\n\", confusion_matrix(y_test,y_pred))\n",
        "print(\"\\nClassification Report : \\n\", classification_report(y_test,y_pred))\n",
        "v_acc = cross_val_score(mod, x_train, y_train, cv=10, scoring='accuracy')\n",
        "v_pre = cross_val_score(mod, x_train, y_train, cv=10, scoring='precision')\n",
        "v_rec = cross_val_score(mod, x_train, y_train, cv=10, scoring='recall')\n",
        "print(\"\\nAccuracy using 10 fold Cross validation = \",v_acc.mean())\n",
        "print(\"\\nPrecision using 10 fold Cross validation = \",v_pre.mean())\n",
        "print(\"\\nRecall using 10 fold Cross validation = \",v_rec.mean())"
      ],
      "execution_count": null,
      "outputs": [
        {
          "output_type": "stream",
          "name": "stdout",
          "text": [
            "Accuracy Score = 1.000\n",
            "\n",
            "Confusion Matrix : \n",
            " [[14  0]\n",
            " [ 0 61]]\n",
            "\n",
            "Classification Report : \n",
            "               precision    recall  f1-score   support\n",
            "\n",
            "           0       1.00      1.00      1.00        14\n",
            "           1       1.00      1.00      1.00        61\n",
            "\n",
            "    accuracy                           1.00        75\n",
            "   macro avg       1.00      1.00      1.00        75\n",
            "weighted avg       1.00      1.00      1.00        75\n",
            "\n",
            "\n",
            "Accuracy using 10 fold Cross validation =  1.0\n",
            "\n",
            "Precision using 10 fold Cross validation =  1.0\n",
            "\n",
            "Recall using 10 fold Cross validation =  1.0\n"
          ]
        }
      ]
    },
    {
      "cell_type": "markdown",
      "metadata": {
        "id": "Hh82fF4trYH_"
      },
      "source": [
        "# Resampling using SMOTETomek"
      ]
    },
    {
      "cell_type": "code",
      "metadata": {
        "colab": {
          "base_uri": "https://localhost:8080/"
        },
        "id": "DCeGGmPwrZoK",
        "outputId": "d28b0dc6-9539-49ca-9f98-4863d952ff47"
      },
      "source": [
        "os=SMOTETomek(0.75, random_state=1)\n",
        "x_train_ns,y_train_ns=os.fit_resample(x_train,y_train)\n",
        "print(\"The classes before fit{}\".format(Counter(y_train)))\n",
        "print(\"The number of classes after fit{}\".format(Counter(y_train_ns)))"
      ],
      "execution_count": null,
      "outputs": [
        {
          "output_type": "stream",
          "name": "stdout",
          "text": [
            "The classes before fitCounter({1: 179, 0: 46})\n",
            "The number of classes after fitCounter({1: 179, 0: 134})\n"
          ]
        },
        {
          "output_type": "stream",
          "name": "stderr",
          "text": [
            "/usr/local/lib/python3.7/dist-packages/imblearn/utils/_validation.py:591: FutureWarning: Pass sampling_strategy=0.75 as keyword args. From version 0.9 passing these as positional arguments will result in an error\n",
            "  FutureWarning,\n"
          ]
        }
      ]
    },
    {
      "cell_type": "code",
      "metadata": {
        "colab": {
          "base_uri": "https://localhost:8080/"
        },
        "id": "kQHCw5FerfOw",
        "outputId": "04754a79-8842-417d-97cb-8559a8af46c4"
      },
      "source": [
        "#os=SMOTETomek(random_state=1)\n",
        "#x_train_ns,y_train_ns=os.fit_resample(x_train,y_train)\n",
        "print(\"The number of classes before fit {}\".format(Counter(y_train)))\n",
        "print(\"The number of classes after fit {}\".format(Counter(y_train_ns)))"
      ],
      "execution_count": null,
      "outputs": [
        {
          "output_type": "stream",
          "name": "stdout",
          "text": [
            "The number of classes before fit Counter({1: 179, 0: 46})\n",
            "The number of classes after fit Counter({1: 179, 0: 134})\n"
          ]
        }
      ]
    },
    {
      "cell_type": "code",
      "metadata": {
        "colab": {
          "base_uri": "https://localhost:8080/"
        },
        "id": "g6JEA50jrhit",
        "outputId": "82d4c692-35ae-4bbc-8d66-241d38812473"
      },
      "source": [
        "x_train_ns.size"
      ],
      "execution_count": null,
      "outputs": [
        {
          "output_type": "execute_result",
          "data": {
            "text/plain": [
              "1252"
            ]
          },
          "metadata": {},
          "execution_count": 10
        }
      ]
    },
    {
      "cell_type": "code",
      "metadata": {
        "colab": {
          "base_uri": "https://localhost:8080/"
        },
        "id": "EJ_PUiX1ri5C",
        "outputId": "413cae82-73de-49dd-8260-12a36375d6f7"
      },
      "source": [
        "y_train_ns.size"
      ],
      "execution_count": null,
      "outputs": [
        {
          "output_type": "execute_result",
          "data": {
            "text/plain": [
              "313"
            ]
          },
          "metadata": {},
          "execution_count": 11
        }
      ]
    },
    {
      "cell_type": "markdown",
      "metadata": {
        "id": "Qq4b1Bdx8oZX"
      },
      "source": [
        "# Decision Tree after resampling"
      ]
    },
    {
      "cell_type": "code",
      "metadata": {
        "colab": {
          "base_uri": "https://localhost:8080/"
        },
        "id": "b_xX0TPz8hNq",
        "outputId": "502b62f3-5ccd-4d91-8507-ebb20b552515"
      },
      "source": [
        "tree = DecisionTreeClassifier()\n",
        "tree_fit = tree.fit(x_train_ns,y_train_ns)\n",
        "y_pred = tree_fit.predict(x_test)\n",
        "print(\"Accuracy Score = %.3f\" %accuracy_score(y_test,y_pred))\n",
        "print(\"\\nConfusion Matrix : \\n\", confusion_matrix(y_test,y_pred))\n",
        "print(\"\\nClassification Report : \\n\", classification_report(y_test,y_pred))\n",
        "v_acc = cross_val_score(tree, x_train_ns, y_train_ns, cv=10, scoring='accuracy')\n",
        "v_pre = cross_val_score(tree, x_train_ns, y_train_ns, cv=10, scoring='precision')\n",
        "v_rec = cross_val_score(tree, x_train_ns, y_train_ns, cv=10, scoring='recall')\n",
        "print(\"\\nAccuracy using 10 fold Cross validation = \",v_acc.mean())\n",
        "print(\"\\nPrecision using 10 fold Cross validation = \",v_pre.mean())\n",
        "print(\"\\nRecall using 10 fold Cross validation = \",v_rec.mean())"
      ],
      "execution_count": null,
      "outputs": [
        {
          "output_type": "stream",
          "name": "stdout",
          "text": [
            "Accuracy Score = 1.000\n",
            "\n",
            "Confusion Matrix : \n",
            " [[14  0]\n",
            " [ 0 61]]\n",
            "\n",
            "Classification Report : \n",
            "               precision    recall  f1-score   support\n",
            "\n",
            "           0       1.00      1.00      1.00        14\n",
            "           1       1.00      1.00      1.00        61\n",
            "\n",
            "    accuracy                           1.00        75\n",
            "   macro avg       1.00      1.00      1.00        75\n",
            "weighted avg       1.00      1.00      1.00        75\n",
            "\n",
            "\n",
            "Accuracy using 10 fold Cross validation =  1.0\n",
            "\n",
            "Precision using 10 fold Cross validation =  1.0\n",
            "\n",
            "Recall using 10 fold Cross validation =  1.0\n"
          ]
        }
      ]
    },
    {
      "cell_type": "markdown",
      "metadata": {
        "id": "a7CupMkE8t3l"
      },
      "source": [
        "# KNN after resampling"
      ]
    },
    {
      "cell_type": "code",
      "metadata": {
        "colab": {
          "base_uri": "https://localhost:8080/"
        },
        "id": "OSOvD0CE8jnJ",
        "outputId": "d22f5d13-c89f-49ca-dd93-be356511f781"
      },
      "source": [
        "knn = KNeighborsClassifier(n_neighbors = 3)\n",
        "knn_fit = knn.fit(x_train_ns,y_train_ns)\n",
        "y_pred = knn_fit.predict(x_test)\n",
        "print(\"Accuracy Score = %.3f\" %accuracy_score(y_test,y_pred))\n",
        "print(\"\\nConfusion Matrix : \\n\", confusion_matrix(y_test,y_pred))\n",
        "print(\"\\nClassification Report : \\n\", classification_report(y_test,y_pred))\n",
        "v_acc = cross_val_score(knn, x_train_ns, y_train_ns, cv=10, scoring='accuracy')\n",
        "v_pre = cross_val_score(knn, x_train_ns, y_train_ns, cv=10, scoring='precision')\n",
        "v_rec = cross_val_score(knn, x_train_ns, y_train_ns, cv=10, scoring='recall')\n",
        "print(\"\\nAccuracy using 10 fold Cross validation = \",v_acc.mean())\n",
        "print(\"\\nPrecision using 10 fold Cross validation = \",v_pre.mean())\n",
        "print(\"\\nRecall using 10 fold Cross validation = \",v_rec.mean())"
      ],
      "execution_count": null,
      "outputs": [
        {
          "output_type": "stream",
          "name": "stdout",
          "text": [
            "Accuracy Score = 1.000\n",
            "\n",
            "Confusion Matrix : \n",
            " [[14  0]\n",
            " [ 0 61]]\n",
            "\n",
            "Classification Report : \n",
            "               precision    recall  f1-score   support\n",
            "\n",
            "           0       1.00      1.00      1.00        14\n",
            "           1       1.00      1.00      1.00        61\n",
            "\n",
            "    accuracy                           1.00        75\n",
            "   macro avg       1.00      1.00      1.00        75\n",
            "weighted avg       1.00      1.00      1.00        75\n",
            "\n",
            "\n",
            "Accuracy using 10 fold Cross validation =  1.0\n",
            "\n",
            "Precision using 10 fold Cross validation =  1.0\n",
            "\n",
            "Recall using 10 fold Cross validation =  1.0\n"
          ]
        }
      ]
    },
    {
      "cell_type": "markdown",
      "metadata": {
        "id": "aIpLnHe88wRJ"
      },
      "source": [
        "# SVM after resampling"
      ]
    },
    {
      "cell_type": "code",
      "metadata": {
        "colab": {
          "base_uri": "https://localhost:8080/"
        },
        "id": "cSAMq1a38ldm",
        "outputId": "11c556df-1e07-496f-ee1f-281eb0ff7880"
      },
      "source": [
        "mod = SVC()\n",
        "mod_fit = mod.fit(x_train_ns,y_train_ns)\n",
        "y_pred = mod_fit.predict(x_test)\n",
        "print(\"Accuracy Score = %.3f\" %accuracy_score(y_test,y_pred))\n",
        "print(\"\\nConfusion Matrix : \\n\", confusion_matrix(y_test,y_pred))\n",
        "print(\"\\nClassification Report : \\n\", classification_report(y_test,y_pred))\n",
        "v_acc = cross_val_score(mod, x_train_ns, y_train_ns, cv=10, scoring='accuracy')\n",
        "v_pre = cross_val_score(mod, x_train_ns, y_train_ns, cv=10, scoring='precision')\n",
        "v_rec = cross_val_score(mod, x_train_ns, y_train_ns, cv=10, scoring='recall')\n",
        "print(\"\\nAccuracy using 10 fold Cross validation = \",v_acc.mean())\n",
        "print(\"\\nPrecision using 10 fold Cross validation = \",v_pre.mean())\n",
        "print(\"\\nRecall using 10 fold Cross validation = \",v_rec.mean())"
      ],
      "execution_count": null,
      "outputs": [
        {
          "output_type": "stream",
          "name": "stdout",
          "text": [
            "Accuracy Score = 1.000\n",
            "\n",
            "Confusion Matrix : \n",
            " [[14  0]\n",
            " [ 0 61]]\n",
            "\n",
            "Classification Report : \n",
            "               precision    recall  f1-score   support\n",
            "\n",
            "           0       1.00      1.00      1.00        14\n",
            "           1       1.00      1.00      1.00        61\n",
            "\n",
            "    accuracy                           1.00        75\n",
            "   macro avg       1.00      1.00      1.00        75\n",
            "weighted avg       1.00      1.00      1.00        75\n",
            "\n",
            "\n",
            "Accuracy using 10 fold Cross validation =  1.0\n",
            "\n",
            "Precision using 10 fold Cross validation =  1.0\n",
            "\n",
            "Recall using 10 fold Cross validation =  1.0\n"
          ]
        }
      ]
    }
  ]
}