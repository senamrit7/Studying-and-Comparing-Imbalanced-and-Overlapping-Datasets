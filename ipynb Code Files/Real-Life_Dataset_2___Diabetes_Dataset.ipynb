{
  "cells": [
    {
      "cell_type": "code",
      "execution_count": null,
      "metadata": {
        "colab": {
          "base_uri": "https://localhost:8080/"
        },
        "id": "o4tRxhl2uZtc",
        "outputId": "4505dd8c-8957-45a4-e705-1c3b30ac7791"
      },
      "outputs": [
        {
          "output_type": "stream",
          "name": "stdout",
          "text": [
            "Collecting researchpy\n",
            "  Downloading researchpy-0.3.2-py3-none-any.whl (15 kB)\n",
            "Requirement already satisfied: pandas in /usr/local/lib/python3.7/dist-packages (from researchpy) (1.1.5)\n",
            "Requirement already satisfied: statsmodels in /usr/local/lib/python3.7/dist-packages (from researchpy) (0.10.2)\n",
            "Requirement already satisfied: numpy in /usr/local/lib/python3.7/dist-packages (from researchpy) (1.19.5)\n",
            "Requirement already satisfied: scipy in /usr/local/lib/python3.7/dist-packages (from researchpy) (1.4.1)\n",
            "Requirement already satisfied: patsy in /usr/local/lib/python3.7/dist-packages (from researchpy) (0.5.2)\n",
            "Requirement already satisfied: pytz>=2017.2 in /usr/local/lib/python3.7/dist-packages (from pandas->researchpy) (2018.9)\n",
            "Requirement already satisfied: python-dateutil>=2.7.3 in /usr/local/lib/python3.7/dist-packages (from pandas->researchpy) (2.8.2)\n",
            "Requirement already satisfied: six>=1.5 in /usr/local/lib/python3.7/dist-packages (from python-dateutil>=2.7.3->pandas->researchpy) (1.15.0)\n",
            "Installing collected packages: researchpy\n",
            "Successfully installed researchpy-0.3.2\n"
          ]
        }
      ],
      "source": [
        "pip install researchpy"
      ]
    },
    {
      "cell_type": "markdown",
      "metadata": {
        "id": "MZwWW9R1sIh0"
      },
      "source": [
        "# Importing necessary libraries"
      ]
    },
    {
      "cell_type": "code",
      "execution_count": null,
      "metadata": {
        "id": "qT9kqfugrpdj",
        "colab": {
          "base_uri": "https://localhost:8080/"
        },
        "outputId": "d25c824e-0c10-4f04-86b1-c4c0bb065306"
      },
      "outputs": [
        {
          "output_type": "stream",
          "name": "stderr",
          "text": [
            "/usr/local/lib/python3.7/dist-packages/statsmodels/tools/_testing.py:19: FutureWarning: pandas.util.testing is deprecated. Use the functions in the public API at pandas.testing instead.\n",
            "  import pandas.util.testing as tm\n"
          ]
        }
      ],
      "source": [
        "import pandas as pd\n",
        "import numpy as np\n",
        "import sklearn\n",
        "import scipy\n",
        "import seaborn as sns\n",
        "import matplotlib.pyplot as plt\n",
        "from sklearn.tree import DecisionTreeClassifier\n",
        "from sklearn.neighbors import KNeighborsClassifier\n",
        "from sklearn.svm import SVC\n",
        "from sklearn.model_selection import train_test_split\n",
        "from sklearn.linear_model import LogisticRegression\n",
        "from sklearn.ensemble import RandomForestClassifier\n",
        "from sklearn.metrics import accuracy_score, confusion_matrix, classification_report\n",
        "from sklearn.model_selection import KFold\n",
        "from sklearn.model_selection import cross_val_score\n",
        "from sklearn.model_selection import GridSearchCV\n",
        "from sklearn.ensemble import IsolationForest\n",
        "from sklearn.neighbors import LocalOutlierFactor\n",
        "from sklearn.svm import OneClassSVM\n",
        "from imblearn.combine import SMOTETomek\n",
        "from collections import Counter\n",
        "import researchpy as rp\n",
        "from imblearn.over_sampling import ADASYN\n",
        "import warnings"
      ]
    },
    {
      "cell_type": "markdown",
      "metadata": {
        "id": "jwUNpj5LsLjy"
      },
      "source": [
        "# Uploading the dataset"
      ]
    },
    {
      "cell_type": "code",
      "execution_count": null,
      "metadata": {
        "colab": {
          "base_uri": "https://localhost:8080/",
          "height": 74,
          "resources": {
            "http://localhost:8080/nbextensions/google.colab/files.js": {
              "data": "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",
              "headers": [
                [
                  "content-type",
                  "application/javascript"
                ]
              ],
              "ok": true,
              "status": 200,
              "status_text": ""
            }
          }
        },
        "id": "OFyuWqZmsOZT",
        "outputId": "9ecfdfb7-670e-4e3b-f7bd-69af7dd8f2fb"
      },
      "outputs": [
        {
          "output_type": "display_data",
          "data": {
            "text/html": [
              "\n",
              "     <input type=\"file\" id=\"files-1eb8ec1b-151e-4ca0-9a15-2babc4878d40\" name=\"files[]\" multiple disabled\n",
              "        style=\"border:none\" />\n",
              "     <output id=\"result-1eb8ec1b-151e-4ca0-9a15-2babc4878d40\">\n",
              "      Upload widget is only available when the cell has been executed in the\n",
              "      current browser session. Please rerun this cell to enable.\n",
              "      </output>\n",
              "      <script src=\"/nbextensions/google.colab/files.js\"></script> "
            ],
            "text/plain": [
              "<IPython.core.display.HTML object>"
            ]
          },
          "metadata": {}
        },
        {
          "output_type": "stream",
          "name": "stdout",
          "text": [
            "Saving diabetes.csv to diabetes.csv\n"
          ]
        }
      ],
      "source": [
        "from google.colab import files\n",
        "uploaded = files.upload()"
      ]
    },
    {
      "cell_type": "markdown",
      "metadata": {
        "id": "I6DWAMQWsQbK"
      },
      "source": [
        "# Reading the dataset"
      ]
    },
    {
      "cell_type": "code",
      "execution_count": null,
      "metadata": {
        "colab": {
          "base_uri": "https://localhost:8080/",
          "height": 206
        },
        "id": "GZQnl_51sSaj",
        "outputId": "14a82ee7-7474-4c1c-e9b7-64f3ca9044fb"
      },
      "outputs": [
        {
          "output_type": "execute_result",
          "data": {
            "text/html": [
              "<div>\n",
              "<style scoped>\n",
              "    .dataframe tbody tr th:only-of-type {\n",
              "        vertical-align: middle;\n",
              "    }\n",
              "\n",
              "    .dataframe tbody tr th {\n",
              "        vertical-align: top;\n",
              "    }\n",
              "\n",
              "    .dataframe thead th {\n",
              "        text-align: right;\n",
              "    }\n",
              "</style>\n",
              "<table border=\"1\" class=\"dataframe\">\n",
              "  <thead>\n",
              "    <tr style=\"text-align: right;\">\n",
              "      <th></th>\n",
              "      <th>Pregnancies</th>\n",
              "      <th>Glucose</th>\n",
              "      <th>BloodPressure</th>\n",
              "      <th>SkinThickness</th>\n",
              "      <th>Insulin</th>\n",
              "      <th>BMI</th>\n",
              "      <th>DiabetesPedigreeFunction</th>\n",
              "      <th>Age</th>\n",
              "      <th>Outcome</th>\n",
              "    </tr>\n",
              "  </thead>\n",
              "  <tbody>\n",
              "    <tr>\n",
              "      <th>0</th>\n",
              "      <td>6</td>\n",
              "      <td>148</td>\n",
              "      <td>72</td>\n",
              "      <td>35</td>\n",
              "      <td>0</td>\n",
              "      <td>33.6</td>\n",
              "      <td>0.627</td>\n",
              "      <td>50</td>\n",
              "      <td>1</td>\n",
              "    </tr>\n",
              "    <tr>\n",
              "      <th>1</th>\n",
              "      <td>1</td>\n",
              "      <td>85</td>\n",
              "      <td>66</td>\n",
              "      <td>29</td>\n",
              "      <td>0</td>\n",
              "      <td>26.6</td>\n",
              "      <td>0.351</td>\n",
              "      <td>31</td>\n",
              "      <td>0</td>\n",
              "    </tr>\n",
              "    <tr>\n",
              "      <th>2</th>\n",
              "      <td>8</td>\n",
              "      <td>183</td>\n",
              "      <td>64</td>\n",
              "      <td>0</td>\n",
              "      <td>0</td>\n",
              "      <td>23.3</td>\n",
              "      <td>0.672</td>\n",
              "      <td>32</td>\n",
              "      <td>1</td>\n",
              "    </tr>\n",
              "    <tr>\n",
              "      <th>3</th>\n",
              "      <td>1</td>\n",
              "      <td>89</td>\n",
              "      <td>66</td>\n",
              "      <td>23</td>\n",
              "      <td>94</td>\n",
              "      <td>28.1</td>\n",
              "      <td>0.167</td>\n",
              "      <td>21</td>\n",
              "      <td>0</td>\n",
              "    </tr>\n",
              "    <tr>\n",
              "      <th>4</th>\n",
              "      <td>0</td>\n",
              "      <td>137</td>\n",
              "      <td>40</td>\n",
              "      <td>35</td>\n",
              "      <td>168</td>\n",
              "      <td>43.1</td>\n",
              "      <td>2.288</td>\n",
              "      <td>33</td>\n",
              "      <td>1</td>\n",
              "    </tr>\n",
              "  </tbody>\n",
              "</table>\n",
              "</div>"
            ],
            "text/plain": [
              "   Pregnancies  Glucose  BloodPressure  ...  DiabetesPedigreeFunction  Age  Outcome\n",
              "0            6      148             72  ...                     0.627   50        1\n",
              "1            1       85             66  ...                     0.351   31        0\n",
              "2            8      183             64  ...                     0.672   32        1\n",
              "3            1       89             66  ...                     0.167   21        0\n",
              "4            0      137             40  ...                     2.288   33        1\n",
              "\n",
              "[5 rows x 9 columns]"
            ]
          },
          "metadata": {},
          "execution_count": 4
        }
      ],
      "source": [
        "df=pd.read_csv('diabetes.csv',keep_default_na=False, na_values=[\"\"])\n",
        "df.head()"
      ]
    },
    {
      "cell_type": "code",
      "source": [
        "df = df.dropna(axis=0, how='any', thresh=None, subset=None, inplace=False)"
      ],
      "metadata": {
        "id": "ePdIBs7BiNJD"
      },
      "execution_count": null,
      "outputs": []
    },
    {
      "cell_type": "markdown",
      "metadata": {
        "id": "jsFeCe0-sUfX"
      },
      "source": [
        "# Exploring the data"
      ]
    },
    {
      "cell_type": "code",
      "execution_count": null,
      "metadata": {
        "colab": {
          "base_uri": "https://localhost:8080/"
        },
        "id": "myfLZG3rsXZF",
        "outputId": "18498dd0-b157-4fdb-a256-155d021f4660"
      },
      "outputs": [
        {
          "output_type": "execute_result",
          "data": {
            "text/plain": [
              "Index(['Pregnancies', 'Glucose', 'BloodPressure', 'SkinThickness', 'Insulin',\n",
              "       'BMI', 'DiabetesPedigreeFunction', 'Age', 'Outcome'],\n",
              "      dtype='object')"
            ]
          },
          "metadata": {},
          "execution_count": 6
        }
      ],
      "source": [
        "df.columns"
      ]
    },
    {
      "cell_type": "code",
      "execution_count": null,
      "metadata": {
        "colab": {
          "base_uri": "https://localhost:8080/"
        },
        "id": "tb5eZpKbsZCt",
        "outputId": "6aa028f5-7741-4315-854c-22607b1f8cca"
      },
      "outputs": [
        {
          "output_type": "execute_result",
          "data": {
            "text/plain": [
              "(768, 9)"
            ]
          },
          "metadata": {},
          "execution_count": 7
        }
      ],
      "source": [
        "df.shape"
      ]
    },
    {
      "cell_type": "code",
      "execution_count": null,
      "metadata": {
        "colab": {
          "base_uri": "https://localhost:8080/",
          "height": 300
        },
        "id": "T1n652AcsagU",
        "outputId": "6a97bfd9-09d0-46a6-c46b-20d3d467b3db"
      },
      "outputs": [
        {
          "output_type": "execute_result",
          "data": {
            "text/html": [
              "<div>\n",
              "<style scoped>\n",
              "    .dataframe tbody tr th:only-of-type {\n",
              "        vertical-align: middle;\n",
              "    }\n",
              "\n",
              "    .dataframe tbody tr th {\n",
              "        vertical-align: top;\n",
              "    }\n",
              "\n",
              "    .dataframe thead th {\n",
              "        text-align: right;\n",
              "    }\n",
              "</style>\n",
              "<table border=\"1\" class=\"dataframe\">\n",
              "  <thead>\n",
              "    <tr style=\"text-align: right;\">\n",
              "      <th></th>\n",
              "      <th>Pregnancies</th>\n",
              "      <th>Glucose</th>\n",
              "      <th>BloodPressure</th>\n",
              "      <th>SkinThickness</th>\n",
              "      <th>Insulin</th>\n",
              "      <th>BMI</th>\n",
              "      <th>DiabetesPedigreeFunction</th>\n",
              "      <th>Age</th>\n",
              "      <th>Outcome</th>\n",
              "    </tr>\n",
              "  </thead>\n",
              "  <tbody>\n",
              "    <tr>\n",
              "      <th>count</th>\n",
              "      <td>768.000000</td>\n",
              "      <td>768.000000</td>\n",
              "      <td>768.000000</td>\n",
              "      <td>768.000000</td>\n",
              "      <td>768.000000</td>\n",
              "      <td>768.000000</td>\n",
              "      <td>768.000000</td>\n",
              "      <td>768.000000</td>\n",
              "      <td>768.000000</td>\n",
              "    </tr>\n",
              "    <tr>\n",
              "      <th>mean</th>\n",
              "      <td>3.845052</td>\n",
              "      <td>120.894531</td>\n",
              "      <td>69.105469</td>\n",
              "      <td>20.536458</td>\n",
              "      <td>79.799479</td>\n",
              "      <td>31.992578</td>\n",
              "      <td>0.471876</td>\n",
              "      <td>33.240885</td>\n",
              "      <td>0.348958</td>\n",
              "    </tr>\n",
              "    <tr>\n",
              "      <th>std</th>\n",
              "      <td>3.369578</td>\n",
              "      <td>31.972618</td>\n",
              "      <td>19.355807</td>\n",
              "      <td>15.952218</td>\n",
              "      <td>115.244002</td>\n",
              "      <td>7.884160</td>\n",
              "      <td>0.331329</td>\n",
              "      <td>11.760232</td>\n",
              "      <td>0.476951</td>\n",
              "    </tr>\n",
              "    <tr>\n",
              "      <th>min</th>\n",
              "      <td>0.000000</td>\n",
              "      <td>0.000000</td>\n",
              "      <td>0.000000</td>\n",
              "      <td>0.000000</td>\n",
              "      <td>0.000000</td>\n",
              "      <td>0.000000</td>\n",
              "      <td>0.078000</td>\n",
              "      <td>21.000000</td>\n",
              "      <td>0.000000</td>\n",
              "    </tr>\n",
              "    <tr>\n",
              "      <th>25%</th>\n",
              "      <td>1.000000</td>\n",
              "      <td>99.000000</td>\n",
              "      <td>62.000000</td>\n",
              "      <td>0.000000</td>\n",
              "      <td>0.000000</td>\n",
              "      <td>27.300000</td>\n",
              "      <td>0.243750</td>\n",
              "      <td>24.000000</td>\n",
              "      <td>0.000000</td>\n",
              "    </tr>\n",
              "    <tr>\n",
              "      <th>50%</th>\n",
              "      <td>3.000000</td>\n",
              "      <td>117.000000</td>\n",
              "      <td>72.000000</td>\n",
              "      <td>23.000000</td>\n",
              "      <td>30.500000</td>\n",
              "      <td>32.000000</td>\n",
              "      <td>0.372500</td>\n",
              "      <td>29.000000</td>\n",
              "      <td>0.000000</td>\n",
              "    </tr>\n",
              "    <tr>\n",
              "      <th>75%</th>\n",
              "      <td>6.000000</td>\n",
              "      <td>140.250000</td>\n",
              "      <td>80.000000</td>\n",
              "      <td>32.000000</td>\n",
              "      <td>127.250000</td>\n",
              "      <td>36.600000</td>\n",
              "      <td>0.626250</td>\n",
              "      <td>41.000000</td>\n",
              "      <td>1.000000</td>\n",
              "    </tr>\n",
              "    <tr>\n",
              "      <th>max</th>\n",
              "      <td>17.000000</td>\n",
              "      <td>199.000000</td>\n",
              "      <td>122.000000</td>\n",
              "      <td>99.000000</td>\n",
              "      <td>846.000000</td>\n",
              "      <td>67.100000</td>\n",
              "      <td>2.420000</td>\n",
              "      <td>81.000000</td>\n",
              "      <td>1.000000</td>\n",
              "    </tr>\n",
              "  </tbody>\n",
              "</table>\n",
              "</div>"
            ],
            "text/plain": [
              "       Pregnancies     Glucose  ...         Age     Outcome\n",
              "count   768.000000  768.000000  ...  768.000000  768.000000\n",
              "mean      3.845052  120.894531  ...   33.240885    0.348958\n",
              "std       3.369578   31.972618  ...   11.760232    0.476951\n",
              "min       0.000000    0.000000  ...   21.000000    0.000000\n",
              "25%       1.000000   99.000000  ...   24.000000    0.000000\n",
              "50%       3.000000  117.000000  ...   29.000000    0.000000\n",
              "75%       6.000000  140.250000  ...   41.000000    1.000000\n",
              "max      17.000000  199.000000  ...   81.000000    1.000000\n",
              "\n",
              "[8 rows x 9 columns]"
            ]
          },
          "metadata": {},
          "execution_count": 8
        }
      ],
      "source": [
        "df.describe()"
      ]
    },
    {
      "cell_type": "code",
      "source": [
        "df.isnull()"
      ],
      "metadata": {
        "colab": {
          "base_uri": "https://localhost:8080/",
          "height": 423
        },
        "id": "9RBAKL7ihqls",
        "outputId": "7175a369-15ca-48f9-d9b3-fef3005e140b"
      },
      "execution_count": null,
      "outputs": [
        {
          "output_type": "execute_result",
          "data": {
            "text/html": [
              "<div>\n",
              "<style scoped>\n",
              "    .dataframe tbody tr th:only-of-type {\n",
              "        vertical-align: middle;\n",
              "    }\n",
              "\n",
              "    .dataframe tbody tr th {\n",
              "        vertical-align: top;\n",
              "    }\n",
              "\n",
              "    .dataframe thead th {\n",
              "        text-align: right;\n",
              "    }\n",
              "</style>\n",
              "<table border=\"1\" class=\"dataframe\">\n",
              "  <thead>\n",
              "    <tr style=\"text-align: right;\">\n",
              "      <th></th>\n",
              "      <th>Pregnancies</th>\n",
              "      <th>Glucose</th>\n",
              "      <th>BloodPressure</th>\n",
              "      <th>SkinThickness</th>\n",
              "      <th>Insulin</th>\n",
              "      <th>BMI</th>\n",
              "      <th>DiabetesPedigreeFunction</th>\n",
              "      <th>Age</th>\n",
              "      <th>Outcome</th>\n",
              "    </tr>\n",
              "  </thead>\n",
              "  <tbody>\n",
              "    <tr>\n",
              "      <th>0</th>\n",
              "      <td>False</td>\n",
              "      <td>False</td>\n",
              "      <td>False</td>\n",
              "      <td>False</td>\n",
              "      <td>False</td>\n",
              "      <td>False</td>\n",
              "      <td>False</td>\n",
              "      <td>False</td>\n",
              "      <td>False</td>\n",
              "    </tr>\n",
              "    <tr>\n",
              "      <th>1</th>\n",
              "      <td>False</td>\n",
              "      <td>False</td>\n",
              "      <td>False</td>\n",
              "      <td>False</td>\n",
              "      <td>False</td>\n",
              "      <td>False</td>\n",
              "      <td>False</td>\n",
              "      <td>False</td>\n",
              "      <td>False</td>\n",
              "    </tr>\n",
              "    <tr>\n",
              "      <th>2</th>\n",
              "      <td>False</td>\n",
              "      <td>False</td>\n",
              "      <td>False</td>\n",
              "      <td>False</td>\n",
              "      <td>False</td>\n",
              "      <td>False</td>\n",
              "      <td>False</td>\n",
              "      <td>False</td>\n",
              "      <td>False</td>\n",
              "    </tr>\n",
              "    <tr>\n",
              "      <th>3</th>\n",
              "      <td>False</td>\n",
              "      <td>False</td>\n",
              "      <td>False</td>\n",
              "      <td>False</td>\n",
              "      <td>False</td>\n",
              "      <td>False</td>\n",
              "      <td>False</td>\n",
              "      <td>False</td>\n",
              "      <td>False</td>\n",
              "    </tr>\n",
              "    <tr>\n",
              "      <th>4</th>\n",
              "      <td>False</td>\n",
              "      <td>False</td>\n",
              "      <td>False</td>\n",
              "      <td>False</td>\n",
              "      <td>False</td>\n",
              "      <td>False</td>\n",
              "      <td>False</td>\n",
              "      <td>False</td>\n",
              "      <td>False</td>\n",
              "    </tr>\n",
              "    <tr>\n",
              "      <th>...</th>\n",
              "      <td>...</td>\n",
              "      <td>...</td>\n",
              "      <td>...</td>\n",
              "      <td>...</td>\n",
              "      <td>...</td>\n",
              "      <td>...</td>\n",
              "      <td>...</td>\n",
              "      <td>...</td>\n",
              "      <td>...</td>\n",
              "    </tr>\n",
              "    <tr>\n",
              "      <th>763</th>\n",
              "      <td>False</td>\n",
              "      <td>False</td>\n",
              "      <td>False</td>\n",
              "      <td>False</td>\n",
              "      <td>False</td>\n",
              "      <td>False</td>\n",
              "      <td>False</td>\n",
              "      <td>False</td>\n",
              "      <td>False</td>\n",
              "    </tr>\n",
              "    <tr>\n",
              "      <th>764</th>\n",
              "      <td>False</td>\n",
              "      <td>False</td>\n",
              "      <td>False</td>\n",
              "      <td>False</td>\n",
              "      <td>False</td>\n",
              "      <td>False</td>\n",
              "      <td>False</td>\n",
              "      <td>False</td>\n",
              "      <td>False</td>\n",
              "    </tr>\n",
              "    <tr>\n",
              "      <th>765</th>\n",
              "      <td>False</td>\n",
              "      <td>False</td>\n",
              "      <td>False</td>\n",
              "      <td>False</td>\n",
              "      <td>False</td>\n",
              "      <td>False</td>\n",
              "      <td>False</td>\n",
              "      <td>False</td>\n",
              "      <td>False</td>\n",
              "    </tr>\n",
              "    <tr>\n",
              "      <th>766</th>\n",
              "      <td>False</td>\n",
              "      <td>False</td>\n",
              "      <td>False</td>\n",
              "      <td>False</td>\n",
              "      <td>False</td>\n",
              "      <td>False</td>\n",
              "      <td>False</td>\n",
              "      <td>False</td>\n",
              "      <td>False</td>\n",
              "    </tr>\n",
              "    <tr>\n",
              "      <th>767</th>\n",
              "      <td>False</td>\n",
              "      <td>False</td>\n",
              "      <td>False</td>\n",
              "      <td>False</td>\n",
              "      <td>False</td>\n",
              "      <td>False</td>\n",
              "      <td>False</td>\n",
              "      <td>False</td>\n",
              "      <td>False</td>\n",
              "    </tr>\n",
              "  </tbody>\n",
              "</table>\n",
              "<p>768 rows × 9 columns</p>\n",
              "</div>"
            ],
            "text/plain": [
              "     Pregnancies  Glucose  ...    Age  Outcome\n",
              "0          False    False  ...  False    False\n",
              "1          False    False  ...  False    False\n",
              "2          False    False  ...  False    False\n",
              "3          False    False  ...  False    False\n",
              "4          False    False  ...  False    False\n",
              "..           ...      ...  ...    ...      ...\n",
              "763        False    False  ...  False    False\n",
              "764        False    False  ...  False    False\n",
              "765        False    False  ...  False    False\n",
              "766        False    False  ...  False    False\n",
              "767        False    False  ...  False    False\n",
              "\n",
              "[768 rows x 9 columns]"
            ]
          },
          "metadata": {},
          "execution_count": 9
        }
      ]
    },
    {
      "cell_type": "code",
      "execution_count": null,
      "metadata": {
        "colab": {
          "base_uri": "https://localhost:8080/"
        },
        "id": "CZP94_ucscDH",
        "outputId": "dcd24cbc-bbab-4675-fb3a-f8cf99eb19a5"
      },
      "outputs": [
        {
          "output_type": "execute_result",
          "data": {
            "text/plain": [
              "Pregnancies                 0\n",
              "Glucose                     0\n",
              "BloodPressure               0\n",
              "SkinThickness               0\n",
              "Insulin                     0\n",
              "BMI                         0\n",
              "DiabetesPedigreeFunction    0\n",
              "Age                         0\n",
              "Outcome                     0\n",
              "dtype: int64"
            ]
          },
          "metadata": {},
          "execution_count": 10
        }
      ],
      "source": [
        "df.isnull().sum()"
      ]
    },
    {
      "cell_type": "code",
      "execution_count": null,
      "metadata": {
        "colab": {
          "base_uri": "https://localhost:8080/"
        },
        "id": "MzIhGvGsvG-p",
        "outputId": "1f819c23-acfa-4526-a18f-043bc40f425e"
      },
      "outputs": [
        {
          "output_type": "execute_result",
          "data": {
            "text/plain": [
              "0    500\n",
              "1    268\n",
              "Name: Outcome, dtype: int64"
            ]
          },
          "metadata": {},
          "execution_count": 12
        }
      ],
      "source": [
        "df['Outcome'].value_counts()"
      ]
    },
    {
      "cell_type": "markdown",
      "metadata": {
        "id": "aDfJD-dgsd9d"
      },
      "source": [
        "# Statistical and Consistency Analysis"
      ]
    },
    {
      "cell_type": "code",
      "execution_count": null,
      "metadata": {
        "colab": {
          "base_uri": "https://localhost:8080/",
          "height": 206
        },
        "id": "k-SifpQPslCz",
        "outputId": "7ebc251e-abf0-48bd-d0e2-1eef09db876e"
      },
      "outputs": [
        {
          "output_type": "execute_result",
          "data": {
            "text/html": [
              "<div>\n",
              "<style scoped>\n",
              "    .dataframe tbody tr th:only-of-type {\n",
              "        vertical-align: middle;\n",
              "    }\n",
              "\n",
              "    .dataframe tbody tr th {\n",
              "        vertical-align: top;\n",
              "    }\n",
              "\n",
              "    .dataframe thead th {\n",
              "        text-align: right;\n",
              "    }\n",
              "</style>\n",
              "<table border=\"1\" class=\"dataframe\">\n",
              "  <thead>\n",
              "    <tr style=\"text-align: right;\">\n",
              "      <th></th>\n",
              "      <th>Pregnancies</th>\n",
              "      <th>Glucose</th>\n",
              "      <th>BloodPressure</th>\n",
              "      <th>SkinThickness</th>\n",
              "      <th>Insulin</th>\n",
              "      <th>BMI</th>\n",
              "      <th>DiabetesPedigreeFunction</th>\n",
              "      <th>Age</th>\n",
              "      <th>Outcome</th>\n",
              "    </tr>\n",
              "  </thead>\n",
              "  <tbody>\n",
              "    <tr>\n",
              "      <th>1</th>\n",
              "      <td>1</td>\n",
              "      <td>85</td>\n",
              "      <td>66</td>\n",
              "      <td>29</td>\n",
              "      <td>0</td>\n",
              "      <td>26.6</td>\n",
              "      <td>0.351</td>\n",
              "      <td>31</td>\n",
              "      <td>0</td>\n",
              "    </tr>\n",
              "    <tr>\n",
              "      <th>3</th>\n",
              "      <td>1</td>\n",
              "      <td>89</td>\n",
              "      <td>66</td>\n",
              "      <td>23</td>\n",
              "      <td>94</td>\n",
              "      <td>28.1</td>\n",
              "      <td>0.167</td>\n",
              "      <td>21</td>\n",
              "      <td>0</td>\n",
              "    </tr>\n",
              "    <tr>\n",
              "      <th>5</th>\n",
              "      <td>5</td>\n",
              "      <td>116</td>\n",
              "      <td>74</td>\n",
              "      <td>0</td>\n",
              "      <td>0</td>\n",
              "      <td>25.6</td>\n",
              "      <td>0.201</td>\n",
              "      <td>30</td>\n",
              "      <td>0</td>\n",
              "    </tr>\n",
              "    <tr>\n",
              "      <th>7</th>\n",
              "      <td>10</td>\n",
              "      <td>115</td>\n",
              "      <td>0</td>\n",
              "      <td>0</td>\n",
              "      <td>0</td>\n",
              "      <td>35.3</td>\n",
              "      <td>0.134</td>\n",
              "      <td>29</td>\n",
              "      <td>0</td>\n",
              "    </tr>\n",
              "    <tr>\n",
              "      <th>10</th>\n",
              "      <td>4</td>\n",
              "      <td>110</td>\n",
              "      <td>92</td>\n",
              "      <td>0</td>\n",
              "      <td>0</td>\n",
              "      <td>37.6</td>\n",
              "      <td>0.191</td>\n",
              "      <td>30</td>\n",
              "      <td>0</td>\n",
              "    </tr>\n",
              "  </tbody>\n",
              "</table>\n",
              "</div>"
            ],
            "text/plain": [
              "    Pregnancies  Glucose  BloodPressure  ...  DiabetesPedigreeFunction  Age  Outcome\n",
              "1             1       85             66  ...                     0.351   31        0\n",
              "3             1       89             66  ...                     0.167   21        0\n",
              "5             5      116             74  ...                     0.201   30        0\n",
              "7            10      115              0  ...                     0.134   29        0\n",
              "10            4      110             92  ...                     0.191   30        0\n",
              "\n",
              "[5 rows x 9 columns]"
            ]
          },
          "metadata": {},
          "execution_count": 14
        }
      ],
      "source": [
        "df_0 = df[df[\"Outcome\"] == 0]\n",
        "df_0.head()"
      ]
    },
    {
      "cell_type": "code",
      "execution_count": null,
      "metadata": {
        "colab": {
          "base_uri": "https://localhost:8080/",
          "height": 436
        },
        "id": "LVvPSA53smkC",
        "outputId": "862a14bc-e748-412a-ba1c-c016fd43c71b"
      },
      "outputs": [
        {
          "output_type": "stream",
          "name": "stdout",
          "text": [
            "\n",
            "\n"
          ]
        },
        {
          "output_type": "stream",
          "name": "stderr",
          "text": [
            "/usr/local/lib/python3.7/dist-packages/scipy/stats/_distn_infrastructure.py:2003: RuntimeWarning: invalid value encountered in multiply\n",
            "  lower_bound = _a * scale + loc\n",
            "/usr/local/lib/python3.7/dist-packages/scipy/stats/_distn_infrastructure.py:2004: RuntimeWarning: invalid value encountered in multiply\n",
            "  upper_bound = _b * scale + loc\n"
          ]
        },
        {
          "output_type": "execute_result",
          "data": {
            "text/html": [
              "<div>\n",
              "<style scoped>\n",
              "    .dataframe tbody tr th:only-of-type {\n",
              "        vertical-align: middle;\n",
              "    }\n",
              "\n",
              "    .dataframe tbody tr th {\n",
              "        vertical-align: top;\n",
              "    }\n",
              "\n",
              "    .dataframe thead th {\n",
              "        text-align: right;\n",
              "    }\n",
              "</style>\n",
              "<table border=\"1\" class=\"dataframe\">\n",
              "  <thead>\n",
              "    <tr style=\"text-align: right;\">\n",
              "      <th></th>\n",
              "      <th>Variable</th>\n",
              "      <th>N</th>\n",
              "      <th>Mean</th>\n",
              "      <th>SD</th>\n",
              "      <th>SE</th>\n",
              "      <th>95% Conf.</th>\n",
              "      <th>Interval</th>\n",
              "    </tr>\n",
              "  </thead>\n",
              "  <tbody>\n",
              "    <tr>\n",
              "      <th>0</th>\n",
              "      <td>Pregnancies</td>\n",
              "      <td>500.0</td>\n",
              "      <td>3.2980</td>\n",
              "      <td>3.0172</td>\n",
              "      <td>0.1349</td>\n",
              "      <td>3.0329</td>\n",
              "      <td>3.5631</td>\n",
              "    </tr>\n",
              "    <tr>\n",
              "      <th>1</th>\n",
              "      <td>Glucose</td>\n",
              "      <td>500.0</td>\n",
              "      <td>109.9800</td>\n",
              "      <td>26.1412</td>\n",
              "      <td>1.1691</td>\n",
              "      <td>107.6831</td>\n",
              "      <td>112.2769</td>\n",
              "    </tr>\n",
              "    <tr>\n",
              "      <th>2</th>\n",
              "      <td>BloodPressure</td>\n",
              "      <td>500.0</td>\n",
              "      <td>68.1840</td>\n",
              "      <td>18.0631</td>\n",
              "      <td>0.8078</td>\n",
              "      <td>66.5969</td>\n",
              "      <td>69.7711</td>\n",
              "    </tr>\n",
              "    <tr>\n",
              "      <th>3</th>\n",
              "      <td>SkinThickness</td>\n",
              "      <td>500.0</td>\n",
              "      <td>19.6640</td>\n",
              "      <td>14.8899</td>\n",
              "      <td>0.6659</td>\n",
              "      <td>18.3557</td>\n",
              "      <td>20.9723</td>\n",
              "    </tr>\n",
              "    <tr>\n",
              "      <th>4</th>\n",
              "      <td>Insulin</td>\n",
              "      <td>500.0</td>\n",
              "      <td>68.7920</td>\n",
              "      <td>98.8653</td>\n",
              "      <td>4.4214</td>\n",
              "      <td>60.1052</td>\n",
              "      <td>77.4788</td>\n",
              "    </tr>\n",
              "    <tr>\n",
              "      <th>5</th>\n",
              "      <td>BMI</td>\n",
              "      <td>500.0</td>\n",
              "      <td>30.3042</td>\n",
              "      <td>7.6899</td>\n",
              "      <td>0.3439</td>\n",
              "      <td>29.6285</td>\n",
              "      <td>30.9799</td>\n",
              "    </tr>\n",
              "    <tr>\n",
              "      <th>6</th>\n",
              "      <td>DiabetesPedigreeFunction</td>\n",
              "      <td>500.0</td>\n",
              "      <td>0.4297</td>\n",
              "      <td>0.2991</td>\n",
              "      <td>0.0134</td>\n",
              "      <td>0.4035</td>\n",
              "      <td>0.4560</td>\n",
              "    </tr>\n",
              "    <tr>\n",
              "      <th>7</th>\n",
              "      <td>Age</td>\n",
              "      <td>500.0</td>\n",
              "      <td>31.1900</td>\n",
              "      <td>11.6677</td>\n",
              "      <td>0.5218</td>\n",
              "      <td>30.1648</td>\n",
              "      <td>32.2152</td>\n",
              "    </tr>\n",
              "    <tr>\n",
              "      <th>8</th>\n",
              "      <td>Outcome</td>\n",
              "      <td>500.0</td>\n",
              "      <td>0.0000</td>\n",
              "      <td>0.0000</td>\n",
              "      <td>0.0000</td>\n",
              "      <td>NaN</td>\n",
              "      <td>NaN</td>\n",
              "    </tr>\n",
              "  </tbody>\n",
              "</table>\n",
              "</div>"
            ],
            "text/plain": [
              "                   Variable      N      Mean  ...      SE  95% Conf.  Interval\n",
              "0               Pregnancies  500.0    3.2980  ...  0.1349     3.0329    3.5631\n",
              "1                   Glucose  500.0  109.9800  ...  1.1691   107.6831  112.2769\n",
              "2             BloodPressure  500.0   68.1840  ...  0.8078    66.5969   69.7711\n",
              "3             SkinThickness  500.0   19.6640  ...  0.6659    18.3557   20.9723\n",
              "4                   Insulin  500.0   68.7920  ...  4.4214    60.1052   77.4788\n",
              "5                       BMI  500.0   30.3042  ...  0.3439    29.6285   30.9799\n",
              "6  DiabetesPedigreeFunction  500.0    0.4297  ...  0.0134     0.4035    0.4560\n",
              "7                       Age  500.0   31.1900  ...  0.5218    30.1648   32.2152\n",
              "8                   Outcome  500.0    0.0000  ...  0.0000        NaN       NaN\n",
              "\n",
              "[9 rows x 7 columns]"
            ]
          },
          "metadata": {},
          "execution_count": 15
        }
      ],
      "source": [
        "rp.summary_cont(df_0)"
      ]
    },
    {
      "cell_type": "code",
      "execution_count": null,
      "metadata": {
        "colab": {
          "base_uri": "https://localhost:8080/"
        },
        "id": "iCTtaNEXsp5i",
        "outputId": "9de96c40-6381-40f5-db78-8526889686e7"
      },
      "outputs": [
        {
          "output_type": "execute_result",
          "data": {
            "text/plain": [
              "Pregnancies                    9.085196\n",
              "Glucose                      681.995600\n",
              "BloodPressure                325.622144\n",
              "SkinThickness                221.267104\n",
              "Insulin                     9754.796736\n",
              "BMI                           59.015602\n",
              "DiabetesPedigreeFunction       0.089273\n",
              "Age                          135.861900\n",
              "Outcome                        0.000000\n",
              "dtype: float64"
            ]
          },
          "metadata": {},
          "execution_count": 16
        }
      ],
      "source": [
        "np.var(df_0)"
      ]
    },
    {
      "cell_type": "code",
      "execution_count": null,
      "metadata": {
        "colab": {
          "base_uri": "https://localhost:8080/"
        },
        "id": "1lgN0vl2srS7",
        "outputId": "a01bef53-b2b1-4d85-92a7-337557c98b6f"
      },
      "outputs": [
        {
          "output_type": "execute_result",
          "data": {
            "text/plain": [
              "array([ 1.11075999,  0.17259135, -1.80439066,  0.03106169,  2.49123855,\n",
              "       -0.66390267,  2.00021791,  1.5668906 ,  0.        ])"
            ]
          },
          "metadata": {},
          "execution_count": 17
        }
      ],
      "source": [
        "scipy.stats.skew(df_0)"
      ]
    },
    {
      "cell_type": "code",
      "execution_count": null,
      "metadata": {
        "colab": {
          "base_uri": "https://localhost:8080/",
          "height": 206
        },
        "id": "4CtKxwtzssp4",
        "outputId": "a9f9c1bb-b820-4ec9-80db-4a02e35378c9"
      },
      "outputs": [
        {
          "output_type": "execute_result",
          "data": {
            "text/html": [
              "<div>\n",
              "<style scoped>\n",
              "    .dataframe tbody tr th:only-of-type {\n",
              "        vertical-align: middle;\n",
              "    }\n",
              "\n",
              "    .dataframe tbody tr th {\n",
              "        vertical-align: top;\n",
              "    }\n",
              "\n",
              "    .dataframe thead th {\n",
              "        text-align: right;\n",
              "    }\n",
              "</style>\n",
              "<table border=\"1\" class=\"dataframe\">\n",
              "  <thead>\n",
              "    <tr style=\"text-align: right;\">\n",
              "      <th></th>\n",
              "      <th>Pregnancies</th>\n",
              "      <th>Glucose</th>\n",
              "      <th>BloodPressure</th>\n",
              "      <th>SkinThickness</th>\n",
              "      <th>Insulin</th>\n",
              "      <th>BMI</th>\n",
              "      <th>DiabetesPedigreeFunction</th>\n",
              "      <th>Age</th>\n",
              "      <th>Outcome</th>\n",
              "    </tr>\n",
              "  </thead>\n",
              "  <tbody>\n",
              "    <tr>\n",
              "      <th>0</th>\n",
              "      <td>6</td>\n",
              "      <td>148</td>\n",
              "      <td>72</td>\n",
              "      <td>35</td>\n",
              "      <td>0</td>\n",
              "      <td>33.6</td>\n",
              "      <td>0.627</td>\n",
              "      <td>50</td>\n",
              "      <td>1</td>\n",
              "    </tr>\n",
              "    <tr>\n",
              "      <th>2</th>\n",
              "      <td>8</td>\n",
              "      <td>183</td>\n",
              "      <td>64</td>\n",
              "      <td>0</td>\n",
              "      <td>0</td>\n",
              "      <td>23.3</td>\n",
              "      <td>0.672</td>\n",
              "      <td>32</td>\n",
              "      <td>1</td>\n",
              "    </tr>\n",
              "    <tr>\n",
              "      <th>4</th>\n",
              "      <td>0</td>\n",
              "      <td>137</td>\n",
              "      <td>40</td>\n",
              "      <td>35</td>\n",
              "      <td>168</td>\n",
              "      <td>43.1</td>\n",
              "      <td>2.288</td>\n",
              "      <td>33</td>\n",
              "      <td>1</td>\n",
              "    </tr>\n",
              "    <tr>\n",
              "      <th>6</th>\n",
              "      <td>3</td>\n",
              "      <td>78</td>\n",
              "      <td>50</td>\n",
              "      <td>32</td>\n",
              "      <td>88</td>\n",
              "      <td>31.0</td>\n",
              "      <td>0.248</td>\n",
              "      <td>26</td>\n",
              "      <td>1</td>\n",
              "    </tr>\n",
              "    <tr>\n",
              "      <th>8</th>\n",
              "      <td>2</td>\n",
              "      <td>197</td>\n",
              "      <td>70</td>\n",
              "      <td>45</td>\n",
              "      <td>543</td>\n",
              "      <td>30.5</td>\n",
              "      <td>0.158</td>\n",
              "      <td>53</td>\n",
              "      <td>1</td>\n",
              "    </tr>\n",
              "  </tbody>\n",
              "</table>\n",
              "</div>"
            ],
            "text/plain": [
              "   Pregnancies  Glucose  BloodPressure  ...  DiabetesPedigreeFunction  Age  Outcome\n",
              "0            6      148             72  ...                     0.627   50        1\n",
              "2            8      183             64  ...                     0.672   32        1\n",
              "4            0      137             40  ...                     2.288   33        1\n",
              "6            3       78             50  ...                     0.248   26        1\n",
              "8            2      197             70  ...                     0.158   53        1\n",
              "\n",
              "[5 rows x 9 columns]"
            ]
          },
          "metadata": {},
          "execution_count": 20
        }
      ],
      "source": [
        "df_1 = df[df[\"Outcome\"] == 1]\n",
        "df_1.head()"
      ]
    },
    {
      "cell_type": "code",
      "execution_count": null,
      "metadata": {
        "colab": {
          "base_uri": "https://localhost:8080/",
          "height": 436
        },
        "id": "FbIwyJtNstJl",
        "outputId": "18c70733-7151-4745-8a5a-1290408c6627"
      },
      "outputs": [
        {
          "output_type": "stream",
          "name": "stdout",
          "text": [
            "\n",
            "\n"
          ]
        },
        {
          "output_type": "stream",
          "name": "stderr",
          "text": [
            "/usr/local/lib/python3.7/dist-packages/scipy/stats/_distn_infrastructure.py:2003: RuntimeWarning: invalid value encountered in multiply\n",
            "  lower_bound = _a * scale + loc\n",
            "/usr/local/lib/python3.7/dist-packages/scipy/stats/_distn_infrastructure.py:2004: RuntimeWarning: invalid value encountered in multiply\n",
            "  upper_bound = _b * scale + loc\n"
          ]
        },
        {
          "output_type": "execute_result",
          "data": {
            "text/html": [
              "<div>\n",
              "<style scoped>\n",
              "    .dataframe tbody tr th:only-of-type {\n",
              "        vertical-align: middle;\n",
              "    }\n",
              "\n",
              "    .dataframe tbody tr th {\n",
              "        vertical-align: top;\n",
              "    }\n",
              "\n",
              "    .dataframe thead th {\n",
              "        text-align: right;\n",
              "    }\n",
              "</style>\n",
              "<table border=\"1\" class=\"dataframe\">\n",
              "  <thead>\n",
              "    <tr style=\"text-align: right;\">\n",
              "      <th></th>\n",
              "      <th>Variable</th>\n",
              "      <th>N</th>\n",
              "      <th>Mean</th>\n",
              "      <th>SD</th>\n",
              "      <th>SE</th>\n",
              "      <th>95% Conf.</th>\n",
              "      <th>Interval</th>\n",
              "    </tr>\n",
              "  </thead>\n",
              "  <tbody>\n",
              "    <tr>\n",
              "      <th>0</th>\n",
              "      <td>Pregnancies</td>\n",
              "      <td>268.0</td>\n",
              "      <td>4.8657</td>\n",
              "      <td>3.7412</td>\n",
              "      <td>0.2285</td>\n",
              "      <td>4.4157</td>\n",
              "      <td>5.3156</td>\n",
              "    </tr>\n",
              "    <tr>\n",
              "      <th>1</th>\n",
              "      <td>Glucose</td>\n",
              "      <td>268.0</td>\n",
              "      <td>141.2575</td>\n",
              "      <td>31.9396</td>\n",
              "      <td>1.9510</td>\n",
              "      <td>137.4161</td>\n",
              "      <td>145.0988</td>\n",
              "    </tr>\n",
              "    <tr>\n",
              "      <th>2</th>\n",
              "      <td>BloodPressure</td>\n",
              "      <td>268.0</td>\n",
              "      <td>70.8246</td>\n",
              "      <td>21.4918</td>\n",
              "      <td>1.3128</td>\n",
              "      <td>68.2398</td>\n",
              "      <td>73.4094</td>\n",
              "    </tr>\n",
              "    <tr>\n",
              "      <th>3</th>\n",
              "      <td>SkinThickness</td>\n",
              "      <td>268.0</td>\n",
              "      <td>22.1642</td>\n",
              "      <td>17.6797</td>\n",
              "      <td>1.0800</td>\n",
              "      <td>20.0379</td>\n",
              "      <td>24.2905</td>\n",
              "    </tr>\n",
              "    <tr>\n",
              "      <th>4</th>\n",
              "      <td>Insulin</td>\n",
              "      <td>268.0</td>\n",
              "      <td>100.3358</td>\n",
              "      <td>138.6891</td>\n",
              "      <td>8.4718</td>\n",
              "      <td>83.6558</td>\n",
              "      <td>117.0158</td>\n",
              "    </tr>\n",
              "    <tr>\n",
              "      <th>5</th>\n",
              "      <td>BMI</td>\n",
              "      <td>268.0</td>\n",
              "      <td>35.1425</td>\n",
              "      <td>7.2630</td>\n",
              "      <td>0.4437</td>\n",
              "      <td>34.2690</td>\n",
              "      <td>36.0160</td>\n",
              "    </tr>\n",
              "    <tr>\n",
              "      <th>6</th>\n",
              "      <td>DiabetesPedigreeFunction</td>\n",
              "      <td>268.0</td>\n",
              "      <td>0.5505</td>\n",
              "      <td>0.3724</td>\n",
              "      <td>0.0227</td>\n",
              "      <td>0.5057</td>\n",
              "      <td>0.5953</td>\n",
              "    </tr>\n",
              "    <tr>\n",
              "      <th>7</th>\n",
              "      <td>Age</td>\n",
              "      <td>268.0</td>\n",
              "      <td>37.0672</td>\n",
              "      <td>10.9683</td>\n",
              "      <td>0.6700</td>\n",
              "      <td>35.7480</td>\n",
              "      <td>38.3863</td>\n",
              "    </tr>\n",
              "    <tr>\n",
              "      <th>8</th>\n",
              "      <td>Outcome</td>\n",
              "      <td>268.0</td>\n",
              "      <td>1.0000</td>\n",
              "      <td>0.0000</td>\n",
              "      <td>0.0000</td>\n",
              "      <td>NaN</td>\n",
              "      <td>NaN</td>\n",
              "    </tr>\n",
              "  </tbody>\n",
              "</table>\n",
              "</div>"
            ],
            "text/plain": [
              "                   Variable      N      Mean  ...      SE  95% Conf.  Interval\n",
              "0               Pregnancies  268.0    4.8657  ...  0.2285     4.4157    5.3156\n",
              "1                   Glucose  268.0  141.2575  ...  1.9510   137.4161  145.0988\n",
              "2             BloodPressure  268.0   70.8246  ...  1.3128    68.2398   73.4094\n",
              "3             SkinThickness  268.0   22.1642  ...  1.0800    20.0379   24.2905\n",
              "4                   Insulin  268.0  100.3358  ...  8.4718    83.6558  117.0158\n",
              "5                       BMI  268.0   35.1425  ...  0.4437    34.2690   36.0160\n",
              "6  DiabetesPedigreeFunction  268.0    0.5505  ...  0.0227     0.5057    0.5953\n",
              "7                       Age  268.0   37.0672  ...  0.6700    35.7480   38.3863\n",
              "8                   Outcome  268.0    1.0000  ...  0.0000        NaN       NaN\n",
              "\n",
              "[9 rows x 7 columns]"
            ]
          },
          "metadata": {},
          "execution_count": 21
        }
      ],
      "source": [
        "rp.summary_cont(df_1)"
      ]
    },
    {
      "cell_type": "code",
      "execution_count": null,
      "metadata": {
        "colab": {
          "base_uri": "https://localhost:8080/"
        },
        "id": "t4dWUcTnsvQP",
        "outputId": "b6d711da-d7c2-477d-9679-ac7af9970aa6"
      },
      "outputs": [
        {
          "output_type": "execute_result",
          "data": {
            "text/plain": [
              "Pregnancies                    13.944642\n",
              "Glucose                      1016.332967\n",
              "BloodPressure                 460.174468\n",
              "SkinThickness                 311.405881\n",
              "Insulin                     19162.902150\n",
              "BMI                            52.553862\n",
              "DiabetesPedigreeFunction        0.138131\n",
              "Age                           119.853698\n",
              "Outcome                         0.000000\n",
              "dtype: float64"
            ]
          },
          "metadata": {},
          "execution_count": 22
        }
      ],
      "source": [
        "np.var(df_1)"
      ]
    },
    {
      "cell_type": "code",
      "execution_count": null,
      "metadata": {
        "colab": {
          "base_uri": "https://localhost:8080/"
        },
        "id": "lLpjhBpbsxDA",
        "outputId": "612a6802-ff4a-46b4-f755-7d526eb7cb50"
      },
      "outputs": [
        {
          "output_type": "execute_result",
          "data": {
            "text/plain": [
              "array([ 5.00925330e-01, -4.92779129e-01, -1.93273775e+00,  1.15259759e-01,\n",
              "        1.83349545e+00,  5.93487277e-04,  1.71271794e+00,  5.78385316e-01,\n",
              "        0.00000000e+00])"
            ]
          },
          "metadata": {},
          "execution_count": 23
        }
      ],
      "source": [
        "scipy.stats.skew(df_1)"
      ]
    },
    {
      "cell_type": "markdown",
      "metadata": {
        "id": "U1Q5A_Vjs2d0"
      },
      "source": [
        "# A significant difference is present between classes 0 and 1. Hence, it can be attributed as an imbalanced dataset."
      ]
    },
    {
      "cell_type": "markdown",
      "metadata": {
        "id": "i0p_5RgGs6hc"
      },
      "source": [
        "# Plotting of data points for all the 6 combinations of four random feature variables which are Glucose, BloodPressure, BMI, DiabetesPedigreeFunction, in order to visualise overlapping."
      ]
    },
    {
      "cell_type": "code",
      "execution_count": null,
      "metadata": {
        "colab": {
          "base_uri": "https://localhost:8080/",
          "height": 265
        },
        "id": "wMUCmOmhs9iq",
        "outputId": "ce02b654-e7ec-4aba-f78a-a3070f59fbb4"
      },
      "outputs": [
        {
          "output_type": "display_data",
          "data": {
            "image/png": "[encoded data removed]",
            "text/plain": [
              "<Figure size 432x288 with 1 Axes>"
            ]
          },
          "metadata": {
            "needs_background": "light"
          }
        }
      ],
      "source": [
        "for i in range(len(df)):\n",
        "  x1=df.iloc[i,1]\n",
        "  x2=df.iloc[i,2]\n",
        "  x3=df.iloc[i,5]\n",
        "  x4=df.iloc[i,6]\n",
        "  y=df.iloc[i,8]\n",
        "  if(y==0):\n",
        "    plt.scatter(x1,x2,color='red')\n",
        "  else:\n",
        "    plt.scatter(x1,x2,color='blue')\n",
        "plt.show()"
      ]
    },
    {
      "cell_type": "code",
      "execution_count": null,
      "metadata": {
        "colab": {
          "base_uri": "https://localhost:8080/",
          "height": 268
        },
        "id": "WRFqIDnvtCuZ",
        "outputId": "e503aa92-db6c-4449-d7d4-d70b9a51d925"
      },
      "outputs": [
        {
          "output_type": "display_data",
          "data": {
            "image/png": "[encoded data removed]",
            "text/plain": [
              "<Figure size 432x288 with 1 Axes>"
            ]
          },
          "metadata": {
            "needs_background": "light"
          }
        }
      ],
      "source": [
        "for i in range(len(df)):\n",
        "  x1=df.iloc[i,1]\n",
        "  x2=df.iloc[i,2]\n",
        "  x3=df.iloc[i,5]\n",
        "  x4=df.iloc[i,6]\n",
        "  y=df.iloc[i,8]\n",
        "  if(y==0):\n",
        "    plt.scatter(x1,x3,color='red')\n",
        "  else:\n",
        "    plt.scatter(x1,x3,color='blue')\n",
        "plt.show()"
      ]
    },
    {
      "cell_type": "code",
      "execution_count": null,
      "metadata": {
        "colab": {
          "base_uri": "https://localhost:8080/",
          "height": 266
        },
        "id": "2NqzrBm5tEO3",
        "outputId": "4ddffc17-da66-4eb3-fc4e-f402a4db2fe9"
      },
      "outputs": [
        {
          "output_type": "display_data",
          "data": {
            "image/png": "[encoded data removed]",
            "text/plain": [
              "<Figure size 432x288 with 1 Axes>"
            ]
          },
          "metadata": {
            "needs_background": "light"
          }
        }
      ],
      "source": [
        "for i in range(len(df)):\n",
        "  x1=df.iloc[i,1]\n",
        "  x2=df.iloc[i,2]\n",
        "  x3=df.iloc[i,5]\n",
        "  x4=df.iloc[i,6]\n",
        "  y=df.iloc[i,8]\n",
        "  if(y==0):\n",
        "    plt.scatter(x1,x4,color='red')\n",
        "  else:\n",
        "    plt.scatter(x1,x4,color='blue')\n",
        "plt.show()"
      ]
    },
    {
      "cell_type": "code",
      "execution_count": null,
      "metadata": {
        "id": "jHDEC1yetFxB",
        "colab": {
          "base_uri": "https://localhost:8080/",
          "height": 268
        },
        "outputId": "d0390d1b-19ee-4f8f-bc46-aba5ff4ee066"
      },
      "outputs": [
        {
          "output_type": "display_data",
          "data": {
            "image/png": "[encoded data removed]",
            "text/plain": [
              "<Figure size 432x288 with 1 Axes>"
            ]
          },
          "metadata": {
            "needs_background": "light"
          }
        }
      ],
      "source": [
        "for i in range(len(df)):\n",
        "  x1=df.iloc[i,1]\n",
        "  x2=df.iloc[i,2]\n",
        "  x3=df.iloc[i,5]\n",
        "  x4=df.iloc[i,6]\n",
        "  y=df.iloc[i,8]\n",
        "  if(y==0):\n",
        "    plt.scatter(x2,x3,color='red')\n",
        "  else:\n",
        "    plt.scatter(x2,x3,color='blue')\n",
        "plt.show()"
      ]
    },
    {
      "cell_type": "code",
      "execution_count": null,
      "metadata": {
        "id": "OsaxHG05tHTK",
        "colab": {
          "base_uri": "https://localhost:8080/",
          "height": 266
        },
        "outputId": "84de4e79-ee1c-4a47-d700-e2be2bce3049"
      },
      "outputs": [
        {
          "output_type": "display_data",
          "data": {
            "image/png": "[encoded data removed]",
            "text/plain": [
              "<Figure size 432x288 with 1 Axes>"
            ]
          },
          "metadata": {
            "needs_background": "light"
          }
        }
      ],
      "source": [
        "for i in range(len(df)):\n",
        "  x1=df.iloc[i,1]\n",
        "  x2=df.iloc[i,2]\n",
        "  x3=df.iloc[i,5]\n",
        "  x4=df.iloc[i,6]\n",
        "  y=df.iloc[i,8]\n",
        "  if(y==0):\n",
        "    plt.scatter(x2,x4,color='red')\n",
        "  else:\n",
        "    plt.scatter(x2,x4,color='blue')\n",
        "plt.show()"
      ]
    },
    {
      "cell_type": "code",
      "execution_count": null,
      "metadata": {
        "id": "wIbIwOlktItH",
        "colab": {
          "base_uri": "https://localhost:8080/",
          "height": 266
        },
        "outputId": "4599633c-7ca8-487a-dbc6-644f31e2b494"
      },
      "outputs": [
        {
          "output_type": "display_data",
          "data": {
            "image/png": "[encoded data removed]",
            "text/plain": [
              "<Figure size 432x288 with 1 Axes>"
            ]
          },
          "metadata": {
            "needs_background": "light"
          }
        }
      ],
      "source": [
        "for i in range(len(df)):\n",
        "  x1=df.iloc[i,1]\n",
        "  x2=df.iloc[i,2]\n",
        "  x3=df.iloc[i,5]\n",
        "  x4=df.iloc[i,6]\n",
        "  y=df.iloc[i,8]\n",
        "  if(y==0):\n",
        "    plt.scatter(x3,x4,color='red')\n",
        "  else:\n",
        "    plt.scatter(x3,x4,color='blue')\n",
        "plt.show()"
      ]
    },
    {
      "cell_type": "markdown",
      "metadata": {
        "id": "h_zXeoyztKyw"
      },
      "source": [
        "# Hence, it can be confirmed from the above scatter plots that all of the six randomly selected features, hence all other features, overlap with one another as expected."
      ]
    },
    {
      "cell_type": "markdown",
      "metadata": {
        "id": "qHmhlpD3tMsP"
      },
      "source": [
        "# Data Splicing"
      ]
    },
    {
      "cell_type": "code",
      "execution_count": null,
      "metadata": {
        "id": "6fvu4wDNtOib"
      },
      "outputs": [],
      "source": [
        "x=df.drop('Outcome',axis=1)\n",
        "y=df['Outcome']"
      ]
    },
    {
      "cell_type": "code",
      "execution_count": null,
      "metadata": {
        "id": "T49vVtvFtQNl"
      },
      "outputs": [],
      "source": [
        "x_train,x_test,y_train,y_test=train_test_split(x,y,test_size=0.25,random_state=1)"
      ]
    },
    {
      "cell_type": "markdown",
      "metadata": {
        "id": "UTv89tXatRtF"
      },
      "source": [
        "# Decision Tree Clasiifier"
      ]
    },
    {
      "cell_type": "code",
      "execution_count": null,
      "metadata": {
        "colab": {
          "base_uri": "https://localhost:8080/"
        },
        "id": "EqY5raA5tVeJ",
        "outputId": "5e4e5439-4f18-40ef-acd0-df0a9da3dcc8"
      },
      "outputs": [
        {
          "output_type": "stream",
          "name": "stdout",
          "text": [
            "Accuracy Score = 0.682\n",
            "\n",
            "Confusion Matrix : \n",
            " [[97 26]\n",
            " [35 34]]\n",
            "\n",
            "Classification Report : \n",
            "               precision    recall  f1-score   support\n",
            "\n",
            "           0       0.73      0.79      0.76       123\n",
            "           1       0.57      0.49      0.53        69\n",
            "\n",
            "    accuracy                           0.68       192\n",
            "   macro avg       0.65      0.64      0.64       192\n",
            "weighted avg       0.67      0.68      0.68       192\n",
            "\n",
            "\n",
            "Accuracy using 10 fold Cross validation =  0.7101028433151846\n",
            "\n",
            "Precision using 10 fold Cross validation =  0.5645603182793585\n",
            "\n",
            "Recall using 10 fold Cross validation =  0.5676315789473684\n"
          ]
        }
      ],
      "source": [
        "warnings.filterwarnings('ignore')\n",
        "tree = DecisionTreeClassifier()\n",
        "tree_fit = tree.fit(x_train,y_train)\n",
        "y_pred = tree_fit.predict(x_test)\n",
        "print(\"Accuracy Score = %.3f\" %accuracy_score(y_test,y_pred))\n",
        "print(\"\\nConfusion Matrix : \\n\", confusion_matrix(y_test,y_pred))\n",
        "print(\"\\nClassification Report : \\n\", classification_report(y_test,y_pred))\n",
        "v_acc = cross_val_score(tree, x_train, y_train, cv=10, scoring='accuracy')\n",
        "v_pre = cross_val_score(tree, x_train, y_train, cv=10, scoring='precision')\n",
        "v_rec = cross_val_score(tree, x_train, y_train, cv=10, scoring='recall')\n",
        "print(\"\\nAccuracy using 10 fold Cross validation = \",v_acc.mean())\n",
        "print(\"\\nPrecision using 10 fold Cross validation = \",v_pre.mean())\n",
        "print(\"\\nRecall using 10 fold Cross validation = \",v_rec.mean())"
      ]
    },
    {
      "cell_type": "markdown",
      "metadata": {
        "id": "5YunmXg1tX1M"
      },
      "source": [
        "# KNN Classifier"
      ]
    },
    {
      "cell_type": "code",
      "execution_count": null,
      "metadata": {
        "id": "Hobh3UdLtY2d",
        "colab": {
          "base_uri": "https://localhost:8080/"
        },
        "outputId": "900bae18-5cc8-4fd7-c985-23c9cdc1b106"
      },
      "outputs": [
        {
          "output_type": "stream",
          "name": "stdout",
          "text": [
            "Accuracy Score = 0.740\n",
            "\n",
            "Confusion Matrix : \n",
            " [[101  22]\n",
            " [ 28  41]]\n",
            "\n",
            "Classification Report : \n",
            "               precision    recall  f1-score   support\n",
            "\n",
            "           0       0.78      0.82      0.80       123\n",
            "           1       0.65      0.59      0.62        69\n",
            "\n",
            "    accuracy                           0.74       192\n",
            "   macro avg       0.72      0.71      0.71       192\n",
            "weighted avg       0.74      0.74      0.74       192\n",
            "\n",
            "\n",
            "Accuracy using 10 fold Cross validation =  0.6907743496672716\n",
            "\n",
            "Precision using 10 fold Cross validation =  0.567837123260969\n",
            "\n",
            "Recall using 10 fold Cross validation =  0.5176315789473684\n"
          ]
        }
      ],
      "source": [
        "warnings.filterwarnings('ignore')\n",
        "knn = KNeighborsClassifier(n_neighbors = 3)\n",
        "knn_fit = knn.fit(x_train,y_train)\n",
        "y_pred = knn_fit.predict(x_test)\n",
        "print(\"Accuracy Score = %.3f\" %accuracy_score(y_test,y_pred))\n",
        "print(\"\\nConfusion Matrix : \\n\", confusion_matrix(y_test,y_pred))\n",
        "print(\"\\nClassification Report : \\n\", classification_report(y_test,y_pred))\n",
        "v_acc = cross_val_score(knn, x_train, y_train, cv=10, scoring='accuracy')\n",
        "v_pre = cross_val_score(knn, x_train, y_train, cv=10, scoring='precision')\n",
        "v_rec = cross_val_score(knn, x_train, y_train, cv=10, scoring='recall')\n",
        "print(\"\\nAccuracy using 10 fold Cross validation = \",v_acc.mean())\n",
        "print(\"\\nPrecision using 10 fold Cross validation = \",v_pre.mean())\n",
        "print(\"\\nRecall using 10 fold Cross validation = \",v_rec.mean())"
      ]
    },
    {
      "cell_type": "markdown",
      "metadata": {
        "id": "o3eiDrOEtaYs"
      },
      "source": [
        "# SVM Classifier"
      ]
    },
    {
      "cell_type": "code",
      "execution_count": null,
      "metadata": {
        "id": "hMzerX-5tcUO",
        "colab": {
          "base_uri": "https://localhost:8080/"
        },
        "outputId": "a369bcef-6fb9-42c0-a1b2-46c63b30b780"
      },
      "outputs": [
        {
          "output_type": "stream",
          "name": "stdout",
          "text": [
            "Accuracy Score = 0.771\n",
            "\n",
            "Confusion Matrix : \n",
            " [[113  10]\n",
            " [ 34  35]]\n",
            "\n",
            "Classification Report : \n",
            "               precision    recall  f1-score   support\n",
            "\n",
            "           0       0.77      0.92      0.84       123\n",
            "           1       0.78      0.51      0.61        69\n",
            "\n",
            "    accuracy                           0.77       192\n",
            "   macro avg       0.77      0.71      0.73       192\n",
            "weighted avg       0.77      0.77      0.76       192\n",
            "\n",
            "\n",
            "Accuracy using 10 fold Cross validation =  0.7534785238959467\n",
            "\n",
            "Precision using 10 fold Cross validation =  0.7300339937839937\n",
            "\n",
            "Recall using 10 fold Cross validation =  0.46236842105263154\n"
          ]
        }
      ],
      "source": [
        "warnings.filterwarnings('ignore')\n",
        "mod = SVC()\n",
        "mod_fit = mod.fit(x_train,y_train)\n",
        "y_pred = mod_fit.predict(x_test)\n",
        "print(\"Accuracy Score = %.3f\" %accuracy_score(y_test,y_pred))\n",
        "print(\"\\nConfusion Matrix : \\n\", confusion_matrix(y_test,y_pred))\n",
        "print(\"\\nClassification Report : \\n\", classification_report(y_test,y_pred))\n",
        "v_acc = cross_val_score(mod, x_train, y_train, cv=10, scoring='accuracy')\n",
        "v_pre = cross_val_score(mod, x_train, y_train, cv=10, scoring='precision')\n",
        "v_rec = cross_val_score(mod, x_train, y_train, cv=10, scoring='recall')\n",
        "print(\"\\nAccuracy using 10 fold Cross validation = \",v_acc.mean())\n",
        "print(\"\\nPrecision using 10 fold Cross validation = \",v_pre.mean())\n",
        "print(\"\\nRecall using 10 fold Cross validation = \",v_rec.mean())"
      ]
    },
    {
      "cell_type": "markdown",
      "source": [
        "# Logistic Regression"
      ],
      "metadata": {
        "id": "ze-dWc-7j23D"
      }
    },
    {
      "cell_type": "code",
      "source": [
        "warnings.filterwarnings('ignore')\n",
        "log=LogisticRegression()\n",
        "log_fit = log.fit(x_train,y_train)\n",
        "log.score(x_test,y_test)\n",
        "y_pred=log_fit.predict(x_test)\n",
        "print(\"Accuracy Score = %.3f\" %accuracy_score(y_test,y_pred))\n",
        "print(\"\\nConfusion Matrix : \\n\", confusion_matrix(y_test,y_pred))\n",
        "print(\"\\nClassification Report : \\n\", classification_report(y_test,y_pred))\n",
        "v_acc = cross_val_score(log, x_train, y_train, cv=10, scoring='accuracy')\n",
        "v_pre = cross_val_score(log, x_train, y_train, cv=10, scoring='precision')\n",
        "v_rec = cross_val_score(log, x_train, y_train, cv=10, scoring='recall')\n",
        "print(\"\\nAccuracy using 10 fold Cross validation = \",v_acc.mean())\n",
        "print(\"\\nPrecision using 10 fold Cross validation = \",v_pre.mean())\n",
        "print(\"\\nRecall using 10 fold Cross validation = \",v_rec.mean())"
      ],
      "metadata": {
        "colab": {
          "base_uri": "https://localhost:8080/"
        },
        "id": "4M_JvJEKj46p",
        "outputId": "27882b2e-09fe-420f-d93f-25cc4297541d"
      },
      "execution_count": null,
      "outputs": [
        {
          "output_type": "stream",
          "name": "stdout",
          "text": [
            "Accuracy Score = 0.776\n",
            "\n",
            "Confusion Matrix : \n",
            " [[109  14]\n",
            " [ 29  40]]\n",
            "\n",
            "Classification Report : \n",
            "               precision    recall  f1-score   support\n",
            "\n",
            "           0       0.79      0.89      0.84       123\n",
            "           1       0.74      0.58      0.65        69\n",
            "\n",
            "    accuracy                           0.78       192\n",
            "   macro avg       0.77      0.73      0.74       192\n",
            "weighted avg       0.77      0.78      0.77       192\n",
            "\n",
            "\n",
            "Accuracy using 10 fold Cross validation =  0.7604355716878403\n",
            "\n",
            "Precision using 10 fold Cross validation =  0.7023517624446417\n",
            "\n",
            "Recall using 10 fold Cross validation =  0.5523684210526316\n"
          ]
        }
      ]
    },
    {
      "cell_type": "markdown",
      "source": [
        "# Random Forest"
      ],
      "metadata": {
        "id": "0ikPCgJ-l0BL"
      }
    },
    {
      "cell_type": "code",
      "source": [
        "warnings.filterwarnings('ignore')\n",
        "ran=RandomForestClassifier()\n",
        "ran_fit = ran.fit(x_train,y_train)\n",
        "y_pred=ran_fit.predict(x_test)\n",
        "print(\"Accuracy Score = %.3f\" %accuracy_score(y_test,y_pred))\n",
        "print(\"\\nConfusion Matrix : \\n\", confusion_matrix(y_test,y_pred))\n",
        "print(\"\\nClassification Report : \\n\", classification_report(y_test,y_pred))\n",
        "v_acc = cross_val_score(ran, x_train, y_train, cv=10, scoring='accuracy')\n",
        "v_pre = cross_val_score(ran, x_train, y_train, cv=10, scoring='precision')\n",
        "v_rec = cross_val_score(ran, x_train, y_train, cv=10, scoring='recall')\n",
        "print(\"\\nAccuracy using 10 fold Cross validation = \",v_acc.mean())\n",
        "print(\"\\nPrecision using 10 fold Cross validation = \",v_pre.mean())\n",
        "print(\"\\nRecall using 10 fold Cross validation = \",v_rec.mean())"
      ],
      "metadata": {
        "colab": {
          "base_uri": "https://localhost:8080/"
        },
        "id": "LzA8MfnImNB1",
        "outputId": "5f7f37bb-c9fc-42d2-bd28-06758d87eb96"
      },
      "execution_count": null,
      "outputs": [
        {
          "output_type": "stream",
          "name": "stdout",
          "text": [
            "Accuracy Score = 0.802\n",
            "\n",
            "Confusion Matrix : \n",
            " [[106  17]\n",
            " [ 21  48]]\n",
            "\n",
            "Classification Report : \n",
            "               precision    recall  f1-score   support\n",
            "\n",
            "           0       0.83      0.86      0.85       123\n",
            "           1       0.74      0.70      0.72        69\n",
            "\n",
            "    accuracy                           0.80       192\n",
            "   macro avg       0.79      0.78      0.78       192\n",
            "weighted avg       0.80      0.80      0.80       192\n",
            "\n",
            "\n",
            "Accuracy using 10 fold Cross validation =  0.7428312159709619\n",
            "\n",
            "Precision using 10 fold Cross validation =  0.6803468182144654\n",
            "\n",
            "Recall using 10 fold Cross validation =  0.5371052631578948\n"
          ]
        }
      ]
    },
    {
      "cell_type": "markdown",
      "metadata": {
        "id": "oKOgSBxJthi8"
      },
      "source": [
        "# Resampling using SMOTETomek"
      ]
    },
    {
      "cell_type": "code",
      "execution_count": null,
      "metadata": {
        "id": "2nCF49FMtiTy",
        "colab": {
          "base_uri": "https://localhost:8080/"
        },
        "outputId": "ec8e170a-a13e-48ff-dd6d-1f07e4a14da3"
      },
      "outputs": [
        {
          "output_type": "stream",
          "name": "stdout",
          "text": [
            "The classes before fitCounter({0: 377, 1: 199})\n",
            "The number of classes after fitCounter({0: 345, 1: 250})\n"
          ]
        }
      ],
      "source": [
        "warnings.filterwarnings('ignore')\n",
        "os=SMOTETomek(0.75, random_state=1)\n",
        "x_train_ns,y_train_ns=os.fit_resample(x_train,y_train)\n",
        "print(\"The classes before fit{}\".format(Counter(y_train)))\n",
        "print(\"The number of classes after fit{}\".format(Counter(y_train_ns)))"
      ]
    },
    {
      "cell_type": "code",
      "execution_count": null,
      "metadata": {
        "id": "-Te9SLbetkHI",
        "colab": {
          "base_uri": "https://localhost:8080/"
        },
        "outputId": "9a382c3d-3418-4df3-8f69-6d4aa94fa688"
      },
      "outputs": [
        {
          "output_type": "stream",
          "name": "stdout",
          "text": [
            "The number of classes before fit Counter({0: 377, 1: 199})\n",
            "The number of classes after fit Counter({0: 345, 1: 250})\n"
          ]
        }
      ],
      "source": [
        "#os=SMOTETomek(random_state=1)\n",
        "#x_train_ns,y_train_ns=os.fit_resample(x_train,y_train)\n",
        "print(\"The number of classes before fit {}\".format(Counter(y_train)))\n",
        "print(\"The number of classes after fit {}\".format(Counter(y_train_ns)))"
      ]
    },
    {
      "cell_type": "code",
      "execution_count": null,
      "metadata": {
        "id": "QEUdGJ3Gtlcc",
        "colab": {
          "base_uri": "https://localhost:8080/"
        },
        "outputId": "dd37f1b4-44bd-44d4-a568-a6bf9d13fd9b"
      },
      "outputs": [
        {
          "output_type": "execute_result",
          "data": {
            "text/plain": [
              "4760"
            ]
          },
          "metadata": {},
          "execution_count": 39
        }
      ],
      "source": [
        "x_train_ns.size"
      ]
    },
    {
      "cell_type": "code",
      "execution_count": null,
      "metadata": {
        "id": "v_TqsVqGtm12",
        "colab": {
          "base_uri": "https://localhost:8080/"
        },
        "outputId": "bc0a2be9-f356-43e4-ca38-f0937b0fd3eb"
      },
      "outputs": [
        {
          "output_type": "execute_result",
          "data": {
            "text/plain": [
              "595"
            ]
          },
          "metadata": {},
          "execution_count": 40
        }
      ],
      "source": [
        "y_train_ns.size"
      ]
    },
    {
      "cell_type": "markdown",
      "metadata": {
        "id": "XxK4_qkBtqLQ"
      },
      "source": [
        "# Decision Tree after resampling"
      ]
    },
    {
      "cell_type": "code",
      "execution_count": null,
      "metadata": {
        "id": "g3FhEEPntoPO",
        "colab": {
          "base_uri": "https://localhost:8080/"
        },
        "outputId": "2539217a-2b06-43b0-97c9-e9cc11d25562"
      },
      "outputs": [
        {
          "output_type": "stream",
          "name": "stdout",
          "text": [
            "Accuracy Score = 0.792\n",
            "\n",
            "Confusion Matrix : \n",
            " [[104  19]\n",
            " [ 21  48]]\n",
            "\n",
            "Classification Report : \n",
            "               precision    recall  f1-score   support\n",
            "\n",
            "           0       0.83      0.85      0.84       123\n",
            "           1       0.72      0.70      0.71        69\n",
            "\n",
            "    accuracy                           0.79       192\n",
            "   macro avg       0.77      0.77      0.77       192\n",
            "weighted avg       0.79      0.79      0.79       192\n",
            "\n",
            "\n",
            "Accuracy using 10 fold Cross validation =  0.7701412429378531\n",
            "\n",
            "Precision using 10 fold Cross validation =  0.7401817670353508\n",
            "\n",
            "Recall using 10 fold Cross validation =  0.728\n"
          ]
        }
      ],
      "source": [
        "warnings.filterwarnings('ignore')\n",
        "tree = DecisionTreeClassifier()\n",
        "tree_fit = tree.fit(x_train_ns,y_train_ns)\n",
        "y_pred = tree_fit.predict(x_test)\n",
        "print(\"Accuracy Score = %.3f\" %accuracy_score(y_test,y_pred))\n",
        "print(\"\\nConfusion Matrix : \\n\", confusion_matrix(y_test,y_pred))\n",
        "print(\"\\nClassification Report : \\n\", classification_report(y_test,y_pred))\n",
        "v_acc = cross_val_score(tree, x_train_ns, y_train_ns, cv=10, scoring='accuracy')\n",
        "v_pre = cross_val_score(tree, x_train_ns, y_train_ns, cv=10, scoring='precision')\n",
        "v_rec = cross_val_score(tree, x_train_ns, y_train_ns, cv=10, scoring='recall')\n",
        "print(\"\\nAccuracy using 10 fold Cross validation = \",v_acc.mean())\n",
        "print(\"\\nPrecision using 10 fold Cross validation = \",v_pre.mean())\n",
        "print(\"\\nRecall using 10 fold Cross validation = \",v_rec.mean())"
      ]
    },
    {
      "cell_type": "markdown",
      "metadata": {
        "id": "hspBzBrltssx"
      },
      "source": [
        "# KNN after resampling"
      ]
    },
    {
      "cell_type": "code",
      "execution_count": null,
      "metadata": {
        "id": "4kNepZHGtv-x",
        "colab": {
          "base_uri": "https://localhost:8080/"
        },
        "outputId": "539453e1-7bfe-4449-8454-e2a1fb1f39a7"
      },
      "outputs": [
        {
          "output_type": "stream",
          "name": "stdout",
          "text": [
            "Accuracy Score = 0.750\n",
            "\n",
            "Confusion Matrix : \n",
            " [[94 29]\n",
            " [19 50]]\n",
            "\n",
            "Classification Report : \n",
            "               precision    recall  f1-score   support\n",
            "\n",
            "           0       0.83      0.76      0.80       123\n",
            "           1       0.63      0.72      0.68        69\n",
            "\n",
            "    accuracy                           0.75       192\n",
            "   macro avg       0.73      0.74      0.74       192\n",
            "weighted avg       0.76      0.75      0.75       192\n",
            "\n",
            "\n",
            "Accuracy using 10 fold Cross validation =  0.7295197740112994\n",
            "\n",
            "Precision using 10 fold Cross validation =  0.6624997676694007\n",
            "\n",
            "Recall using 10 fold Cross validation =  0.728\n"
          ]
        }
      ],
      "source": [
        "warnings.filterwarnings('ignore')\n",
        "knn = KNeighborsClassifier(n_neighbors = 3)\n",
        "knn_fit = knn.fit(x_train_ns,y_train_ns)\n",
        "y_pred = knn_fit.predict(x_test)\n",
        "print(\"Accuracy Score = %.3f\" %accuracy_score(y_test,y_pred))\n",
        "print(\"\\nConfusion Matrix : \\n\", confusion_matrix(y_test,y_pred))\n",
        "print(\"\\nClassification Report : \\n\", classification_report(y_test,y_pred))\n",
        "v_acc = cross_val_score(knn, x_train_ns, y_train_ns, cv=10, scoring='accuracy')\n",
        "v_pre = cross_val_score(knn, x_train_ns, y_train_ns, cv=10, scoring='precision')\n",
        "v_rec = cross_val_score(knn, x_train_ns, y_train_ns, cv=10, scoring='recall')\n",
        "print(\"\\nAccuracy using 10 fold Cross validation = \",v_acc.mean())\n",
        "print(\"\\nPrecision using 10 fold Cross validation = \",v_pre.mean())\n",
        "print(\"\\nRecall using 10 fold Cross validation = \",v_rec.mean())"
      ]
    },
    {
      "cell_type": "markdown",
      "metadata": {
        "id": "psskbWmOtwo6"
      },
      "source": [
        "# SVM after resampling"
      ]
    },
    {
      "cell_type": "code",
      "execution_count": null,
      "metadata": {
        "id": "DLBRc_zbtzGM",
        "colab": {
          "base_uri": "https://localhost:8080/"
        },
        "outputId": "9d93ccb4-d63e-4381-e935-e9d2ec37047e"
      },
      "outputs": [
        {
          "output_type": "stream",
          "name": "stdout",
          "text": [
            "Accuracy Score = 0.766\n",
            "\n",
            "Confusion Matrix : \n",
            " [[106  17]\n",
            " [ 28  41]]\n",
            "\n",
            "Classification Report : \n",
            "               precision    recall  f1-score   support\n",
            "\n",
            "           0       0.79      0.86      0.82       123\n",
            "           1       0.71      0.59      0.65        69\n",
            "\n",
            "    accuracy                           0.77       192\n",
            "   macro avg       0.75      0.73      0.74       192\n",
            "weighted avg       0.76      0.77      0.76       192\n",
            "\n",
            "\n",
            "Accuracy using 10 fold Cross validation =  0.7612994350282486\n",
            "\n",
            "Precision using 10 fold Cross validation =  0.7763732577491159\n",
            "\n",
            "Recall using 10 fold Cross validation =  0.616\n"
          ]
        }
      ],
      "source": [
        "warnings.filterwarnings('ignore')\n",
        "mod = SVC()\n",
        "mod_fit = mod.fit(x_train_ns,y_train_ns)\n",
        "y_pred = mod_fit.predict(x_test)\n",
        "print(\"Accuracy Score = %.3f\" %accuracy_score(y_test,y_pred))\n",
        "print(\"\\nConfusion Matrix : \\n\", confusion_matrix(y_test,y_pred))\n",
        "print(\"\\nClassification Report : \\n\", classification_report(y_test,y_pred))\n",
        "v_acc = cross_val_score(mod, x_train_ns, y_train_ns, cv=10, scoring='accuracy')\n",
        "v_pre = cross_val_score(mod, x_train_ns, y_train_ns, cv=10, scoring='precision')\n",
        "v_rec = cross_val_score(mod, x_train_ns, y_train_ns, cv=10, scoring='recall')\n",
        "print(\"\\nAccuracy using 10 fold Cross validation = \",v_acc.mean())\n",
        "print(\"\\nPrecision using 10 fold Cross validation = \",v_pre.mean())\n",
        "print(\"\\nRecall using 10 fold Cross validation = \",v_rec.mean())"
      ]
    },
    {
      "cell_type": "markdown",
      "source": [
        "# Logistic Regression after resampling"
      ],
      "metadata": {
        "id": "Bbz9wFWlnInE"
      }
    },
    {
      "cell_type": "code",
      "source": [
        "warnings.filterwarnings('ignore')\n",
        "log=LogisticRegression()\n",
        "log_fit = log.fit(x_train_ns,y_train_ns)\n",
        "log.score(x_test,y_test)\n",
        "y_pred=log_fit.predict(x_test)\n",
        "print(\"Accuracy Score = %.3f\" %accuracy_score(y_test,y_pred))\n",
        "print(\"\\nConfusion Matrix : \\n\", confusion_matrix(y_test,y_pred))\n",
        "print(\"\\nClassification Report : \\n\", classification_report(y_test,y_pred))\n",
        "v_acc = cross_val_score(log, x_train_ns, y_train_ns, cv=10, scoring='accuracy')\n",
        "v_pre = cross_val_score(log, x_train_ns, y_train_ns, cv=10, scoring='precision')\n",
        "v_rec = cross_val_score(log, x_train_ns, y_train_ns, cv=10, scoring='recall')\n",
        "print(\"\\nAccuracy using 10 fold Cross validation = \",v_acc.mean())\n",
        "print(\"\\nPrecision using 10 fold Cross validation = \",v_pre.mean())\n",
        "print(\"\\nRecall using 10 fold Cross validation = \",v_rec.mean())"
      ],
      "metadata": {
        "colab": {
          "base_uri": "https://localhost:8080/"
        },
        "id": "bLIaJWDznLWp",
        "outputId": "cde6c243-dbcd-4f8c-f70d-d35fcacb7c21"
      },
      "execution_count": null,
      "outputs": [
        {
          "output_type": "stream",
          "name": "stdout",
          "text": [
            "Accuracy Score = 0.771\n",
            "\n",
            "Confusion Matrix : \n",
            " [[104  19]\n",
            " [ 25  44]]\n",
            "\n",
            "Classification Report : \n",
            "               precision    recall  f1-score   support\n",
            "\n",
            "           0       0.81      0.85      0.83       123\n",
            "           1       0.70      0.64      0.67        69\n",
            "\n",
            "    accuracy                           0.77       192\n",
            "   macro avg       0.75      0.74      0.75       192\n",
            "weighted avg       0.77      0.77      0.77       192\n",
            "\n",
            "\n",
            "Accuracy using 10 fold Cross validation =  0.7681073446327684\n",
            "\n",
            "Precision using 10 fold Cross validation =  0.7616832298136647\n",
            "\n",
            "Recall using 10 fold Cross validation =  0.6639999999999999\n"
          ]
        }
      ]
    },
    {
      "cell_type": "markdown",
      "source": [
        "# Random Forest after resamling"
      ],
      "metadata": {
        "id": "rfDzvwyWnbpS"
      }
    },
    {
      "cell_type": "code",
      "source": [
        "warnings.filterwarnings('ignore')\n",
        "ran=RandomForestClassifier()\n",
        "ran_fit = ran.fit(x_train_ns,y_train_ns)\n",
        "y_pred=ran_fit.predict(x_test)\n",
        "print(\"Accuracy Score = %.3f\" %accuracy_score(y_test,y_pred))\n",
        "print(\"\\nConfusion Matrix : \\n\", confusion_matrix(y_test,y_pred))\n",
        "print(\"\\nClassification Report : \\n\", classification_report(y_test,y_pred))\n",
        "v_acc = cross_val_score(ran, x_train_ns, y_train_ns, cv=10, scoring='accuracy')\n",
        "v_pre = cross_val_score(ran, x_train_ns, y_train_ns, cv=10, scoring='precision')\n",
        "v_rec = cross_val_score(ran, x_train_ns, y_train_ns, cv=10, scoring='recall')\n",
        "print(\"\\nAccuracy using 10 fold Cross validation = \",v_acc.mean())\n",
        "print(\"\\nPrecision using 10 fold Cross validation = \",v_pre.mean())\n",
        "print(\"\\nRecall using 10 fold Cross validation = \",v_rec.mean())"
      ],
      "metadata": {
        "colab": {
          "base_uri": "https://localhost:8080/"
        },
        "id": "C2MEWiFkneRC",
        "outputId": "92e253e0-8aaf-4103-bad2-5e13218d146f"
      },
      "execution_count": null,
      "outputs": [
        {
          "output_type": "stream",
          "name": "stdout",
          "text": [
            "Accuracy Score = 0.812\n",
            "\n",
            "Confusion Matrix : \n",
            " [[108  15]\n",
            " [ 21  48]]\n",
            "\n",
            "Classification Report : \n",
            "               precision    recall  f1-score   support\n",
            "\n",
            "           0       0.84      0.88      0.86       123\n",
            "           1       0.76      0.70      0.73        69\n",
            "\n",
            "    accuracy                           0.81       192\n",
            "   macro avg       0.80      0.79      0.79       192\n",
            "weighted avg       0.81      0.81      0.81       192\n",
            "\n",
            "\n",
            "Accuracy using 10 fold Cross validation =  0.82545197740113\n",
            "\n",
            "Precision using 10 fold Cross validation =  0.806768877105459\n",
            "\n",
            "Recall using 10 fold Cross validation =  0.76\n"
          ]
        }
      ]
    }
  ],
  "metadata": {
    "colab": {
      "collapsed_sections": [],
      "name": "Real_Life_Dataset_2___Diabetes_Data.ipynb",
      "provenance": []
    },
    "kernelspec": {
      "display_name": "Python 3",
      "name": "python3"
    },
    "language_info": {
      "name": "python"
    }
  },
  "nbformat": 4,
  "nbformat_minor": 0
}