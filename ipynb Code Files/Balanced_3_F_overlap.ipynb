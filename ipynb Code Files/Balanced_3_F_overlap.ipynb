{
  "nbformat": 4,
  "nbformat_minor": 0,
  "metadata": {
    "colab": {
      "name": "Eighth___Balanced-3-F-overlap.ipynb",
      "provenance": [],
      "collapsed_sections": []
    },
    "kernelspec": {
      "name": "python3",
      "display_name": "Python 3"
    },
    "language_info": {
      "name": "python"
    }
  },
  "cells": [
    {
      "cell_type": "code",
      "metadata": {
        "colab": {
          "base_uri": "https://localhost:8080/"
        },
        "id": "At-v6GBxeYg-",
        "outputId": "e4d614eb-5694-4152-d2ff-fc3760d38134"
      },
      "source": [
        "pip install researchpy"
      ],
      "execution_count": null,
      "outputs": [
        {
          "output_type": "stream",
          "name": "stdout",
          "text": [
            "Collecting researchpy\n",
            "  Downloading researchpy-0.3.2-py3-none-any.whl (15 kB)\n",
            "Requirement already satisfied: statsmodels in /usr/local/lib/python3.7/dist-packages (from researchpy) (0.10.2)\n",
            "Requirement already satisfied: scipy in /usr/local/lib/python3.7/dist-packages (from researchpy) (1.4.1)\n",
            "Requirement already satisfied: pandas in /usr/local/lib/python3.7/dist-packages (from researchpy) (1.1.5)\n",
            "Requirement already satisfied: numpy in /usr/local/lib/python3.7/dist-packages (from researchpy) (1.19.5)\n",
            "Requirement already satisfied: patsy in /usr/local/lib/python3.7/dist-packages (from researchpy) (0.5.2)\n",
            "Requirement already satisfied: pytz>=2017.2 in /usr/local/lib/python3.7/dist-packages (from pandas->researchpy) (2018.9)\n",
            "Requirement already satisfied: python-dateutil>=2.7.3 in /usr/local/lib/python3.7/dist-packages (from pandas->researchpy) (2.8.2)\n",
            "Requirement already satisfied: six>=1.5 in /usr/local/lib/python3.7/dist-packages (from python-dateutil>=2.7.3->pandas->researchpy) (1.15.0)\n",
            "Installing collected packages: researchpy\n",
            "Successfully installed researchpy-0.3.2\n"
          ]
        }
      ]
    },
    {
      "cell_type": "markdown",
      "metadata": {
        "id": "FM2ws0niAFx2"
      },
      "source": [
        "# Importing necessary libraries"
      ]
    },
    {
      "cell_type": "code",
      "metadata": {
        "id": "WFA23qxX5xJV",
        "colab": {
          "base_uri": "https://localhost:8080/"
        },
        "outputId": "b9e3191e-ff4a-43f7-fe9c-99d16f767d78"
      },
      "source": [
        "import pandas as pd\n",
        "import numpy as np\n",
        "import sklearn\n",
        "import scipy\n",
        "import seaborn as sns\n",
        "import matplotlib.pyplot as plt\n",
        "from sklearn.tree import DecisionTreeClassifier\n",
        "from sklearn.neighbors import KNeighborsClassifier\n",
        "from sklearn.svm import SVC\n",
        "from sklearn.model_selection import train_test_split\n",
        "from sklearn.linear_model import LogisticRegression\n",
        "from sklearn.metrics import accuracy_score, confusion_matrix, classification_report\n",
        "from sklearn.model_selection import KFold\n",
        "from sklearn.model_selection import cross_val_score\n",
        "from sklearn.model_selection import GridSearchCV\n",
        "from sklearn.ensemble import IsolationForest\n",
        "from sklearn.neighbors import LocalOutlierFactor\n",
        "from sklearn.svm import OneClassSVM\n",
        "from imblearn.combine import SMOTETomek\n",
        "from collections import Counter\n",
        "import researchpy as rp\n",
        "from imblearn.over_sampling import ADASYN"
      ],
      "execution_count": null,
      "outputs": [
        {
          "output_type": "stream",
          "name": "stderr",
          "text": [
            "/usr/local/lib/python3.7/dist-packages/statsmodels/tools/_testing.py:19: FutureWarning: pandas.util.testing is deprecated. Use the functions in the public API at pandas.testing instead.\n",
            "  import pandas.util.testing as tm\n"
          ]
        }
      ]
    },
    {
      "cell_type": "markdown",
      "metadata": {
        "id": "B9zrEnSaARIq"
      },
      "source": [
        "# Uploading the dataset"
      ]
    },
    {
      "cell_type": "code",
      "metadata": {
        "colab": {
          "resources": {
            "http://localhost:8080/nbextensions/google.colab/files.js": {
              "data": "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",
              "ok": true,
              "headers": [
                [
                  "content-type",
                  "application/javascript"
                ]
              ],
              "status": 200,
              "status_text": ""
            }
          },
          "base_uri": "https://localhost:8080/",
          "height": 73
        },
        "id": "Zob97giiwwjg",
        "outputId": "15d87915-6584-4af5-b30a-295f72919162"
      },
      "source": [
        "from google.colab import files\n",
        "uploaded = files.upload()"
      ],
      "execution_count": null,
      "outputs": [
        {
          "output_type": "display_data",
          "data": {
            "text/html": [
              "\n",
              "     <input type=\"file\" id=\"files-a4fc1122-ae1c-4ea8-bbc9-a5b1fdc05297\" name=\"files[]\" multiple disabled\n",
              "        style=\"border:none\" />\n",
              "     <output id=\"result-a4fc1122-ae1c-4ea8-bbc9-a5b1fdc05297\">\n",
              "      Upload widget is only available when the cell has been executed in the\n",
              "      current browser session. Please rerun this cell to enable.\n",
              "      </output>\n",
              "      <script src=\"/nbextensions/google.colab/files.js\"></script> "
            ],
            "text/plain": [
              "<IPython.core.display.HTML object>"
            ]
          },
          "metadata": {}
        },
        {
          "output_type": "stream",
          "name": "stdout",
          "text": [
            "Saving Balanced-3-F-overlap.csv to Balanced-3-F-overlap.csv\n"
          ]
        }
      ]
    },
    {
      "cell_type": "markdown",
      "metadata": {
        "id": "6SC9ipWGAR8R"
      },
      "source": [
        "# Reading the dataset"
      ]
    },
    {
      "cell_type": "code",
      "metadata": {
        "colab": {
          "base_uri": "https://localhost:8080/",
          "height": 203
        },
        "id": "TuIQzd1JND6f",
        "outputId": "5d0dd1eb-33ff-4ee0-88c1-c8360b41ce61"
      },
      "source": [
        "df=pd.read_csv('Balanced-3-F-overlap.csv')\n",
        "df.head()"
      ],
      "execution_count": null,
      "outputs": [
        {
          "output_type": "execute_result",
          "data": {
            "text/html": [
              "<div>\n",
              "<style scoped>\n",
              "    .dataframe tbody tr th:only-of-type {\n",
              "        vertical-align: middle;\n",
              "    }\n",
              "\n",
              "    .dataframe tbody tr th {\n",
              "        vertical-align: top;\n",
              "    }\n",
              "\n",
              "    .dataframe thead th {\n",
              "        text-align: right;\n",
              "    }\n",
              "</style>\n",
              "<table border=\"1\" class=\"dataframe\">\n",
              "  <thead>\n",
              "    <tr style=\"text-align: right;\">\n",
              "      <th></th>\n",
              "      <th>X1</th>\n",
              "      <th>X2</th>\n",
              "      <th>X3</th>\n",
              "      <th>X4</th>\n",
              "      <th>Y</th>\n",
              "    </tr>\n",
              "  </thead>\n",
              "  <tbody>\n",
              "    <tr>\n",
              "      <th>0</th>\n",
              "      <td>0.019766</td>\n",
              "      <td>2.494888</td>\n",
              "      <td>-0.341443</td>\n",
              "      <td>-0.011431</td>\n",
              "      <td>0</td>\n",
              "    </tr>\n",
              "    <tr>\n",
              "      <th>1</th>\n",
              "      <td>0.250110</td>\n",
              "      <td>1.874932</td>\n",
              "      <td>0.231624</td>\n",
              "      <td>0.174714</td>\n",
              "      <td>0</td>\n",
              "    </tr>\n",
              "    <tr>\n",
              "      <th>2</th>\n",
              "      <td>0.245820</td>\n",
              "      <td>1.927448</td>\n",
              "      <td>0.352347</td>\n",
              "      <td>-0.174698</td>\n",
              "      <td>0</td>\n",
              "    </tr>\n",
              "    <tr>\n",
              "      <th>3</th>\n",
              "      <td>0.007128</td>\n",
              "      <td>1.782454</td>\n",
              "      <td>0.016809</td>\n",
              "      <td>0.129843</td>\n",
              "      <td>0</td>\n",
              "    </tr>\n",
              "    <tr>\n",
              "      <th>4</th>\n",
              "      <td>-0.006404</td>\n",
              "      <td>1.760939</td>\n",
              "      <td>-0.113762</td>\n",
              "      <td>0.214337</td>\n",
              "      <td>0</td>\n",
              "    </tr>\n",
              "  </tbody>\n",
              "</table>\n",
              "</div>"
            ],
            "text/plain": [
              "         X1        X2        X3        X4  Y\n",
              "0  0.019766  2.494888 -0.341443 -0.011431  0\n",
              "1  0.250110  1.874932  0.231624  0.174714  0\n",
              "2  0.245820  1.927448  0.352347 -0.174698  0\n",
              "3  0.007128  1.782454  0.016809  0.129843  0\n",
              "4 -0.006404  1.760939 -0.113762  0.214337  0"
            ]
          },
          "metadata": {},
          "execution_count": 4
        }
      ]
    },
    {
      "cell_type": "markdown",
      "metadata": {
        "id": "XQU3AvVaAd0h"
      },
      "source": [
        "# Exploring the data"
      ]
    },
    {
      "cell_type": "code",
      "metadata": {
        "colab": {
          "base_uri": "https://localhost:8080/"
        },
        "id": "EXAfccdHqheM",
        "outputId": "3cca1ea4-60c7-4664-c25b-af611c20acd6"
      },
      "source": [
        "df.columns"
      ],
      "execution_count": null,
      "outputs": [
        {
          "output_type": "execute_result",
          "data": {
            "text/plain": [
              "Index(['X1', 'X2', 'X3', 'X4', 'Y'], dtype='object')"
            ]
          },
          "metadata": {},
          "execution_count": 5
        }
      ]
    },
    {
      "cell_type": "code",
      "metadata": {
        "colab": {
          "base_uri": "https://localhost:8080/"
        },
        "id": "TIy5kXypNJmK",
        "outputId": "ee36f4d3-ce59-4684-93af-fb58383796a0"
      },
      "source": [
        "df.shape"
      ],
      "execution_count": null,
      "outputs": [
        {
          "output_type": "execute_result",
          "data": {
            "text/plain": [
              "(300, 5)"
            ]
          },
          "metadata": {},
          "execution_count": 6
        }
      ]
    },
    {
      "cell_type": "code",
      "metadata": {
        "colab": {
          "base_uri": "https://localhost:8080/",
          "height": 295
        },
        "id": "ffL-LacieIY9",
        "outputId": "b2fdc32b-db8c-48f9-ba63-54e385a551fa"
      },
      "source": [
        "df.describe()"
      ],
      "execution_count": null,
      "outputs": [
        {
          "output_type": "execute_result",
          "data": {
            "text/html": [
              "<div>\n",
              "<style scoped>\n",
              "    .dataframe tbody tr th:only-of-type {\n",
              "        vertical-align: middle;\n",
              "    }\n",
              "\n",
              "    .dataframe tbody tr th {\n",
              "        vertical-align: top;\n",
              "    }\n",
              "\n",
              "    .dataframe thead th {\n",
              "        text-align: right;\n",
              "    }\n",
              "</style>\n",
              "<table border=\"1\" class=\"dataframe\">\n",
              "  <thead>\n",
              "    <tr style=\"text-align: right;\">\n",
              "      <th></th>\n",
              "      <th>X1</th>\n",
              "      <th>X2</th>\n",
              "      <th>X3</th>\n",
              "      <th>X4</th>\n",
              "      <th>Y</th>\n",
              "    </tr>\n",
              "  </thead>\n",
              "  <tbody>\n",
              "    <tr>\n",
              "      <th>count</th>\n",
              "      <td>300.000000</td>\n",
              "      <td>300.000000</td>\n",
              "      <td>300.000000</td>\n",
              "      <td>300.000000</td>\n",
              "      <td>300.000000</td>\n",
              "    </tr>\n",
              "    <tr>\n",
              "      <th>mean</th>\n",
              "      <td>1.003085</td>\n",
              "      <td>1.987284</td>\n",
              "      <td>0.000018</td>\n",
              "      <td>-0.027305</td>\n",
              "      <td>0.500000</td>\n",
              "    </tr>\n",
              "    <tr>\n",
              "      <th>std</th>\n",
              "      <td>1.007463</td>\n",
              "      <td>0.190812</td>\n",
              "      <td>0.197411</td>\n",
              "      <td>0.309697</td>\n",
              "      <td>0.500835</td>\n",
              "    </tr>\n",
              "    <tr>\n",
              "      <th>min</th>\n",
              "      <td>-0.577976</td>\n",
              "      <td>1.392663</td>\n",
              "      <td>-0.492199</td>\n",
              "      <td>-0.986647</td>\n",
              "      <td>0.000000</td>\n",
              "    </tr>\n",
              "    <tr>\n",
              "      <th>25%</th>\n",
              "      <td>0.025465</td>\n",
              "      <td>1.884259</td>\n",
              "      <td>-0.140821</td>\n",
              "      <td>-0.220661</td>\n",
              "      <td>0.000000</td>\n",
              "    </tr>\n",
              "    <tr>\n",
              "      <th>50%</th>\n",
              "      <td>0.993939</td>\n",
              "      <td>1.995686</td>\n",
              "      <td>-0.001750</td>\n",
              "      <td>-0.030515</td>\n",
              "      <td>0.500000</td>\n",
              "    </tr>\n",
              "    <tr>\n",
              "      <th>75%</th>\n",
              "      <td>1.986870</td>\n",
              "      <td>2.093360</td>\n",
              "      <td>0.140410</td>\n",
              "      <td>0.176068</td>\n",
              "      <td>1.000000</td>\n",
              "    </tr>\n",
              "    <tr>\n",
              "      <th>max</th>\n",
              "      <td>2.616080</td>\n",
              "      <td>2.519260</td>\n",
              "      <td>0.474404</td>\n",
              "      <td>0.819318</td>\n",
              "      <td>1.000000</td>\n",
              "    </tr>\n",
              "  </tbody>\n",
              "</table>\n",
              "</div>"
            ],
            "text/plain": [
              "               X1          X2          X3          X4           Y\n",
              "count  300.000000  300.000000  300.000000  300.000000  300.000000\n",
              "mean     1.003085    1.987284    0.000018   -0.027305    0.500000\n",
              "std      1.007463    0.190812    0.197411    0.309697    0.500835\n",
              "min     -0.577976    1.392663   -0.492199   -0.986647    0.000000\n",
              "25%      0.025465    1.884259   -0.140821   -0.220661    0.000000\n",
              "50%      0.993939    1.995686   -0.001750   -0.030515    0.500000\n",
              "75%      1.986870    2.093360    0.140410    0.176068    1.000000\n",
              "max      2.616080    2.519260    0.474404    0.819318    1.000000"
            ]
          },
          "metadata": {},
          "execution_count": 7
        }
      ]
    },
    {
      "cell_type": "code",
      "metadata": {
        "colab": {
          "base_uri": "https://localhost:8080/"
        },
        "id": "bQ4bGQLFeI65",
        "outputId": "b46e1629-87f0-416b-e315-57ee5c093d21"
      },
      "source": [
        "df.isnull().sum()"
      ],
      "execution_count": null,
      "outputs": [
        {
          "output_type": "execute_result",
          "data": {
            "text/plain": [
              "X1    0\n",
              "X2    0\n",
              "X3    0\n",
              "X4    0\n",
              "Y     0\n",
              "dtype: int64"
            ]
          },
          "metadata": {},
          "execution_count": 8
        }
      ]
    },
    {
      "cell_type": "markdown",
      "metadata": {
        "id": "1FMLt15NlfMd"
      },
      "source": [
        "# Statistical and Consistency Analysis"
      ]
    },
    {
      "cell_type": "code",
      "metadata": {
        "colab": {
          "base_uri": "https://localhost:8080/"
        },
        "id": "pqzLZE5xeQor",
        "outputId": "7bf58199-5c88-48d0-9e9d-f4ce2a900a79"
      },
      "source": [
        "df['Y'].value_counts()"
      ],
      "execution_count": null,
      "outputs": [
        {
          "output_type": "execute_result",
          "data": {
            "text/plain": [
              "1    150\n",
              "0    150\n",
              "Name: Y, dtype: int64"
            ]
          },
          "metadata": {},
          "execution_count": 9
        }
      ]
    },
    {
      "cell_type": "code",
      "metadata": {
        "colab": {
          "base_uri": "https://localhost:8080/",
          "height": 203
        },
        "id": "lOkeJsjjkz8U",
        "outputId": "2b0f97c3-885e-42c8-fb1e-af426f9f6a6f"
      },
      "source": [
        "df_0 = df[df[\"Y\"] == 0]\n",
        "df_0.head()"
      ],
      "execution_count": null,
      "outputs": [
        {
          "output_type": "execute_result",
          "data": {
            "text/html": [
              "<div>\n",
              "<style scoped>\n",
              "    .dataframe tbody tr th:only-of-type {\n",
              "        vertical-align: middle;\n",
              "    }\n",
              "\n",
              "    .dataframe tbody tr th {\n",
              "        vertical-align: top;\n",
              "    }\n",
              "\n",
              "    .dataframe thead th {\n",
              "        text-align: right;\n",
              "    }\n",
              "</style>\n",
              "<table border=\"1\" class=\"dataframe\">\n",
              "  <thead>\n",
              "    <tr style=\"text-align: right;\">\n",
              "      <th></th>\n",
              "      <th>X1</th>\n",
              "      <th>X2</th>\n",
              "      <th>X3</th>\n",
              "      <th>X4</th>\n",
              "      <th>Y</th>\n",
              "    </tr>\n",
              "  </thead>\n",
              "  <tbody>\n",
              "    <tr>\n",
              "      <th>0</th>\n",
              "      <td>0.019766</td>\n",
              "      <td>2.494888</td>\n",
              "      <td>-0.341443</td>\n",
              "      <td>-0.011431</td>\n",
              "      <td>0</td>\n",
              "    </tr>\n",
              "    <tr>\n",
              "      <th>1</th>\n",
              "      <td>0.250110</td>\n",
              "      <td>1.874932</td>\n",
              "      <td>0.231624</td>\n",
              "      <td>0.174714</td>\n",
              "      <td>0</td>\n",
              "    </tr>\n",
              "    <tr>\n",
              "      <th>2</th>\n",
              "      <td>0.245820</td>\n",
              "      <td>1.927448</td>\n",
              "      <td>0.352347</td>\n",
              "      <td>-0.174698</td>\n",
              "      <td>0</td>\n",
              "    </tr>\n",
              "    <tr>\n",
              "      <th>3</th>\n",
              "      <td>0.007128</td>\n",
              "      <td>1.782454</td>\n",
              "      <td>0.016809</td>\n",
              "      <td>0.129843</td>\n",
              "      <td>0</td>\n",
              "    </tr>\n",
              "    <tr>\n",
              "      <th>4</th>\n",
              "      <td>-0.006404</td>\n",
              "      <td>1.760939</td>\n",
              "      <td>-0.113762</td>\n",
              "      <td>0.214337</td>\n",
              "      <td>0</td>\n",
              "    </tr>\n",
              "  </tbody>\n",
              "</table>\n",
              "</div>"
            ],
            "text/plain": [
              "         X1        X2        X3        X4  Y\n",
              "0  0.019766  2.494888 -0.341443 -0.011431  0\n",
              "1  0.250110  1.874932  0.231624  0.174714  0\n",
              "2  0.245820  1.927448  0.352347 -0.174698  0\n",
              "3  0.007128  1.782454  0.016809  0.129843  0\n",
              "4 -0.006404  1.760939 -0.113762  0.214337  0"
            ]
          },
          "metadata": {},
          "execution_count": 10
        }
      ]
    },
    {
      "cell_type": "code",
      "metadata": {
        "colab": {
          "base_uri": "https://localhost:8080/",
          "height": 304
        },
        "id": "Jgv_JBxmlA_Z",
        "outputId": "1c665ef7-e130-49a4-aef0-46746873f471"
      },
      "source": [
        "rp.summary_cont(df_0)"
      ],
      "execution_count": null,
      "outputs": [
        {
          "output_type": "stream",
          "name": "stdout",
          "text": [
            "\n",
            "\n"
          ]
        },
        {
          "output_type": "stream",
          "name": "stderr",
          "text": [
            "/usr/local/lib/python3.7/dist-packages/scipy/stats/_distn_infrastructure.py:2003: RuntimeWarning: invalid value encountered in multiply\n",
            "  lower_bound = _a * scale + loc\n",
            "/usr/local/lib/python3.7/dist-packages/scipy/stats/_distn_infrastructure.py:2004: RuntimeWarning: invalid value encountered in multiply\n",
            "  upper_bound = _b * scale + loc\n"
          ]
        },
        {
          "output_type": "execute_result",
          "data": {
            "text/html": [
              "<div>\n",
              "<style scoped>\n",
              "    .dataframe tbody tr th:only-of-type {\n",
              "        vertical-align: middle;\n",
              "    }\n",
              "\n",
              "    .dataframe tbody tr th {\n",
              "        vertical-align: top;\n",
              "    }\n",
              "\n",
              "    .dataframe thead th {\n",
              "        text-align: right;\n",
              "    }\n",
              "</style>\n",
              "<table border=\"1\" class=\"dataframe\">\n",
              "  <thead>\n",
              "    <tr style=\"text-align: right;\">\n",
              "      <th></th>\n",
              "      <th>Variable</th>\n",
              "      <th>N</th>\n",
              "      <th>Mean</th>\n",
              "      <th>SD</th>\n",
              "      <th>SE</th>\n",
              "      <th>95% Conf.</th>\n",
              "      <th>Interval</th>\n",
              "    </tr>\n",
              "  </thead>\n",
              "  <tbody>\n",
              "    <tr>\n",
              "      <th>0</th>\n",
              "      <td>X1</td>\n",
              "      <td>150.0</td>\n",
              "      <td>0.0239</td>\n",
              "      <td>0.2146</td>\n",
              "      <td>0.0175</td>\n",
              "      <td>-0.0108</td>\n",
              "      <td>0.0585</td>\n",
              "    </tr>\n",
              "    <tr>\n",
              "      <th>1</th>\n",
              "      <td>X2</td>\n",
              "      <td>150.0</td>\n",
              "      <td>1.9799</td>\n",
              "      <td>0.2421</td>\n",
              "      <td>0.0198</td>\n",
              "      <td>1.9408</td>\n",
              "      <td>2.0189</td>\n",
              "    </tr>\n",
              "    <tr>\n",
              "      <th>2</th>\n",
              "      <td>X3</td>\n",
              "      <td>150.0</td>\n",
              "      <td>0.0180</td>\n",
              "      <td>0.2154</td>\n",
              "      <td>0.0176</td>\n",
              "      <td>-0.0167</td>\n",
              "      <td>0.0528</td>\n",
              "    </tr>\n",
              "    <tr>\n",
              "      <th>3</th>\n",
              "      <td>X4</td>\n",
              "      <td>150.0</td>\n",
              "      <td>-0.0349</td>\n",
              "      <td>0.3704</td>\n",
              "      <td>0.0302</td>\n",
              "      <td>-0.0947</td>\n",
              "      <td>0.0249</td>\n",
              "    </tr>\n",
              "    <tr>\n",
              "      <th>4</th>\n",
              "      <td>Y</td>\n",
              "      <td>150.0</td>\n",
              "      <td>0.0000</td>\n",
              "      <td>0.0000</td>\n",
              "      <td>0.0000</td>\n",
              "      <td>NaN</td>\n",
              "      <td>NaN</td>\n",
              "    </tr>\n",
              "  </tbody>\n",
              "</table>\n",
              "</div>"
            ],
            "text/plain": [
              "  Variable      N    Mean      SD      SE  95% Conf.  Interval\n",
              "0       X1  150.0  0.0239  0.2146  0.0175    -0.0108    0.0585\n",
              "1       X2  150.0  1.9799  0.2421  0.0198     1.9408    2.0189\n",
              "2       X3  150.0  0.0180  0.2154  0.0176    -0.0167    0.0528\n",
              "3       X4  150.0 -0.0349  0.3704  0.0302    -0.0947    0.0249\n",
              "4        Y  150.0  0.0000  0.0000  0.0000        NaN       NaN"
            ]
          },
          "metadata": {},
          "execution_count": 11
        }
      ]
    },
    {
      "cell_type": "code",
      "metadata": {
        "colab": {
          "base_uri": "https://localhost:8080/"
        },
        "id": "RMoRTwMVlECZ",
        "outputId": "828ef383-bd91-4425-e973-878bc7e270fa"
      },
      "source": [
        "np.var(df_0)"
      ],
      "execution_count": null,
      "outputs": [
        {
          "output_type": "execute_result",
          "data": {
            "text/plain": [
              "X1    0.045764\n",
              "X2    0.058224\n",
              "X3    0.046071\n",
              "X4    0.136291\n",
              "Y     0.000000\n",
              "dtype: float64"
            ]
          },
          "metadata": {},
          "execution_count": 12
        }
      ]
    },
    {
      "cell_type": "code",
      "metadata": {
        "colab": {
          "base_uri": "https://localhost:8080/"
        },
        "id": "XQvbaNNMlHGh",
        "outputId": "8338cae6-b2d0-4be2-be32-9c0eb398094e"
      },
      "source": [
        "scipy.stats.skew(df_0)"
      ],
      "execution_count": null,
      "outputs": [
        {
          "output_type": "execute_result",
          "data": {
            "text/plain": [
              "array([-0.07645115, -0.15097506, -0.06774155, -0.03308099,  0.        ])"
            ]
          },
          "metadata": {},
          "execution_count": 13
        }
      ]
    },
    {
      "cell_type": "code",
      "metadata": {
        "colab": {
          "base_uri": "https://localhost:8080/",
          "height": 203
        },
        "id": "SAdpdnR6lRXs",
        "outputId": "e232dae4-f3b1-4745-ffe4-ecfa13a72c70"
      },
      "source": [
        "df_1 = df[df[\"Y\"] == 1]\n",
        "df_1.head()"
      ],
      "execution_count": null,
      "outputs": [
        {
          "output_type": "execute_result",
          "data": {
            "text/html": [
              "<div>\n",
              "<style scoped>\n",
              "    .dataframe tbody tr th:only-of-type {\n",
              "        vertical-align: middle;\n",
              "    }\n",
              "\n",
              "    .dataframe tbody tr th {\n",
              "        vertical-align: top;\n",
              "    }\n",
              "\n",
              "    .dataframe thead th {\n",
              "        text-align: right;\n",
              "    }\n",
              "</style>\n",
              "<table border=\"1\" class=\"dataframe\">\n",
              "  <thead>\n",
              "    <tr style=\"text-align: right;\">\n",
              "      <th></th>\n",
              "      <th>X1</th>\n",
              "      <th>X2</th>\n",
              "      <th>X3</th>\n",
              "      <th>X4</th>\n",
              "      <th>Y</th>\n",
              "    </tr>\n",
              "  </thead>\n",
              "  <tbody>\n",
              "    <tr>\n",
              "      <th>150</th>\n",
              "      <td>1.912331</td>\n",
              "      <td>2.093645</td>\n",
              "      <td>-0.034414</td>\n",
              "      <td>-0.138141</td>\n",
              "      <td>1</td>\n",
              "    </tr>\n",
              "    <tr>\n",
              "      <th>151</th>\n",
              "      <td>2.007093</td>\n",
              "      <td>1.902071</td>\n",
              "      <td>-0.022697</td>\n",
              "      <td>0.072570</td>\n",
              "      <td>1</td>\n",
              "    </tr>\n",
              "    <tr>\n",
              "      <th>152</th>\n",
              "      <td>1.790214</td>\n",
              "      <td>1.956952</td>\n",
              "      <td>-0.190969</td>\n",
              "      <td>-0.221520</td>\n",
              "      <td>1</td>\n",
              "    </tr>\n",
              "    <tr>\n",
              "      <th>153</th>\n",
              "      <td>2.227689</td>\n",
              "      <td>2.047822</td>\n",
              "      <td>0.186280</td>\n",
              "      <td>0.194539</td>\n",
              "      <td>1</td>\n",
              "    </tr>\n",
              "    <tr>\n",
              "      <th>154</th>\n",
              "      <td>1.994394</td>\n",
              "      <td>1.986028</td>\n",
              "      <td>0.028766</td>\n",
              "      <td>0.098660</td>\n",
              "      <td>1</td>\n",
              "    </tr>\n",
              "  </tbody>\n",
              "</table>\n",
              "</div>"
            ],
            "text/plain": [
              "           X1        X2        X3        X4  Y\n",
              "150  1.912331  2.093645 -0.034414 -0.138141  1\n",
              "151  2.007093  1.902071 -0.022697  0.072570  1\n",
              "152  1.790214  1.956952 -0.190969 -0.221520  1\n",
              "153  2.227689  2.047822  0.186280  0.194539  1\n",
              "154  1.994394  1.986028  0.028766  0.098660  1"
            ]
          },
          "metadata": {},
          "execution_count": 14
        }
      ]
    },
    {
      "cell_type": "code",
      "metadata": {
        "colab": {
          "base_uri": "https://localhost:8080/",
          "height": 304
        },
        "id": "lqh7WYj5lTzt",
        "outputId": "05f965c1-f530-42c5-c00e-04c4f7ce2362"
      },
      "source": [
        "rp.summary_cont(df_1)"
      ],
      "execution_count": null,
      "outputs": [
        {
          "output_type": "stream",
          "name": "stdout",
          "text": [
            "\n",
            "\n"
          ]
        },
        {
          "output_type": "stream",
          "name": "stderr",
          "text": [
            "/usr/local/lib/python3.7/dist-packages/scipy/stats/_distn_infrastructure.py:2003: RuntimeWarning: invalid value encountered in multiply\n",
            "  lower_bound = _a * scale + loc\n",
            "/usr/local/lib/python3.7/dist-packages/scipy/stats/_distn_infrastructure.py:2004: RuntimeWarning: invalid value encountered in multiply\n",
            "  upper_bound = _b * scale + loc\n"
          ]
        },
        {
          "output_type": "execute_result",
          "data": {
            "text/html": [
              "<div>\n",
              "<style scoped>\n",
              "    .dataframe tbody tr th:only-of-type {\n",
              "        vertical-align: middle;\n",
              "    }\n",
              "\n",
              "    .dataframe tbody tr th {\n",
              "        vertical-align: top;\n",
              "    }\n",
              "\n",
              "    .dataframe thead th {\n",
              "        text-align: right;\n",
              "    }\n",
              "</style>\n",
              "<table border=\"1\" class=\"dataframe\">\n",
              "  <thead>\n",
              "    <tr style=\"text-align: right;\">\n",
              "      <th></th>\n",
              "      <th>Variable</th>\n",
              "      <th>N</th>\n",
              "      <th>Mean</th>\n",
              "      <th>SD</th>\n",
              "      <th>SE</th>\n",
              "      <th>95% Conf.</th>\n",
              "      <th>Interval</th>\n",
              "    </tr>\n",
              "  </thead>\n",
              "  <tbody>\n",
              "    <tr>\n",
              "      <th>0</th>\n",
              "      <td>X1</td>\n",
              "      <td>150.0</td>\n",
              "      <td>1.9823</td>\n",
              "      <td>0.2451</td>\n",
              "      <td>0.0200</td>\n",
              "      <td>1.9428</td>\n",
              "      <td>2.0219</td>\n",
              "    </tr>\n",
              "    <tr>\n",
              "      <th>1</th>\n",
              "      <td>X2</td>\n",
              "      <td>150.0</td>\n",
              "      <td>1.9947</td>\n",
              "      <td>0.1197</td>\n",
              "      <td>0.0098</td>\n",
              "      <td>1.9754</td>\n",
              "      <td>2.0140</td>\n",
              "    </tr>\n",
              "    <tr>\n",
              "      <th>2</th>\n",
              "      <td>X3</td>\n",
              "      <td>150.0</td>\n",
              "      <td>-0.0180</td>\n",
              "      <td>0.1765</td>\n",
              "      <td>0.0144</td>\n",
              "      <td>-0.0465</td>\n",
              "      <td>0.0105</td>\n",
              "    </tr>\n",
              "    <tr>\n",
              "      <th>3</th>\n",
              "      <td>X4</td>\n",
              "      <td>150.0</td>\n",
              "      <td>-0.0197</td>\n",
              "      <td>0.2348</td>\n",
              "      <td>0.0192</td>\n",
              "      <td>-0.0576</td>\n",
              "      <td>0.0182</td>\n",
              "    </tr>\n",
              "    <tr>\n",
              "      <th>4</th>\n",
              "      <td>Y</td>\n",
              "      <td>150.0</td>\n",
              "      <td>1.0000</td>\n",
              "      <td>0.0000</td>\n",
              "      <td>0.0000</td>\n",
              "      <td>NaN</td>\n",
              "      <td>NaN</td>\n",
              "    </tr>\n",
              "  </tbody>\n",
              "</table>\n",
              "</div>"
            ],
            "text/plain": [
              "  Variable      N    Mean      SD      SE  95% Conf.  Interval\n",
              "0       X1  150.0  1.9823  0.2451  0.0200     1.9428    2.0219\n",
              "1       X2  150.0  1.9947  0.1197  0.0098     1.9754    2.0140\n",
              "2       X3  150.0 -0.0180  0.1765  0.0144    -0.0465    0.0105\n",
              "3       X4  150.0 -0.0197  0.2348  0.0192    -0.0576    0.0182\n",
              "4        Y  150.0  1.0000  0.0000  0.0000        NaN       NaN"
            ]
          },
          "metadata": {},
          "execution_count": 15
        }
      ]
    },
    {
      "cell_type": "code",
      "metadata": {
        "colab": {
          "base_uri": "https://localhost:8080/"
        },
        "id": "cUj2PjYDlWZh",
        "outputId": "fd9064b8-a921-422b-c9c0-61b2ff17b391"
      },
      "source": [
        "np.var(df_1)"
      ],
      "execution_count": null,
      "outputs": [
        {
          "output_type": "execute_result",
          "data": {
            "text/plain": [
              "X1    0.059662\n",
              "X2    0.014242\n",
              "X3    0.030961\n",
              "X4    0.054779\n",
              "Y     0.000000\n",
              "dtype: float64"
            ]
          },
          "metadata": {},
          "execution_count": 16
        }
      ]
    },
    {
      "cell_type": "code",
      "metadata": {
        "colab": {
          "base_uri": "https://localhost:8080/"
        },
        "id": "8DqolyJTlZFp",
        "outputId": "32d299da-1de4-4157-f647-440430e27a78"
      },
      "source": [
        "scipy.stats.skew(df_1)"
      ],
      "execution_count": null,
      "outputs": [
        {
          "output_type": "execute_result",
          "data": {
            "text/plain": [
              "array([ 0.17235207, -0.06059896,  0.08825267,  0.25462729,  0.        ])"
            ]
          },
          "metadata": {},
          "execution_count": 17
        }
      ]
    },
    {
      "cell_type": "markdown",
      "metadata": {
        "id": "XrbKQ4G51xIu"
      },
      "source": [
        "# No difference is present between the number of instances for classes 0 and 1. Hence, it can be attributed as an balanced dataset."
      ]
    },
    {
      "cell_type": "markdown",
      "metadata": {
        "id": "FJx5CLIP12Cv"
      },
      "source": [
        "# Plotting of data points for all the 6 combinations of the different features, in order to visualise overlapping."
      ]
    },
    {
      "cell_type": "code",
      "metadata": {
        "colab": {
          "base_uri": "https://localhost:8080/",
          "height": 265
        },
        "id": "dOHqe23cqOho",
        "outputId": "a00515f5-4e12-40c7-b1c9-a497b63847e9"
      },
      "source": [
        "for i in range(len(df)):\n",
        "  x1=df.iloc[i,0]\n",
        "  x2=df.iloc[i,1]\n",
        "  x3=df.iloc[i,2]\n",
        "  x4=df.iloc[i,3]\n",
        "  y=df.iloc[i,4]\n",
        "  if(y==0):\n",
        "    plt.scatter(x1,x2,color='red')\n",
        "  else:\n",
        "    plt.scatter(x1,x2,color='blue')\n",
        "plt.show()"
      ],
      "execution_count": null,
      "outputs": [
        {
          "output_type": "display_data",
          "data": {
            "image/png": "[encoded data removed]",
            "text/plain": [
              "<Figure size 432x288 with 1 Axes>"
            ]
          },
          "metadata": {
            "needs_background": "light"
          }
        }
      ]
    },
    {
      "cell_type": "code",
      "metadata": {
        "colab": {
          "base_uri": "https://localhost:8080/",
          "height": 265
        },
        "id": "3cyYQ8JZqRF5",
        "outputId": "eb18d986-893f-4370-903c-c4604b05804a"
      },
      "source": [
        "for i in range(len(df)):\n",
        "  x1=df.iloc[i,0]\n",
        "  x2=df.iloc[i,1]\n",
        "  x3=df.iloc[i,2]\n",
        "  x4=df.iloc[i,3]\n",
        "  y=df.iloc[i,4]\n",
        "  if(y==0):\n",
        "    plt.scatter(x1,x3,color='red')\n",
        "  else:\n",
        "    plt.scatter(x1,x3,color='blue')\n",
        "plt.show()"
      ],
      "execution_count": null,
      "outputs": [
        {
          "output_type": "display_data",
          "data": {
            "image/png": "[encoded data removed]",
            "text/plain": [
              "<Figure size 432x288 with 1 Axes>"
            ]
          },
          "metadata": {
            "needs_background": "light"
          }
        }
      ]
    },
    {
      "cell_type": "code",
      "metadata": {
        "colab": {
          "base_uri": "https://localhost:8080/",
          "height": 265
        },
        "id": "7poC4FNjqTRv",
        "outputId": "f3445e42-a4fc-415b-caed-e3fe305fd0e6"
      },
      "source": [
        "for i in range(len(df)):\n",
        "  x1=df.iloc[i,0]\n",
        "  x2=df.iloc[i,1]\n",
        "  x3=df.iloc[i,2]\n",
        "  x4=df.iloc[i,3]\n",
        "  y=df.iloc[i,4]\n",
        "  if(y==0):\n",
        "    plt.scatter(x1,x4,color='red')\n",
        "  else:\n",
        "    plt.scatter(x1,x4,color='blue')\n",
        "plt.show()"
      ],
      "execution_count": null,
      "outputs": [
        {
          "output_type": "display_data",
          "data": {
            "image/png": "[encoded data removed]",
            "text/plain": [
              "<Figure size 432x288 with 1 Axes>"
            ]
          },
          "metadata": {
            "needs_background": "light"
          }
        }
      ]
    },
    {
      "cell_type": "code",
      "metadata": {
        "colab": {
          "base_uri": "https://localhost:8080/",
          "height": 265
        },
        "id": "gLOCJNh-0sW0",
        "outputId": "c7227a7c-6410-483c-9115-6c4cdee2a102"
      },
      "source": [
        "for i in range(len(df)):\n",
        "  x1=df.iloc[i,0]\n",
        "  x2=df.iloc[i,1]\n",
        "  x3=df.iloc[i,2]\n",
        "  x4=df.iloc[i,3]\n",
        "  y=df.iloc[i,4]\n",
        "  if(y==0):\n",
        "    plt.scatter(x2,x3,color='red')\n",
        "  else:\n",
        "    plt.scatter(x2,x3,color='blue')\n",
        "plt.show()"
      ],
      "execution_count": null,
      "outputs": [
        {
          "output_type": "display_data",
          "data": {
            "image/png": "[encoded data removed]",
            "text/plain": [
              "<Figure size 432x288 with 1 Axes>"
            ]
          },
          "metadata": {
            "needs_background": "light"
          }
        }
      ]
    },
    {
      "cell_type": "code",
      "metadata": {
        "colab": {
          "base_uri": "https://localhost:8080/",
          "height": 265
        },
        "id": "Cwsyyi2a03gK",
        "outputId": "8f29acc8-e62b-4f7e-f10e-d98bb2cb2dc6"
      },
      "source": [
        "for i in range(len(df)):\n",
        "  x1=df.iloc[i,0]\n",
        "  x2=df.iloc[i,1]\n",
        "  x3=df.iloc[i,2]\n",
        "  x4=df.iloc[i,3]\n",
        "  y=df.iloc[i,4]\n",
        "  if(y==0):\n",
        "    plt.scatter(x2,x4,color='red')\n",
        "  else:\n",
        "    plt.scatter(x2,x4,color='blue')\n",
        "plt.show()"
      ],
      "execution_count": null,
      "outputs": [
        {
          "output_type": "display_data",
          "data": {
            "image/png": "[encoded data removed]",
            "text/plain": [
              "<Figure size 432x288 with 1 Axes>"
            ]
          },
          "metadata": {
            "needs_background": "light"
          }
        }
      ]
    },
    {
      "cell_type": "code",
      "metadata": {
        "colab": {
          "base_uri": "https://localhost:8080/",
          "height": 265
        },
        "id": "pIJZI5UN097E",
        "outputId": "27d502a9-ff68-406c-e376-db45be59f6b0"
      },
      "source": [
        "for i in range(len(df)):\n",
        "  x1=df.iloc[i,0]\n",
        "  x2=df.iloc[i,1]\n",
        "  x3=df.iloc[i,2]\n",
        "  x4=df.iloc[i,3]\n",
        "  y=df.iloc[i,4]\n",
        "  if(y==0):\n",
        "    plt.scatter(x3,x4,color='red')\n",
        "  else:\n",
        "    plt.scatter(x3,x4,color='blue')\n",
        "plt.show()"
      ],
      "execution_count": null,
      "outputs": [
        {
          "output_type": "display_data",
          "data": {
            "image/png": "[encoded data removed]",
            "text/plain": [
              "<Figure size 432x288 with 1 Axes>"
            ]
          },
          "metadata": {
            "needs_background": "light"
          }
        }
      ]
    },
    {
      "cell_type": "markdown",
      "metadata": {
        "id": "Rr-18FnG2G7I"
      },
      "source": [
        "# Hence, it can be confirmed from the above scatter plots that x2 overlaps with x3, x2 overlaps with x4, and x3 overlaps with x4."
      ]
    },
    {
      "cell_type": "markdown",
      "metadata": {
        "id": "9SP8666Lrv8R"
      },
      "source": [
        "# Data Splicing"
      ]
    },
    {
      "cell_type": "code",
      "metadata": {
        "id": "YrLrulaoec4k"
      },
      "source": [
        "x=df.drop('Y',axis=1)\n",
        "y=df['Y']"
      ],
      "execution_count": null,
      "outputs": []
    },
    {
      "cell_type": "code",
      "metadata": {
        "id": "x618sr8-epVL"
      },
      "source": [
        "x_train,x_test,y_train,y_test=train_test_split(x,y,test_size=0.25,random_state=1)"
      ],
      "execution_count": null,
      "outputs": []
    },
    {
      "cell_type": "markdown",
      "metadata": {
        "id": "YS1_8gW6rIIX"
      },
      "source": [
        "# Decision Tree Clasiifier"
      ]
    },
    {
      "cell_type": "code",
      "metadata": {
        "colab": {
          "base_uri": "https://localhost:8080/"
        },
        "id": "sFEH9j1MrLge",
        "outputId": "80db7123-1b7e-4755-e696-898288c9a8af"
      },
      "source": [
        "tree = DecisionTreeClassifier()\n",
        "tree_fit = tree.fit(x_train,y_train)\n",
        "y_pred = tree_fit.predict(x_test)\n",
        "print(\"Accuracy Score = %.3f\" %accuracy_score(y_test,y_pred))\n",
        "print(\"\\nConfusion Matrix : \\n\", confusion_matrix(y_test,y_pred))\n",
        "print(\"\\nClassification Report : \\n\", classification_report(y_test,y_pred))\n",
        "v_acc = cross_val_score(tree, x_train, y_train, cv=10, scoring='accuracy')\n",
        "v_pre = cross_val_score(tree, x_train, y_train, cv=10, scoring='precision')\n",
        "v_rec = cross_val_score(tree, x_train, y_train, cv=10, scoring='recall')\n",
        "print(\"\\nAccuracy using 10 fold Cross validation = \",v_acc.mean())\n",
        "print(\"\\nPrecision using 10 fold Cross validation = \",v_pre.mean())\n",
        "print(\"\\nRecall using 10 fold Cross validation = \",v_rec.mean())"
      ],
      "execution_count": null,
      "outputs": [
        {
          "output_type": "stream",
          "name": "stdout",
          "text": [
            "Accuracy Score = 1.000\n",
            "\n",
            "Confusion Matrix : \n",
            " [[36  0]\n",
            " [ 0 39]]\n",
            "\n",
            "Classification Report : \n",
            "               precision    recall  f1-score   support\n",
            "\n",
            "           0       1.00      1.00      1.00        36\n",
            "           1       1.00      1.00      1.00        39\n",
            "\n",
            "    accuracy                           1.00        75\n",
            "   macro avg       1.00      1.00      1.00        75\n",
            "weighted avg       1.00      1.00      1.00        75\n",
            "\n",
            "\n",
            "Accuracy using 10 fold Cross validation =  1.0\n",
            "\n",
            "Precision using 10 fold Cross validation =  1.0\n",
            "\n",
            "Recall using 10 fold Cross validation =  1.0\n"
          ]
        }
      ]
    },
    {
      "cell_type": "markdown",
      "metadata": {
        "id": "75NKMIkwrB7-"
      },
      "source": [
        "# KNN Classifier"
      ]
    },
    {
      "cell_type": "code",
      "metadata": {
        "colab": {
          "base_uri": "https://localhost:8080/"
        },
        "id": "btQoZu5eibnz",
        "outputId": "e7ca1c35-9b3a-43d2-ef3b-ca4c7178b678"
      },
      "source": [
        "knn = KNeighborsClassifier(n_neighbors = 3)\n",
        "knn_fit = knn.fit(x_train,y_train)\n",
        "y_pred = knn_fit.predict(x_test)\n",
        "print(\"Accuracy Score = %.3f\" %accuracy_score(y_test,y_pred))\n",
        "print(\"\\nConfusion Matrix : \\n\", confusion_matrix(y_test,y_pred))\n",
        "print(\"\\nClassification Report : \\n\", classification_report(y_test,y_pred))\n",
        "v_acc = cross_val_score(knn, x_train, y_train, cv=10, scoring='accuracy')\n",
        "v_pre = cross_val_score(knn, x_train, y_train, cv=10, scoring='precision')\n",
        "v_rec = cross_val_score(knn, x_train, y_train, cv=10, scoring='recall')\n",
        "print(\"\\nAccuracy using 10 fold Cross validation = \",v_acc.mean())\n",
        "print(\"\\nPrecision using 10 fold Cross validation = \",v_pre.mean())\n",
        "print(\"\\nRecall using 10 fold Cross validation = \",v_rec.mean())"
      ],
      "execution_count": null,
      "outputs": [
        {
          "output_type": "stream",
          "name": "stdout",
          "text": [
            "Accuracy Score = 1.000\n",
            "\n",
            "Confusion Matrix : \n",
            " [[36  0]\n",
            " [ 0 39]]\n",
            "\n",
            "Classification Report : \n",
            "               precision    recall  f1-score   support\n",
            "\n",
            "           0       1.00      1.00      1.00        36\n",
            "           1       1.00      1.00      1.00        39\n",
            "\n",
            "    accuracy                           1.00        75\n",
            "   macro avg       1.00      1.00      1.00        75\n",
            "weighted avg       1.00      1.00      1.00        75\n",
            "\n",
            "\n",
            "Accuracy using 10 fold Cross validation =  1.0\n",
            "\n",
            "Precision using 10 fold Cross validation =  1.0\n",
            "\n",
            "Recall using 10 fold Cross validation =  1.0\n"
          ]
        }
      ]
    },
    {
      "cell_type": "markdown",
      "metadata": {
        "id": "vExHMhwPrE7p"
      },
      "source": [
        "# SVM Classifier"
      ]
    },
    {
      "cell_type": "code",
      "metadata": {
        "colab": {
          "base_uri": "https://localhost:8080/"
        },
        "id": "Cy6JZJZjrSJt",
        "outputId": "6f44b43e-0fbf-4a1f-997d-a46af9e51648"
      },
      "source": [
        "mod = SVC()\n",
        "mod_fit = mod.fit(x_train,y_train)\n",
        "y_pred = mod_fit.predict(x_test)\n",
        "print(\"Accuracy Score = %.3f\" %accuracy_score(y_test,y_pred))\n",
        "print(\"\\nConfusion Matrix : \\n\", confusion_matrix(y_test,y_pred))\n",
        "print(\"\\nClassification Report : \\n\", classification_report(y_test,y_pred))\n",
        "v_acc = cross_val_score(mod, x_train, y_train, cv=10, scoring='accuracy')\n",
        "v_pre = cross_val_score(mod, x_train, y_train, cv=10, scoring='precision')\n",
        "v_rec = cross_val_score(mod, x_train, y_train, cv=10, scoring='recall')\n",
        "print(\"\\nAccuracy using 10 fold Cross validation = \",v_acc.mean())\n",
        "print(\"\\nPrecision using 10 fold Cross validation = \",v_pre.mean())\n",
        "print(\"\\nRecall using 10 fold Cross validation = \",v_rec.mean())"
      ],
      "execution_count": null,
      "outputs": [
        {
          "output_type": "stream",
          "name": "stdout",
          "text": [
            "Accuracy Score = 1.000\n",
            "\n",
            "Confusion Matrix : \n",
            " [[36  0]\n",
            " [ 0 39]]\n",
            "\n",
            "Classification Report : \n",
            "               precision    recall  f1-score   support\n",
            "\n",
            "           0       1.00      1.00      1.00        36\n",
            "           1       1.00      1.00      1.00        39\n",
            "\n",
            "    accuracy                           1.00        75\n",
            "   macro avg       1.00      1.00      1.00        75\n",
            "weighted avg       1.00      1.00      1.00        75\n",
            "\n",
            "\n",
            "Accuracy using 10 fold Cross validation =  1.0\n",
            "\n",
            "Precision using 10 fold Cross validation =  1.0\n",
            "\n",
            "Recall using 10 fold Cross validation =  1.0\n"
          ]
        }
      ]
    }
  ]
}