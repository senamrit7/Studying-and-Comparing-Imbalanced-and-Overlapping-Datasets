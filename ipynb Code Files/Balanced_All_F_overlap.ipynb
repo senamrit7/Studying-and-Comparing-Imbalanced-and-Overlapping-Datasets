{
  "nbformat": 4,
  "nbformat_minor": 0,
  "metadata": {
    "colab": {
      "name": "Ninth___Balanced-All-F-overlap.ipynb",
      "provenance": [],
      "collapsed_sections": []
    },
    "kernelspec": {
      "name": "python3",
      "display_name": "Python 3"
    },
    "language_info": {
      "name": "python"
    }
  },
  "cells": [
    {
      "cell_type": "code",
      "metadata": {
        "colab": {
          "base_uri": "https://localhost:8080/"
        },
        "id": "At-v6GBxeYg-",
        "outputId": "ca1309c7-9fdb-42ce-8c32-41de418129dc"
      },
      "source": [
        "pip install researchpy"
      ],
      "execution_count": null,
      "outputs": [
        {
          "output_type": "stream",
          "name": "stdout",
          "text": [
            "Collecting researchpy\n",
            "  Downloading researchpy-0.3.2-py3-none-any.whl (15 kB)\n",
            "Requirement already satisfied: numpy in /usr/local/lib/python3.7/dist-packages (from researchpy) (1.19.5)\n",
            "Requirement already satisfied: statsmodels in /usr/local/lib/python3.7/dist-packages (from researchpy) (0.10.2)\n",
            "Requirement already satisfied: pandas in /usr/local/lib/python3.7/dist-packages (from researchpy) (1.1.5)\n",
            "Requirement already satisfied: patsy in /usr/local/lib/python3.7/dist-packages (from researchpy) (0.5.2)\n",
            "Requirement already satisfied: scipy in /usr/local/lib/python3.7/dist-packages (from researchpy) (1.4.1)\n",
            "Requirement already satisfied: pytz>=2017.2 in /usr/local/lib/python3.7/dist-packages (from pandas->researchpy) (2018.9)\n",
            "Requirement already satisfied: python-dateutil>=2.7.3 in /usr/local/lib/python3.7/dist-packages (from pandas->researchpy) (2.8.2)\n",
            "Requirement already satisfied: six>=1.5 in /usr/local/lib/python3.7/dist-packages (from python-dateutil>=2.7.3->pandas->researchpy) (1.15.0)\n",
            "Installing collected packages: researchpy\n",
            "Successfully installed researchpy-0.3.2\n"
          ]
        }
      ]
    },
    {
      "cell_type": "markdown",
      "metadata": {
        "id": "FM2ws0niAFx2"
      },
      "source": [
        "# Importing necessary libraries"
      ]
    },
    {
      "cell_type": "code",
      "metadata": {
        "id": "WFA23qxX5xJV",
        "colab": {
          "base_uri": "https://localhost:8080/"
        },
        "outputId": "47b551f3-6ec1-4953-c888-7baba7b70c85"
      },
      "source": [
        "import pandas as pd\n",
        "import numpy as np\n",
        "import sklearn\n",
        "import scipy\n",
        "import seaborn as sns\n",
        "import matplotlib.pyplot as plt\n",
        "from sklearn.tree import DecisionTreeClassifier\n",
        "from sklearn.neighbors import KNeighborsClassifier\n",
        "from sklearn.svm import SVC\n",
        "from sklearn.model_selection import train_test_split\n",
        "from sklearn.linear_model import LogisticRegression\n",
        "from sklearn.metrics import accuracy_score, confusion_matrix, classification_report\n",
        "from sklearn.model_selection import KFold\n",
        "from sklearn.model_selection import cross_val_score\n",
        "from sklearn.model_selection import GridSearchCV\n",
        "from sklearn.ensemble import IsolationForest\n",
        "from sklearn.neighbors import LocalOutlierFactor\n",
        "from sklearn.svm import OneClassSVM\n",
        "from imblearn.combine import SMOTETomek\n",
        "from collections import Counter\n",
        "import researchpy as rp\n",
        "from imblearn.over_sampling import ADASYN"
      ],
      "execution_count": null,
      "outputs": [
        {
          "output_type": "stream",
          "name": "stderr",
          "text": [
            "/usr/local/lib/python3.7/dist-packages/statsmodels/tools/_testing.py:19: FutureWarning: pandas.util.testing is deprecated. Use the functions in the public API at pandas.testing instead.\n",
            "  import pandas.util.testing as tm\n"
          ]
        }
      ]
    },
    {
      "cell_type": "markdown",
      "metadata": {
        "id": "B9zrEnSaARIq"
      },
      "source": [
        "# Uploading the dataset"
      ]
    },
    {
      "cell_type": "code",
      "metadata": {
        "colab": {
          "resources": {
            "http://localhost:8080/nbextensions/google.colab/files.js": {
              "data": "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",
              "ok": true,
              "headers": [
                [
                  "content-type",
                  "application/javascript"
                ]
              ],
              "status": 200,
              "status_text": ""
            }
          },
          "base_uri": "https://localhost:8080/",
          "height": 73
        },
        "id": "Zob97giiwwjg",
        "outputId": "0f5488aa-48f1-44b3-e29a-c6a2c23d740d"
      },
      "source": [
        "from google.colab import files\n",
        "uploaded = files.upload()"
      ],
      "execution_count": null,
      "outputs": [
        {
          "output_type": "display_data",
          "data": {
            "text/html": [
              "\n",
              "     <input type=\"file\" id=\"files-e8ed9d9e-16e0-41ce-9fa8-afec7066a92f\" name=\"files[]\" multiple disabled\n",
              "        style=\"border:none\" />\n",
              "     <output id=\"result-e8ed9d9e-16e0-41ce-9fa8-afec7066a92f\">\n",
              "      Upload widget is only available when the cell has been executed in the\n",
              "      current browser session. Please rerun this cell to enable.\n",
              "      </output>\n",
              "      <script src=\"/nbextensions/google.colab/files.js\"></script> "
            ],
            "text/plain": [
              "<IPython.core.display.HTML object>"
            ]
          },
          "metadata": {}
        },
        {
          "output_type": "stream",
          "name": "stdout",
          "text": [
            "Saving Balanced-All-F-overlap.csv to Balanced-All-F-overlap.csv\n"
          ]
        }
      ]
    },
    {
      "cell_type": "markdown",
      "metadata": {
        "id": "6SC9ipWGAR8R"
      },
      "source": [
        "# Reading the dataset"
      ]
    },
    {
      "cell_type": "code",
      "metadata": {
        "colab": {
          "base_uri": "https://localhost:8080/",
          "height": 203
        },
        "id": "TuIQzd1JND6f",
        "outputId": "61672c20-c0b5-495c-87b8-ceb5b8951eb4"
      },
      "source": [
        "df=pd.read_csv('Balanced-All-F-overlap.csv')\n",
        "df.head()"
      ],
      "execution_count": null,
      "outputs": [
        {
          "output_type": "execute_result",
          "data": {
            "text/html": [
              "<div>\n",
              "<style scoped>\n",
              "    .dataframe tbody tr th:only-of-type {\n",
              "        vertical-align: middle;\n",
              "    }\n",
              "\n",
              "    .dataframe tbody tr th {\n",
              "        vertical-align: top;\n",
              "    }\n",
              "\n",
              "    .dataframe thead th {\n",
              "        text-align: right;\n",
              "    }\n",
              "</style>\n",
              "<table border=\"1\" class=\"dataframe\">\n",
              "  <thead>\n",
              "    <tr style=\"text-align: right;\">\n",
              "      <th></th>\n",
              "      <th>X1</th>\n",
              "      <th>X2</th>\n",
              "      <th>X3</th>\n",
              "      <th>X4</th>\n",
              "      <th>Y</th>\n",
              "    </tr>\n",
              "  </thead>\n",
              "  <tbody>\n",
              "    <tr>\n",
              "      <th>0</th>\n",
              "      <td>1.199653</td>\n",
              "      <td>1.258087</td>\n",
              "      <td>0.982863</td>\n",
              "      <td>1.000315</td>\n",
              "      <td>0</td>\n",
              "    </tr>\n",
              "    <tr>\n",
              "      <th>1</th>\n",
              "      <td>1.203599</td>\n",
              "      <td>1.066451</td>\n",
              "      <td>0.534747</td>\n",
              "      <td>0.973330</td>\n",
              "      <td>0</td>\n",
              "    </tr>\n",
              "    <tr>\n",
              "      <th>2</th>\n",
              "      <td>1.096427</td>\n",
              "      <td>1.184544</td>\n",
              "      <td>1.293702</td>\n",
              "      <td>1.381156</td>\n",
              "      <td>0</td>\n",
              "    </tr>\n",
              "    <tr>\n",
              "      <th>3</th>\n",
              "      <td>0.958135</td>\n",
              "      <td>0.903461</td>\n",
              "      <td>0.918970</td>\n",
              "      <td>0.728722</td>\n",
              "      <td>0</td>\n",
              "    </tr>\n",
              "    <tr>\n",
              "      <th>4</th>\n",
              "      <td>1.210144</td>\n",
              "      <td>1.158833</td>\n",
              "      <td>1.160851</td>\n",
              "      <td>1.295831</td>\n",
              "      <td>0</td>\n",
              "    </tr>\n",
              "  </tbody>\n",
              "</table>\n",
              "</div>"
            ],
            "text/plain": [
              "         X1        X2        X3        X4  Y\n",
              "0  1.199653  1.258087  0.982863  1.000315  0\n",
              "1  1.203599  1.066451  0.534747  0.973330  0\n",
              "2  1.096427  1.184544  1.293702  1.381156  0\n",
              "3  0.958135  0.903461  0.918970  0.728722  0\n",
              "4  1.210144  1.158833  1.160851  1.295831  0"
            ]
          },
          "metadata": {},
          "execution_count": 4
        }
      ]
    },
    {
      "cell_type": "markdown",
      "metadata": {
        "id": "XQU3AvVaAd0h"
      },
      "source": [
        "# Exploring the data"
      ]
    },
    {
      "cell_type": "code",
      "metadata": {
        "colab": {
          "base_uri": "https://localhost:8080/"
        },
        "id": "EXAfccdHqheM",
        "outputId": "cb95f1d0-dbdb-4a68-afe3-c16f04a1f42f"
      },
      "source": [
        "df.columns"
      ],
      "execution_count": null,
      "outputs": [
        {
          "output_type": "execute_result",
          "data": {
            "text/plain": [
              "Index(['X1', 'X2', 'X3', 'X4', 'Y'], dtype='object')"
            ]
          },
          "metadata": {},
          "execution_count": 5
        }
      ]
    },
    {
      "cell_type": "code",
      "metadata": {
        "colab": {
          "base_uri": "https://localhost:8080/"
        },
        "id": "TIy5kXypNJmK",
        "outputId": "d6f20e3c-eb4a-4342-dff1-ccb19eb64efd"
      },
      "source": [
        "df.shape"
      ],
      "execution_count": null,
      "outputs": [
        {
          "output_type": "execute_result",
          "data": {
            "text/plain": [
              "(300, 5)"
            ]
          },
          "metadata": {},
          "execution_count": 6
        }
      ]
    },
    {
      "cell_type": "code",
      "metadata": {
        "colab": {
          "base_uri": "https://localhost:8080/",
          "height": 295
        },
        "id": "ffL-LacieIY9",
        "outputId": "b2326254-5b4c-4f5a-c48d-33cadfd1245c"
      },
      "source": [
        "df.describe()"
      ],
      "execution_count": null,
      "outputs": [
        {
          "output_type": "execute_result",
          "data": {
            "text/html": [
              "<div>\n",
              "<style scoped>\n",
              "    .dataframe tbody tr th:only-of-type {\n",
              "        vertical-align: middle;\n",
              "    }\n",
              "\n",
              "    .dataframe tbody tr th {\n",
              "        vertical-align: top;\n",
              "    }\n",
              "\n",
              "    .dataframe thead th {\n",
              "        text-align: right;\n",
              "    }\n",
              "</style>\n",
              "<table border=\"1\" class=\"dataframe\">\n",
              "  <thead>\n",
              "    <tr style=\"text-align: right;\">\n",
              "      <th></th>\n",
              "      <th>X1</th>\n",
              "      <th>X2</th>\n",
              "      <th>X3</th>\n",
              "      <th>X4</th>\n",
              "      <th>Y</th>\n",
              "    </tr>\n",
              "  </thead>\n",
              "  <tbody>\n",
              "    <tr>\n",
              "      <th>count</th>\n",
              "      <td>300.000000</td>\n",
              "      <td>300.000000</td>\n",
              "      <td>300.000000</td>\n",
              "      <td>300.000000</td>\n",
              "      <td>300.000000</td>\n",
              "    </tr>\n",
              "    <tr>\n",
              "      <th>mean</th>\n",
              "      <td>0.984215</td>\n",
              "      <td>0.997026</td>\n",
              "      <td>0.975882</td>\n",
              "      <td>1.009829</td>\n",
              "      <td>0.500000</td>\n",
              "    </tr>\n",
              "    <tr>\n",
              "      <th>std</th>\n",
              "      <td>0.269708</td>\n",
              "      <td>0.218569</td>\n",
              "      <td>0.238782</td>\n",
              "      <td>0.214174</td>\n",
              "      <td>0.500835</td>\n",
              "    </tr>\n",
              "    <tr>\n",
              "      <th>min</th>\n",
              "      <td>0.112605</td>\n",
              "      <td>0.361477</td>\n",
              "      <td>0.275235</td>\n",
              "      <td>0.297676</td>\n",
              "      <td>0.000000</td>\n",
              "    </tr>\n",
              "    <tr>\n",
              "      <th>25%</th>\n",
              "      <td>0.817970</td>\n",
              "      <td>0.872916</td>\n",
              "      <td>0.831546</td>\n",
              "      <td>0.885946</td>\n",
              "      <td>0.000000</td>\n",
              "    </tr>\n",
              "    <tr>\n",
              "      <th>50%</th>\n",
              "      <td>0.992419</td>\n",
              "      <td>0.978608</td>\n",
              "      <td>0.982293</td>\n",
              "      <td>1.007222</td>\n",
              "      <td>0.500000</td>\n",
              "    </tr>\n",
              "    <tr>\n",
              "      <th>75%</th>\n",
              "      <td>1.155689</td>\n",
              "      <td>1.115385</td>\n",
              "      <td>1.143743</td>\n",
              "      <td>1.136795</td>\n",
              "      <td>1.000000</td>\n",
              "    </tr>\n",
              "    <tr>\n",
              "      <th>max</th>\n",
              "      <td>1.817953</td>\n",
              "      <td>1.821522</td>\n",
              "      <td>1.594692</td>\n",
              "      <td>1.615540</td>\n",
              "      <td>1.000000</td>\n",
              "    </tr>\n",
              "  </tbody>\n",
              "</table>\n",
              "</div>"
            ],
            "text/plain": [
              "               X1          X2          X3          X4           Y\n",
              "count  300.000000  300.000000  300.000000  300.000000  300.000000\n",
              "mean     0.984215    0.997026    0.975882    1.009829    0.500000\n",
              "std      0.269708    0.218569    0.238782    0.214174    0.500835\n",
              "min      0.112605    0.361477    0.275235    0.297676    0.000000\n",
              "25%      0.817970    0.872916    0.831546    0.885946    0.000000\n",
              "50%      0.992419    0.978608    0.982293    1.007222    0.500000\n",
              "75%      1.155689    1.115385    1.143743    1.136795    1.000000\n",
              "max      1.817953    1.821522    1.594692    1.615540    1.000000"
            ]
          },
          "metadata": {},
          "execution_count": 7
        }
      ]
    },
    {
      "cell_type": "code",
      "metadata": {
        "colab": {
          "base_uri": "https://localhost:8080/"
        },
        "id": "bQ4bGQLFeI65",
        "outputId": "f729177d-9fc2-4554-ecf0-0b0260b5c814"
      },
      "source": [
        "df.isnull().sum()"
      ],
      "execution_count": null,
      "outputs": [
        {
          "output_type": "execute_result",
          "data": {
            "text/plain": [
              "X1    0\n",
              "X2    0\n",
              "X3    0\n",
              "X4    0\n",
              "Y     0\n",
              "dtype: int64"
            ]
          },
          "metadata": {},
          "execution_count": 8
        }
      ]
    },
    {
      "cell_type": "markdown",
      "metadata": {
        "id": "1FMLt15NlfMd"
      },
      "source": [
        "# Statistical and Consistency Analysis"
      ]
    },
    {
      "cell_type": "code",
      "metadata": {
        "colab": {
          "base_uri": "https://localhost:8080/"
        },
        "id": "pqzLZE5xeQor",
        "outputId": "4f4428e9-55a4-4ec3-f8d6-76efc2ff0987"
      },
      "source": [
        "df['Y'].value_counts()"
      ],
      "execution_count": null,
      "outputs": [
        {
          "output_type": "execute_result",
          "data": {
            "text/plain": [
              "1    150\n",
              "0    150\n",
              "Name: Y, dtype: int64"
            ]
          },
          "metadata": {},
          "execution_count": 9
        }
      ]
    },
    {
      "cell_type": "code",
      "metadata": {
        "colab": {
          "base_uri": "https://localhost:8080/",
          "height": 203
        },
        "id": "lOkeJsjjkz8U",
        "outputId": "7ceb458d-6d65-41dc-c77a-3c76f0dceec7"
      },
      "source": [
        "df_0 = df[df[\"Y\"] == 0]\n",
        "df_0.head()"
      ],
      "execution_count": null,
      "outputs": [
        {
          "output_type": "execute_result",
          "data": {
            "text/html": [
              "<div>\n",
              "<style scoped>\n",
              "    .dataframe tbody tr th:only-of-type {\n",
              "        vertical-align: middle;\n",
              "    }\n",
              "\n",
              "    .dataframe tbody tr th {\n",
              "        vertical-align: top;\n",
              "    }\n",
              "\n",
              "    .dataframe thead th {\n",
              "        text-align: right;\n",
              "    }\n",
              "</style>\n",
              "<table border=\"1\" class=\"dataframe\">\n",
              "  <thead>\n",
              "    <tr style=\"text-align: right;\">\n",
              "      <th></th>\n",
              "      <th>X1</th>\n",
              "      <th>X2</th>\n",
              "      <th>X3</th>\n",
              "      <th>X4</th>\n",
              "      <th>Y</th>\n",
              "    </tr>\n",
              "  </thead>\n",
              "  <tbody>\n",
              "    <tr>\n",
              "      <th>0</th>\n",
              "      <td>1.199653</td>\n",
              "      <td>1.258087</td>\n",
              "      <td>0.982863</td>\n",
              "      <td>1.000315</td>\n",
              "      <td>0</td>\n",
              "    </tr>\n",
              "    <tr>\n",
              "      <th>1</th>\n",
              "      <td>1.203599</td>\n",
              "      <td>1.066451</td>\n",
              "      <td>0.534747</td>\n",
              "      <td>0.973330</td>\n",
              "      <td>0</td>\n",
              "    </tr>\n",
              "    <tr>\n",
              "      <th>2</th>\n",
              "      <td>1.096427</td>\n",
              "      <td>1.184544</td>\n",
              "      <td>1.293702</td>\n",
              "      <td>1.381156</td>\n",
              "      <td>0</td>\n",
              "    </tr>\n",
              "    <tr>\n",
              "      <th>3</th>\n",
              "      <td>0.958135</td>\n",
              "      <td>0.903461</td>\n",
              "      <td>0.918970</td>\n",
              "      <td>0.728722</td>\n",
              "      <td>0</td>\n",
              "    </tr>\n",
              "    <tr>\n",
              "      <th>4</th>\n",
              "      <td>1.210144</td>\n",
              "      <td>1.158833</td>\n",
              "      <td>1.160851</td>\n",
              "      <td>1.295831</td>\n",
              "      <td>0</td>\n",
              "    </tr>\n",
              "  </tbody>\n",
              "</table>\n",
              "</div>"
            ],
            "text/plain": [
              "         X1        X2        X3        X4  Y\n",
              "0  1.199653  1.258087  0.982863  1.000315  0\n",
              "1  1.203599  1.066451  0.534747  0.973330  0\n",
              "2  1.096427  1.184544  1.293702  1.381156  0\n",
              "3  0.958135  0.903461  0.918970  0.728722  0\n",
              "4  1.210144  1.158833  1.160851  1.295831  0"
            ]
          },
          "metadata": {},
          "execution_count": 10
        }
      ]
    },
    {
      "cell_type": "code",
      "metadata": {
        "colab": {
          "base_uri": "https://localhost:8080/",
          "height": 304
        },
        "id": "Jgv_JBxmlA_Z",
        "outputId": "58a01eec-d01e-4fb8-9fb0-e35875b4b6e9"
      },
      "source": [
        "rp.summary_cont(df_0)"
      ],
      "execution_count": null,
      "outputs": [
        {
          "output_type": "stream",
          "name": "stdout",
          "text": [
            "\n",
            "\n"
          ]
        },
        {
          "output_type": "stream",
          "name": "stderr",
          "text": [
            "/usr/local/lib/python3.7/dist-packages/scipy/stats/_distn_infrastructure.py:2003: RuntimeWarning: invalid value encountered in multiply\n",
            "  lower_bound = _a * scale + loc\n",
            "/usr/local/lib/python3.7/dist-packages/scipy/stats/_distn_infrastructure.py:2004: RuntimeWarning: invalid value encountered in multiply\n",
            "  upper_bound = _b * scale + loc\n"
          ]
        },
        {
          "output_type": "execute_result",
          "data": {
            "text/html": [
              "<div>\n",
              "<style scoped>\n",
              "    .dataframe tbody tr th:only-of-type {\n",
              "        vertical-align: middle;\n",
              "    }\n",
              "\n",
              "    .dataframe tbody tr th {\n",
              "        vertical-align: top;\n",
              "    }\n",
              "\n",
              "    .dataframe thead th {\n",
              "        text-align: right;\n",
              "    }\n",
              "</style>\n",
              "<table border=\"1\" class=\"dataframe\">\n",
              "  <thead>\n",
              "    <tr style=\"text-align: right;\">\n",
              "      <th></th>\n",
              "      <th>Variable</th>\n",
              "      <th>N</th>\n",
              "      <th>Mean</th>\n",
              "      <th>SD</th>\n",
              "      <th>SE</th>\n",
              "      <th>95% Conf.</th>\n",
              "      <th>Interval</th>\n",
              "    </tr>\n",
              "  </thead>\n",
              "  <tbody>\n",
              "    <tr>\n",
              "      <th>0</th>\n",
              "      <td>X1</td>\n",
              "      <td>150.0</td>\n",
              "      <td>1.0140</td>\n",
              "      <td>0.2564</td>\n",
              "      <td>0.0209</td>\n",
              "      <td>0.9726</td>\n",
              "      <td>1.0554</td>\n",
              "    </tr>\n",
              "    <tr>\n",
              "      <th>1</th>\n",
              "      <td>X2</td>\n",
              "      <td>150.0</td>\n",
              "      <td>1.0245</td>\n",
              "      <td>0.2659</td>\n",
              "      <td>0.0217</td>\n",
              "      <td>0.9816</td>\n",
              "      <td>1.0674</td>\n",
              "    </tr>\n",
              "    <tr>\n",
              "      <th>2</th>\n",
              "      <td>X3</td>\n",
              "      <td>150.0</td>\n",
              "      <td>0.9934</td>\n",
              "      <td>0.2562</td>\n",
              "      <td>0.0209</td>\n",
              "      <td>0.9521</td>\n",
              "      <td>1.0348</td>\n",
              "    </tr>\n",
              "    <tr>\n",
              "      <th>3</th>\n",
              "      <td>X4</td>\n",
              "      <td>150.0</td>\n",
              "      <td>1.0220</td>\n",
              "      <td>0.2699</td>\n",
              "      <td>0.0220</td>\n",
              "      <td>0.9785</td>\n",
              "      <td>1.0656</td>\n",
              "    </tr>\n",
              "    <tr>\n",
              "      <th>4</th>\n",
              "      <td>Y</td>\n",
              "      <td>150.0</td>\n",
              "      <td>0.0000</td>\n",
              "      <td>0.0000</td>\n",
              "      <td>0.0000</td>\n",
              "      <td>NaN</td>\n",
              "      <td>NaN</td>\n",
              "    </tr>\n",
              "  </tbody>\n",
              "</table>\n",
              "</div>"
            ],
            "text/plain": [
              "  Variable      N    Mean      SD      SE  95% Conf.  Interval\n",
              "0       X1  150.0  1.0140  0.2564  0.0209     0.9726    1.0554\n",
              "1       X2  150.0  1.0245  0.2659  0.0217     0.9816    1.0674\n",
              "2       X3  150.0  0.9934  0.2562  0.0209     0.9521    1.0348\n",
              "3       X4  150.0  1.0220  0.2699  0.0220     0.9785    1.0656\n",
              "4        Y  150.0  0.0000  0.0000  0.0000        NaN       NaN"
            ]
          },
          "metadata": {},
          "execution_count": 11
        }
      ]
    },
    {
      "cell_type": "code",
      "metadata": {
        "colab": {
          "base_uri": "https://localhost:8080/"
        },
        "id": "RMoRTwMVlECZ",
        "outputId": "288e801a-cada-4212-8b59-76125072144f"
      },
      "source": [
        "np.var(df_0)"
      ],
      "execution_count": null,
      "outputs": [
        {
          "output_type": "execute_result",
          "data": {
            "text/plain": [
              "X1    0.065321\n",
              "X2    0.070223\n",
              "X3    0.065216\n",
              "X4    0.072375\n",
              "Y     0.000000\n",
              "dtype: float64"
            ]
          },
          "metadata": {},
          "execution_count": 12
        }
      ]
    },
    {
      "cell_type": "code",
      "metadata": {
        "colab": {
          "base_uri": "https://localhost:8080/"
        },
        "id": "XQvbaNNMlHGh",
        "outputId": "a4b00468-b4f3-4e45-dcd2-bf33f2c39cc3"
      },
      "source": [
        "scipy.stats.skew(df_0)"
      ],
      "execution_count": null,
      "outputs": [
        {
          "output_type": "execute_result",
          "data": {
            "text/plain": [
              "array([ 0.15162464,  0.09322401, -0.21753477, -0.26294601,  0.        ])"
            ]
          },
          "metadata": {},
          "execution_count": 13
        }
      ]
    },
    {
      "cell_type": "code",
      "metadata": {
        "colab": {
          "base_uri": "https://localhost:8080/",
          "height": 203
        },
        "id": "SAdpdnR6lRXs",
        "outputId": "8ea993ad-16e9-4a0a-e828-be2590906668"
      },
      "source": [
        "df_1 = df[df[\"Y\"] == 1]\n",
        "df_1.head()"
      ],
      "execution_count": null,
      "outputs": [
        {
          "output_type": "execute_result",
          "data": {
            "text/html": [
              "<div>\n",
              "<style scoped>\n",
              "    .dataframe tbody tr th:only-of-type {\n",
              "        vertical-align: middle;\n",
              "    }\n",
              "\n",
              "    .dataframe tbody tr th {\n",
              "        vertical-align: top;\n",
              "    }\n",
              "\n",
              "    .dataframe thead th {\n",
              "        text-align: right;\n",
              "    }\n",
              "</style>\n",
              "<table border=\"1\" class=\"dataframe\">\n",
              "  <thead>\n",
              "    <tr style=\"text-align: right;\">\n",
              "      <th></th>\n",
              "      <th>X1</th>\n",
              "      <th>X2</th>\n",
              "      <th>X3</th>\n",
              "      <th>X4</th>\n",
              "      <th>Y</th>\n",
              "    </tr>\n",
              "  </thead>\n",
              "  <tbody>\n",
              "    <tr>\n",
              "      <th>150</th>\n",
              "      <td>1.246710</td>\n",
              "      <td>1.475663</td>\n",
              "      <td>1.442320</td>\n",
              "      <td>1.190811</td>\n",
              "      <td>1</td>\n",
              "    </tr>\n",
              "    <tr>\n",
              "      <th>151</th>\n",
              "      <td>0.802927</td>\n",
              "      <td>0.952989</td>\n",
              "      <td>1.166173</td>\n",
              "      <td>1.194620</td>\n",
              "      <td>1</td>\n",
              "    </tr>\n",
              "    <tr>\n",
              "      <th>152</th>\n",
              "      <td>0.772094</td>\n",
              "      <td>0.870613</td>\n",
              "      <td>0.873834</td>\n",
              "      <td>0.995232</td>\n",
              "      <td>1</td>\n",
              "    </tr>\n",
              "    <tr>\n",
              "      <th>153</th>\n",
              "      <td>0.913758</td>\n",
              "      <td>1.088622</td>\n",
              "      <td>1.006829</td>\n",
              "      <td>1.142419</td>\n",
              "      <td>1</td>\n",
              "    </tr>\n",
              "    <tr>\n",
              "      <th>154</th>\n",
              "      <td>1.086913</td>\n",
              "      <td>1.221481</td>\n",
              "      <td>0.948968</td>\n",
              "      <td>1.087318</td>\n",
              "      <td>1</td>\n",
              "    </tr>\n",
              "  </tbody>\n",
              "</table>\n",
              "</div>"
            ],
            "text/plain": [
              "           X1        X2        X3        X4  Y\n",
              "150  1.246710  1.475663  1.442320  1.190811  1\n",
              "151  0.802927  0.952989  1.166173  1.194620  1\n",
              "152  0.772094  0.870613  0.873834  0.995232  1\n",
              "153  0.913758  1.088622  1.006829  1.142419  1\n",
              "154  1.086913  1.221481  0.948968  1.087318  1"
            ]
          },
          "metadata": {},
          "execution_count": 14
        }
      ]
    },
    {
      "cell_type": "code",
      "metadata": {
        "colab": {
          "base_uri": "https://localhost:8080/",
          "height": 304
        },
        "id": "lqh7WYj5lTzt",
        "outputId": "8d617088-0a1b-4da1-b559-40ddc5608403"
      },
      "source": [
        "rp.summary_cont(df_1)"
      ],
      "execution_count": null,
      "outputs": [
        {
          "output_type": "stream",
          "name": "stdout",
          "text": [
            "\n",
            "\n"
          ]
        },
        {
          "output_type": "stream",
          "name": "stderr",
          "text": [
            "/usr/local/lib/python3.7/dist-packages/scipy/stats/_distn_infrastructure.py:2003: RuntimeWarning: invalid value encountered in multiply\n",
            "  lower_bound = _a * scale + loc\n",
            "/usr/local/lib/python3.7/dist-packages/scipy/stats/_distn_infrastructure.py:2004: RuntimeWarning: invalid value encountered in multiply\n",
            "  upper_bound = _b * scale + loc\n"
          ]
        },
        {
          "output_type": "execute_result",
          "data": {
            "text/html": [
              "<div>\n",
              "<style scoped>\n",
              "    .dataframe tbody tr th:only-of-type {\n",
              "        vertical-align: middle;\n",
              "    }\n",
              "\n",
              "    .dataframe tbody tr th {\n",
              "        vertical-align: top;\n",
              "    }\n",
              "\n",
              "    .dataframe thead th {\n",
              "        text-align: right;\n",
              "    }\n",
              "</style>\n",
              "<table border=\"1\" class=\"dataframe\">\n",
              "  <thead>\n",
              "    <tr style=\"text-align: right;\">\n",
              "      <th></th>\n",
              "      <th>Variable</th>\n",
              "      <th>N</th>\n",
              "      <th>Mean</th>\n",
              "      <th>SD</th>\n",
              "      <th>SE</th>\n",
              "      <th>95% Conf.</th>\n",
              "      <th>Interval</th>\n",
              "    </tr>\n",
              "  </thead>\n",
              "  <tbody>\n",
              "    <tr>\n",
              "      <th>0</th>\n",
              "      <td>X1</td>\n",
              "      <td>150.0</td>\n",
              "      <td>0.9544</td>\n",
              "      <td>0.2800</td>\n",
              "      <td>0.0229</td>\n",
              "      <td>0.9092</td>\n",
              "      <td>0.9996</td>\n",
              "    </tr>\n",
              "    <tr>\n",
              "      <th>1</th>\n",
              "      <td>X2</td>\n",
              "      <td>150.0</td>\n",
              "      <td>0.9696</td>\n",
              "      <td>0.1538</td>\n",
              "      <td>0.0126</td>\n",
              "      <td>0.9447</td>\n",
              "      <td>0.9944</td>\n",
              "    </tr>\n",
              "    <tr>\n",
              "      <th>2</th>\n",
              "      <td>X3</td>\n",
              "      <td>150.0</td>\n",
              "      <td>0.9583</td>\n",
              "      <td>0.2194</td>\n",
              "      <td>0.0179</td>\n",
              "      <td>0.9229</td>\n",
              "      <td>0.9937</td>\n",
              "    </tr>\n",
              "    <tr>\n",
              "      <th>3</th>\n",
              "      <td>X4</td>\n",
              "      <td>150.0</td>\n",
              "      <td>0.9976</td>\n",
              "      <td>0.1374</td>\n",
              "      <td>0.0112</td>\n",
              "      <td>0.9755</td>\n",
              "      <td>1.0198</td>\n",
              "    </tr>\n",
              "    <tr>\n",
              "      <th>4</th>\n",
              "      <td>Y</td>\n",
              "      <td>150.0</td>\n",
              "      <td>1.0000</td>\n",
              "      <td>0.0000</td>\n",
              "      <td>0.0000</td>\n",
              "      <td>NaN</td>\n",
              "      <td>NaN</td>\n",
              "    </tr>\n",
              "  </tbody>\n",
              "</table>\n",
              "</div>"
            ],
            "text/plain": [
              "  Variable      N    Mean      SD      SE  95% Conf.  Interval\n",
              "0       X1  150.0  0.9544  0.2800  0.0229     0.9092    0.9996\n",
              "1       X2  150.0  0.9696  0.1538  0.0126     0.9447    0.9944\n",
              "2       X3  150.0  0.9583  0.2194  0.0179     0.9229    0.9937\n",
              "3       X4  150.0  0.9976  0.1374  0.0112     0.9755    1.0198\n",
              "4        Y  150.0  1.0000  0.0000  0.0000        NaN       NaN"
            ]
          },
          "metadata": {},
          "execution_count": 15
        }
      ]
    },
    {
      "cell_type": "code",
      "metadata": {
        "colab": {
          "base_uri": "https://localhost:8080/"
        },
        "id": "cUj2PjYDlWZh",
        "outputId": "3a75d05d-1c14-40c5-e904-642d12b01d88"
      },
      "source": [
        "np.var(df_1)"
      ],
      "execution_count": null,
      "outputs": [
        {
          "output_type": "execute_result",
          "data": {
            "text/plain": [
              "X1    0.077903\n",
              "X2    0.023494\n",
              "X3    0.047822\n",
              "X4    0.018762\n",
              "Y     0.000000\n",
              "dtype: float64"
            ]
          },
          "metadata": {},
          "execution_count": 16
        }
      ]
    },
    {
      "cell_type": "code",
      "metadata": {
        "colab": {
          "base_uri": "https://localhost:8080/"
        },
        "id": "8DqolyJTlZFp",
        "outputId": "23d7bbba-51a4-489a-a11d-bca7a2746e2b"
      },
      "source": [
        "scipy.stats.skew(df_1)"
      ],
      "execution_count": null,
      "outputs": [
        {
          "output_type": "execute_result",
          "data": {
            "text/plain": [
              "array([-0.20842954, -0.02883173, -0.14427437,  0.01866206,  0.        ])"
            ]
          },
          "metadata": {},
          "execution_count": 17
        }
      ]
    },
    {
      "cell_type": "markdown",
      "metadata": {
        "id": "XrbKQ4G51xIu"
      },
      "source": [
        "# No difference is present between the number of instances for classes 0 and 1. Hence, it can be attributed as an balanced dataset."
      ]
    },
    {
      "cell_type": "markdown",
      "metadata": {
        "id": "FJx5CLIP12Cv"
      },
      "source": [
        "# Plotting of data points for all the 6 combinations of the different features, in order to visualise overlapping."
      ]
    },
    {
      "cell_type": "code",
      "metadata": {
        "colab": {
          "base_uri": "https://localhost:8080/",
          "height": 265
        },
        "id": "dOHqe23cqOho",
        "outputId": "87db6f2c-63ac-40d8-93d3-e3aa7fe9c4ff"
      },
      "source": [
        "for i in range(len(df)):\n",
        "  x1=df.iloc[i,0]\n",
        "  x2=df.iloc[i,1]\n",
        "  x3=df.iloc[i,2]\n",
        "  x4=df.iloc[i,3]\n",
        "  y=df.iloc[i,4]\n",
        "  if(y==0):\n",
        "    plt.scatter(x1,x2,color='red')\n",
        "  else:\n",
        "    plt.scatter(x1,x2,color='blue')\n",
        "plt.show()"
      ],
      "execution_count": null,
      "outputs": [
        {
          "output_type": "display_data",
          "data": {
            "image/png": "[encoded data removed]",
            "text/plain": [
              "<Figure size 432x288 with 1 Axes>"
            ]
          },
          "metadata": {
            "needs_background": "light"
          }
        }
      ]
    },
    {
      "cell_type": "code",
      "metadata": {
        "colab": {
          "base_uri": "https://localhost:8080/",
          "height": 265
        },
        "id": "3cyYQ8JZqRF5",
        "outputId": "cd1530b8-98cc-4ecd-d0be-415e287b4744"
      },
      "source": [
        "for i in range(len(df)):\n",
        "  x1=df.iloc[i,0]\n",
        "  x2=df.iloc[i,1]\n",
        "  x3=df.iloc[i,2]\n",
        "  x4=df.iloc[i,3]\n",
        "  y=df.iloc[i,4]\n",
        "  if(y==0):\n",
        "    plt.scatter(x1,x3,color='red')\n",
        "  else:\n",
        "    plt.scatter(x1,x3,color='blue')\n",
        "plt.show()"
      ],
      "execution_count": null,
      "outputs": [
        {
          "output_type": "display_data",
          "data": {
            "image/png": "[encoded data removed]",
            "text/plain": [
              "<Figure size 432x288 with 1 Axes>"
            ]
          },
          "metadata": {
            "needs_background": "light"
          }
        }
      ]
    },
    {
      "cell_type": "code",
      "metadata": {
        "colab": {
          "base_uri": "https://localhost:8080/",
          "height": 265
        },
        "id": "7poC4FNjqTRv",
        "outputId": "9765eddd-a232-4d4d-d282-603de87f8898"
      },
      "source": [
        "for i in range(len(df)):\n",
        "  x1=df.iloc[i,0]\n",
        "  x2=df.iloc[i,1]\n",
        "  x3=df.iloc[i,2]\n",
        "  x4=df.iloc[i,3]\n",
        "  y=df.iloc[i,4]\n",
        "  if(y==0):\n",
        "    plt.scatter(x1,x4,color='red')\n",
        "  else:\n",
        "    plt.scatter(x1,x4,color='blue')\n",
        "plt.show()"
      ],
      "execution_count": null,
      "outputs": [
        {
          "output_type": "display_data",
          "data": {
            "image/png": "[encoded data removed]",
            "text/plain": [
              "<Figure size 432x288 with 1 Axes>"
            ]
          },
          "metadata": {
            "needs_background": "light"
          }
        }
      ]
    },
    {
      "cell_type": "code",
      "metadata": {
        "colab": {
          "base_uri": "https://localhost:8080/",
          "height": 265
        },
        "id": "gLOCJNh-0sW0",
        "outputId": "d5c91e91-a84a-4605-eb78-acc3915ce125"
      },
      "source": [
        "for i in range(len(df)):\n",
        "  x1=df.iloc[i,0]\n",
        "  x2=df.iloc[i,1]\n",
        "  x3=df.iloc[i,2]\n",
        "  x4=df.iloc[i,3]\n",
        "  y=df.iloc[i,4]\n",
        "  if(y==0):\n",
        "    plt.scatter(x2,x3,color='red')\n",
        "  else:\n",
        "    plt.scatter(x2,x3,color='blue')\n",
        "plt.show()"
      ],
      "execution_count": null,
      "outputs": [
        {
          "output_type": "display_data",
          "data": {
            "image/png": "[encoded data removed]",
            "text/plain": [
              "<Figure size 432x288 with 1 Axes>"
            ]
          },
          "metadata": {
            "needs_background": "light"
          }
        }
      ]
    },
    {
      "cell_type": "code",
      "metadata": {
        "colab": {
          "base_uri": "https://localhost:8080/",
          "height": 265
        },
        "id": "Cwsyyi2a03gK",
        "outputId": "9920494e-c053-40c9-a4d1-2bbb44d444c0"
      },
      "source": [
        "for i in range(len(df)):\n",
        "  x1=df.iloc[i,0]\n",
        "  x2=df.iloc[i,1]\n",
        "  x3=df.iloc[i,2]\n",
        "  x4=df.iloc[i,3]\n",
        "  y=df.iloc[i,4]\n",
        "  if(y==0):\n",
        "    plt.scatter(x2,x4,color='red')\n",
        "  else:\n",
        "    plt.scatter(x2,x4,color='blue')\n",
        "plt.show()"
      ],
      "execution_count": null,
      "outputs": [
        {
          "output_type": "display_data",
          "data": {
            "image/png": "[encoded data removed]",
            "text/plain": [
              "<Figure size 432x288 with 1 Axes>"
            ]
          },
          "metadata": {
            "needs_background": "light"
          }
        }
      ]
    },
    {
      "cell_type": "code",
      "metadata": {
        "colab": {
          "base_uri": "https://localhost:8080/",
          "height": 265
        },
        "id": "pIJZI5UN097E",
        "outputId": "1d65fbdc-4327-40f5-e9fc-da238368a01c"
      },
      "source": [
        "for i in range(len(df)):\n",
        "  x1=df.iloc[i,0]\n",
        "  x2=df.iloc[i,1]\n",
        "  x3=df.iloc[i,2]\n",
        "  x4=df.iloc[i,3]\n",
        "  y=df.iloc[i,4]\n",
        "  if(y==0):\n",
        "    plt.scatter(x3,x4,color='red')\n",
        "  else:\n",
        "    plt.scatter(x3,x4,color='blue')\n",
        "plt.show()"
      ],
      "execution_count": null,
      "outputs": [
        {
          "output_type": "display_data",
          "data": {
            "image/png": "[encoded data removed]",
            "text/plain": [
              "<Figure size 432x288 with 1 Axes>"
            ]
          },
          "metadata": {
            "needs_background": "light"
          }
        }
      ]
    },
    {
      "cell_type": "markdown",
      "metadata": {
        "id": "Rr-18FnG2G7I"
      },
      "source": [
        "# Hence, it can be confirmed from the above scatter plots that all of the features overlap with one another as expected."
      ]
    },
    {
      "cell_type": "markdown",
      "metadata": {
        "id": "9SP8666Lrv8R"
      },
      "source": [
        "# Data Splicing"
      ]
    },
    {
      "cell_type": "code",
      "metadata": {
        "id": "YrLrulaoec4k"
      },
      "source": [
        "x=df.drop('Y',axis=1)\n",
        "y=df['Y']"
      ],
      "execution_count": null,
      "outputs": []
    },
    {
      "cell_type": "code",
      "metadata": {
        "id": "x618sr8-epVL"
      },
      "source": [
        "x_train,x_test,y_train,y_test=train_test_split(x,y,test_size=0.25,random_state=1)"
      ],
      "execution_count": null,
      "outputs": []
    },
    {
      "cell_type": "markdown",
      "metadata": {
        "id": "YS1_8gW6rIIX"
      },
      "source": [
        "# Decision Tree Clasiifier"
      ]
    },
    {
      "cell_type": "code",
      "metadata": {
        "colab": {
          "base_uri": "https://localhost:8080/"
        },
        "id": "sFEH9j1MrLge",
        "outputId": "e6ce35a9-bd62-4c76-ec6e-2322c5f9e565"
      },
      "source": [
        "tree = DecisionTreeClassifier()\n",
        "tree_fit = tree.fit(x_train,y_train)\n",
        "y_pred = tree_fit.predict(x_test)\n",
        "print(\"Accuracy Score = %.3f\" %accuracy_score(y_test,y_pred))\n",
        "print(\"\\nConfusion Matrix : \\n\", confusion_matrix(y_test,y_pred))\n",
        "print(\"\\nClassification Report : \\n\", classification_report(y_test,y_pred))\n",
        "v_acc = cross_val_score(tree, x_train, y_train, cv=10, scoring='accuracy')\n",
        "v_pre = cross_val_score(tree, x_train, y_train, cv=10, scoring='precision')\n",
        "v_rec = cross_val_score(tree, x_train, y_train, cv=10, scoring='recall')\n",
        "print(\"\\nAccuracy using 10 fold Cross validation = \",v_acc.mean())\n",
        "print(\"\\nPrecision using 10 fold Cross validation = \",v_pre.mean())\n",
        "print(\"\\nRecall using 10 fold Cross validation = \",v_rec.mean())"
      ],
      "execution_count": null,
      "outputs": [
        {
          "output_type": "stream",
          "name": "stdout",
          "text": [
            "Accuracy Score = 0.800\n",
            "\n",
            "Confusion Matrix : \n",
            " [[26 10]\n",
            " [ 5 34]]\n",
            "\n",
            "Classification Report : \n",
            "               precision    recall  f1-score   support\n",
            "\n",
            "           0       0.84      0.72      0.78        36\n",
            "           1       0.77      0.87      0.82        39\n",
            "\n",
            "    accuracy                           0.80        75\n",
            "   macro avg       0.81      0.80      0.80        75\n",
            "weighted avg       0.80      0.80      0.80        75\n",
            "\n",
            "\n",
            "Accuracy using 10 fold Cross validation =  0.7021739130434782\n",
            "\n",
            "Precision using 10 fold Cross validation =  0.7274475524475525\n",
            "\n",
            "Recall using 10 fold Cross validation =  0.6954545454545455\n"
          ]
        }
      ]
    },
    {
      "cell_type": "markdown",
      "metadata": {
        "id": "75NKMIkwrB7-"
      },
      "source": [
        "# KNN Classifier"
      ]
    },
    {
      "cell_type": "code",
      "metadata": {
        "colab": {
          "base_uri": "https://localhost:8080/"
        },
        "id": "btQoZu5eibnz",
        "outputId": "b1e724c0-44f4-46da-fa65-8916a7650267"
      },
      "source": [
        "knn = KNeighborsClassifier(n_neighbors = 3)\n",
        "knn_fit = knn.fit(x_train,y_train)\n",
        "y_pred = knn_fit.predict(x_test)\n",
        "print(\"Accuracy Score = %.3f\" %accuracy_score(y_test,y_pred))\n",
        "print(\"\\nConfusion Matrix : \\n\", confusion_matrix(y_test,y_pred))\n",
        "print(\"\\nClassification Report : \\n\", classification_report(y_test,y_pred))\n",
        "v_acc = cross_val_score(knn, x_train, y_train, cv=10, scoring='accuracy')\n",
        "v_pre = cross_val_score(knn, x_train, y_train, cv=10, scoring='precision')\n",
        "v_rec = cross_val_score(knn, x_train, y_train, cv=10, scoring='recall')\n",
        "print(\"\\nAccuracy using 10 fold Cross validation = \",v_acc.mean())\n",
        "print(\"\\nPrecision using 10 fold Cross validation = \",v_pre.mean())\n",
        "print(\"\\nRecall using 10 fold Cross validation = \",v_rec.mean())"
      ],
      "execution_count": null,
      "outputs": [
        {
          "output_type": "stream",
          "name": "stdout",
          "text": [
            "Accuracy Score = 0.800\n",
            "\n",
            "Confusion Matrix : \n",
            " [[26 10]\n",
            " [ 5 34]]\n",
            "\n",
            "Classification Report : \n",
            "               precision    recall  f1-score   support\n",
            "\n",
            "           0       0.84      0.72      0.78        36\n",
            "           1       0.77      0.87      0.82        39\n",
            "\n",
            "    accuracy                           0.80        75\n",
            "   macro avg       0.81      0.80      0.80        75\n",
            "weighted avg       0.80      0.80      0.80        75\n",
            "\n",
            "\n",
            "Accuracy using 10 fold Cross validation =  0.7964426877470355\n",
            "\n",
            "Precision using 10 fold Cross validation =  0.7604062604062604\n",
            "\n",
            "Recall using 10 fold Cross validation =  0.8469696969696969\n"
          ]
        }
      ]
    },
    {
      "cell_type": "markdown",
      "metadata": {
        "id": "vExHMhwPrE7p"
      },
      "source": [
        "# SVM Classifier"
      ]
    },
    {
      "cell_type": "code",
      "metadata": {
        "colab": {
          "base_uri": "https://localhost:8080/"
        },
        "id": "Cy6JZJZjrSJt",
        "outputId": "90162ba2-16a2-4801-c318-6635c2aec81f"
      },
      "source": [
        "mod = SVC()\n",
        "mod_fit = mod.fit(x_train,y_train)\n",
        "y_pred = mod_fit.predict(x_test)\n",
        "print(\"Accuracy Score = %.3f\" %accuracy_score(y_test,y_pred))\n",
        "print(\"\\nConfusion Matrix : \\n\", confusion_matrix(y_test,y_pred))\n",
        "print(\"\\nClassification Report : \\n\", classification_report(y_test,y_pred))\n",
        "v_acc = cross_val_score(mod, x_train, y_train, cv=10, scoring='accuracy')\n",
        "v_pre = cross_val_score(mod, x_train, y_train, cv=10, scoring='precision')\n",
        "v_rec = cross_val_score(mod, x_train, y_train, cv=10, scoring='recall')\n",
        "print(\"\\nAccuracy using 10 fold Cross validation = \",v_acc.mean())\n",
        "print(\"\\nPrecision using 10 fold Cross validation = \",v_pre.mean())\n",
        "print(\"\\nRecall using 10 fold Cross validation = \",v_rec.mean())"
      ],
      "execution_count": null,
      "outputs": [
        {
          "output_type": "stream",
          "name": "stdout",
          "text": [
            "Accuracy Score = 0.853\n",
            "\n",
            "Confusion Matrix : \n",
            " [[28  8]\n",
            " [ 3 36]]\n",
            "\n",
            "Classification Report : \n",
            "               precision    recall  f1-score   support\n",
            "\n",
            "           0       0.90      0.78      0.84        36\n",
            "           1       0.82      0.92      0.87        39\n",
            "\n",
            "    accuracy                           0.85        75\n",
            "   macro avg       0.86      0.85      0.85        75\n",
            "weighted avg       0.86      0.85      0.85        75\n",
            "\n",
            "\n",
            "Accuracy using 10 fold Cross validation =  0.7772727272727272\n",
            "\n",
            "Precision using 10 fold Cross validation =  0.7203208229678818\n",
            "\n",
            "Recall using 10 fold Cross validation =  0.9098484848484848\n"
          ]
        }
      ]
    }
  ]
}